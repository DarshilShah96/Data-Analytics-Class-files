{
 "cells": [
  {
   "cell_type": "code",
   "execution_count": 2,
   "metadata": {},
   "outputs": [],
   "source": [
    "import pandas as pd\n",
    "import matplotlib.pyplot as plt\n",
    "import seaborn as sns\n",
    "import numpy as np\n"
   ]
  },
  {
   "cell_type": "code",
   "execution_count": 3,
   "metadata": {},
   "outputs": [],
   "source": [
    "covid = pd.read_csv('covid(1).csv',index_col=0)\n"
   ]
  },
  {
   "cell_type": "code",
   "execution_count": 4,
   "metadata": {},
   "outputs": [
    {
     "data": {
      "text/plain": [
       "sex               False\n",
       "patient_type      False\n",
       "entry_date        False\n",
       "date_symptoms     False\n",
       "date_died         False\n",
       "intubed           False\n",
       "pneumonia         False\n",
       "age               False\n",
       "diabetes          False\n",
       "hypertension      False\n",
       "other_disease     False\n",
       "cardiovascular    False\n",
       "obesity           False\n",
       "tobacco           False\n",
       "covid_res         False\n",
       "icu               False\n",
       "age_group         False\n",
       "dtype: bool"
      ]
     },
     "execution_count": 4,
     "metadata": {},
     "output_type": "execute_result"
    }
   ],
   "source": [
    "# covid = covid.replace({'Data Data missing':np.nan, 'Data missing':np.nan})\n",
    "covid.isnull().any()\n"
   ]
  },
  {
   "cell_type": "code",
   "execution_count": 5,
   "metadata": {},
   "outputs": [
    {
     "data": {
      "text/html": [
       "<div>\n",
       "<style scoped>\n",
       "    .dataframe tbody tr th:only-of-type {\n",
       "        vertical-align: middle;\n",
       "    }\n",
       "\n",
       "    .dataframe tbody tr th {\n",
       "        vertical-align: top;\n",
       "    }\n",
       "\n",
       "    .dataframe thead th {\n",
       "        text-align: right;\n",
       "    }\n",
       "</style>\n",
       "<table border=\"1\" class=\"dataframe\">\n",
       "  <thead>\n",
       "    <tr style=\"text-align: right;\">\n",
       "      <th></th>\n",
       "      <th>sex</th>\n",
       "      <th>patient_type</th>\n",
       "      <th>entry_date</th>\n",
       "      <th>date_symptoms</th>\n",
       "      <th>date_died</th>\n",
       "      <th>intubed</th>\n",
       "      <th>pneumonia</th>\n",
       "      <th>age</th>\n",
       "      <th>diabetes</th>\n",
       "      <th>hypertension</th>\n",
       "      <th>other_disease</th>\n",
       "      <th>cardiovascular</th>\n",
       "      <th>obesity</th>\n",
       "      <th>tobacco</th>\n",
       "      <th>covid_res</th>\n",
       "      <th>icu</th>\n",
       "      <th>age_group</th>\n",
       "    </tr>\n",
       "    <tr>\n",
       "      <th>id</th>\n",
       "      <th></th>\n",
       "      <th></th>\n",
       "      <th></th>\n",
       "      <th></th>\n",
       "      <th></th>\n",
       "      <th></th>\n",
       "      <th></th>\n",
       "      <th></th>\n",
       "      <th></th>\n",
       "      <th></th>\n",
       "      <th></th>\n",
       "      <th></th>\n",
       "      <th></th>\n",
       "      <th></th>\n",
       "      <th></th>\n",
       "      <th></th>\n",
       "      <th></th>\n",
       "    </tr>\n",
       "  </thead>\n",
       "  <tbody>\n",
       "    <tr>\n",
       "      <th>16169f</th>\n",
       "      <td>Male</td>\n",
       "      <td>Outpatient</td>\n",
       "      <td>4/5/2020</td>\n",
       "      <td>2/5/2020</td>\n",
       "      <td>9999-99-99</td>\n",
       "      <td>Data Data missing</td>\n",
       "      <td>No</td>\n",
       "      <td>27</td>\n",
       "      <td>No</td>\n",
       "      <td>No</td>\n",
       "      <td>No</td>\n",
       "      <td>No</td>\n",
       "      <td>No</td>\n",
       "      <td>No</td>\n",
       "      <td>Positive</td>\n",
       "      <td>Data missing</td>\n",
       "      <td>20-30</td>\n",
       "    </tr>\n",
       "    <tr>\n",
       "      <th>1009bf</th>\n",
       "      <td>Male</td>\n",
       "      <td>Outpatient</td>\n",
       "      <td>19-03-2020</td>\n",
       "      <td>17-03-2020</td>\n",
       "      <td>9999-99-99</td>\n",
       "      <td>Data missing</td>\n",
       "      <td>No</td>\n",
       "      <td>24</td>\n",
       "      <td>No</td>\n",
       "      <td>No</td>\n",
       "      <td>No</td>\n",
       "      <td>No</td>\n",
       "      <td>No</td>\n",
       "      <td>No</td>\n",
       "      <td>Positive</td>\n",
       "      <td>Data missing</td>\n",
       "      <td>20-30</td>\n",
       "    </tr>\n",
       "    <tr>\n",
       "      <th>167386</th>\n",
       "      <td>Female</td>\n",
       "      <td>Inpatient</td>\n",
       "      <td>6/4/2020</td>\n",
       "      <td>1/4/2020</td>\n",
       "      <td>9999-99-99</td>\n",
       "      <td>No</td>\n",
       "      <td>No</td>\n",
       "      <td>54</td>\n",
       "      <td>No</td>\n",
       "      <td>No</td>\n",
       "      <td>No</td>\n",
       "      <td>No</td>\n",
       "      <td>Yes</td>\n",
       "      <td>No</td>\n",
       "      <td>Positive</td>\n",
       "      <td>No</td>\n",
       "      <td>50-60</td>\n",
       "    </tr>\n",
       "    <tr>\n",
       "      <th>0b5948</th>\n",
       "      <td>Male</td>\n",
       "      <td>Inpatient</td>\n",
       "      <td>17-04-2020</td>\n",
       "      <td>10/4/2020</td>\n",
       "      <td>9999-99-99</td>\n",
       "      <td>No</td>\n",
       "      <td>Yes</td>\n",
       "      <td>30</td>\n",
       "      <td>No</td>\n",
       "      <td>No</td>\n",
       "      <td>No</td>\n",
       "      <td>No</td>\n",
       "      <td>No</td>\n",
       "      <td>No</td>\n",
       "      <td>Positive</td>\n",
       "      <td>No</td>\n",
       "      <td>20-30</td>\n",
       "    </tr>\n",
       "    <tr>\n",
       "      <th>0d01b5</th>\n",
       "      <td>Female</td>\n",
       "      <td>Inpatient</td>\n",
       "      <td>13-04-2020</td>\n",
       "      <td>13-04-2020</td>\n",
       "      <td>22-04-2020</td>\n",
       "      <td>No</td>\n",
       "      <td>No</td>\n",
       "      <td>60</td>\n",
       "      <td>Yes</td>\n",
       "      <td>Yes</td>\n",
       "      <td>No</td>\n",
       "      <td>Yes</td>\n",
       "      <td>No</td>\n",
       "      <td>No</td>\n",
       "      <td>Positive</td>\n",
       "      <td>No</td>\n",
       "      <td>50-60</td>\n",
       "    </tr>\n",
       "  </tbody>\n",
       "</table>\n",
       "</div>"
      ],
      "text/plain": [
       "           sex patient_type  entry_date date_symptoms   date_died  \\\n",
       "id                                                                  \n",
       "16169f    Male   Outpatient    4/5/2020      2/5/2020  9999-99-99   \n",
       "1009bf    Male   Outpatient  19-03-2020    17-03-2020  9999-99-99   \n",
       "167386  Female    Inpatient    6/4/2020      1/4/2020  9999-99-99   \n",
       "0b5948    Male    Inpatient  17-04-2020     10/4/2020  9999-99-99   \n",
       "0d01b5  Female    Inpatient  13-04-2020    13-04-2020  22-04-2020   \n",
       "\n",
       "                  intubed pneumonia  age diabetes hypertension other_disease  \\\n",
       "id                                                                             \n",
       "16169f  Data Data missing        No   27       No           No            No   \n",
       "1009bf       Data missing        No   24       No           No            No   \n",
       "167386                 No        No   54       No           No            No   \n",
       "0b5948                 No       Yes   30       No           No            No   \n",
       "0d01b5                 No        No   60      Yes          Yes            No   \n",
       "\n",
       "       cardiovascular obesity tobacco covid_res           icu age_group  \n",
       "id                                                                       \n",
       "16169f             No      No      No  Positive  Data missing     20-30  \n",
       "1009bf             No      No      No  Positive  Data missing     20-30  \n",
       "167386             No     Yes      No  Positive            No     50-60  \n",
       "0b5948             No      No      No  Positive            No     20-30  \n",
       "0d01b5            Yes      No      No  Positive            No     50-60  "
      ]
     },
     "execution_count": 5,
     "metadata": {},
     "output_type": "execute_result"
    }
   ],
   "source": [
    "covid.head()\n"
   ]
  },
  {
   "cell_type": "code",
   "execution_count": 6,
   "metadata": {},
   "outputs": [
    {
     "data": {
      "text/plain": [
       "age_group  sex   \n",
       "20-30      Female    16702\n",
       "           Male      17227\n",
       "30-40      Female    22938\n",
       "           Male      26382\n",
       "40-50      Female    22355\n",
       "           Male      27083\n",
       "50-60      Female    17075\n",
       "           Male      22862\n",
       "60-70      Female    10026\n",
       "           Male      13972\n",
       "70-80      Female     5061\n",
       "           Male       7166\n",
       "< 20       Female     3420\n",
       "           Male       3415\n",
       "> 80       Female     2281\n",
       "           Male       2692\n",
       "Name: covid_res, dtype: int64"
      ]
     },
     "execution_count": 6,
     "metadata": {},
     "output_type": "execute_result"
    }
   ],
   "source": [
    "#1\n",
    "covidp = covid[covid['covid_res']=='Positive']\n",
    "covidp.groupby(['age_group','sex'])['covid_res'].count()"
   ]
  },
  {
   "cell_type": "code",
   "execution_count": 7,
   "metadata": {},
   "outputs": [
    {
     "data": {
      "text/plain": [
       "<matplotlib.axes._subplots.AxesSubplot at 0x241dfe0b088>"
      ]
     },
     "execution_count": 7,
     "metadata": {},
     "output_type": "execute_result"
    },
    {
     "data": {
      "image/png": "[encoded data removed]",
      "text/plain": [
       "<Figure size 432x288 with 1 Axes>"
      ]
     },
     "metadata": {
      "needs_background": "light"
     },
     "output_type": "display_data"
    }
   ],
   "source": [
    "#2\n",
    "covid = pd.read_csv('covid(1).csv',index_col=0)\n",
    "\n",
    "p2=pd.crosstab(covidp['sex'],covidp['icu'])\n",
    "p2.plot.barh(stacked=True)\n"
   ]
  },
  {
   "cell_type": "code",
   "execution_count": 8,
   "metadata": {},
   "outputs": [
    {
     "data": {
      "text/plain": [
       "0.09131085441706029"
      ]
     },
     "execution_count": 8,
     "metadata": {},
     "output_type": "execute_result"
    }
   ],
   "source": [
    "(p2.loc['Male']['Yes'])/(p2.loc['Male']['Yes']+ p2.loc['Male']['No'])\n"
   ]
  },
  {
   "cell_type": "code",
   "execution_count": 9,
   "metadata": {},
   "outputs": [
    {
     "data": {
      "text/plain": [
       "0.0753419273699104"
      ]
     },
     "execution_count": 9,
     "metadata": {},
     "output_type": "execute_result"
    }
   ],
   "source": [
    "(p2.loc['Female']['Yes'])/(p2.loc['Female']['Yes']+ p2.loc['Female']['No'])\n"
   ]
  },
  {
   "cell_type": "code",
   "execution_count": 10,
   "metadata": {},
   "outputs": [
    {
     "data": {
      "text/plain": [
       "dtype('<M8[ns]')"
      ]
     },
     "execution_count": 10,
     "metadata": {},
     "output_type": "execute_result"
    }
   ],
   "source": [
    "#3\n",
    "import warnings\n",
    "warnings.filterwarnings('ignore')\n",
    "q3=covidp[covidp['date_died']!='9999-99-99']\n",
    "q3['date_died']=pd.to_datetime(q3['date_died'])\n",
    "q3['date_died'].dtype\n",
    "\n",
    "\n"
   ]
  },
  {
   "cell_type": "code",
   "execution_count": 11,
   "metadata": {},
   "outputs": [
    {
     "data": {
      "text/html": [
       "<div>\n",
       "<style scoped>\n",
       "    .dataframe tbody tr th:only-of-type {\n",
       "        vertical-align: middle;\n",
       "    }\n",
       "\n",
       "    .dataframe tbody tr th {\n",
       "        vertical-align: top;\n",
       "    }\n",
       "\n",
       "    .dataframe thead th {\n",
       "        text-align: right;\n",
       "    }\n",
       "</style>\n",
       "<table border=\"1\" class=\"dataframe\">\n",
       "  <thead>\n",
       "    <tr style=\"text-align: right;\">\n",
       "      <th></th>\n",
       "      <th>sex</th>\n",
       "      <th>patient_type</th>\n",
       "      <th>entry_date</th>\n",
       "      <th>date_symptoms</th>\n",
       "      <th>date_died</th>\n",
       "      <th>intubed</th>\n",
       "      <th>pneumonia</th>\n",
       "      <th>age</th>\n",
       "      <th>diabetes</th>\n",
       "      <th>hypertension</th>\n",
       "      <th>other_disease</th>\n",
       "      <th>cardiovascular</th>\n",
       "      <th>obesity</th>\n",
       "      <th>tobacco</th>\n",
       "      <th>covid_res</th>\n",
       "      <th>icu</th>\n",
       "      <th>age_group</th>\n",
       "    </tr>\n",
       "    <tr>\n",
       "      <th>id</th>\n",
       "      <th></th>\n",
       "      <th></th>\n",
       "      <th></th>\n",
       "      <th></th>\n",
       "      <th></th>\n",
       "      <th></th>\n",
       "      <th></th>\n",
       "      <th></th>\n",
       "      <th></th>\n",
       "      <th></th>\n",
       "      <th></th>\n",
       "      <th></th>\n",
       "      <th></th>\n",
       "      <th></th>\n",
       "      <th></th>\n",
       "      <th></th>\n",
       "      <th></th>\n",
       "    </tr>\n",
       "  </thead>\n",
       "  <tbody>\n",
       "    <tr>\n",
       "      <th>16169f</th>\n",
       "      <td>Male</td>\n",
       "      <td>Outpatient</td>\n",
       "      <td>2020-05-04</td>\n",
       "      <td>2/5/2020</td>\n",
       "      <td>9999-99-99</td>\n",
       "      <td>Data Data missing</td>\n",
       "      <td>No</td>\n",
       "      <td>27</td>\n",
       "      <td>No</td>\n",
       "      <td>No</td>\n",
       "      <td>No</td>\n",
       "      <td>No</td>\n",
       "      <td>No</td>\n",
       "      <td>No</td>\n",
       "      <td>Positive</td>\n",
       "      <td>Data missing</td>\n",
       "      <td>20-30</td>\n",
       "    </tr>\n",
       "    <tr>\n",
       "      <th>1009bf</th>\n",
       "      <td>Male</td>\n",
       "      <td>Outpatient</td>\n",
       "      <td>2020-03-19</td>\n",
       "      <td>17-03-2020</td>\n",
       "      <td>9999-99-99</td>\n",
       "      <td>Data missing</td>\n",
       "      <td>No</td>\n",
       "      <td>24</td>\n",
       "      <td>No</td>\n",
       "      <td>No</td>\n",
       "      <td>No</td>\n",
       "      <td>No</td>\n",
       "      <td>No</td>\n",
       "      <td>No</td>\n",
       "      <td>Positive</td>\n",
       "      <td>Data missing</td>\n",
       "      <td>20-30</td>\n",
       "    </tr>\n",
       "    <tr>\n",
       "      <th>167386</th>\n",
       "      <td>Female</td>\n",
       "      <td>Inpatient</td>\n",
       "      <td>2020-04-06</td>\n",
       "      <td>1/4/2020</td>\n",
       "      <td>9999-99-99</td>\n",
       "      <td>No</td>\n",
       "      <td>No</td>\n",
       "      <td>54</td>\n",
       "      <td>No</td>\n",
       "      <td>No</td>\n",
       "      <td>No</td>\n",
       "      <td>No</td>\n",
       "      <td>Yes</td>\n",
       "      <td>No</td>\n",
       "      <td>Positive</td>\n",
       "      <td>No</td>\n",
       "      <td>50-60</td>\n",
       "    </tr>\n",
       "    <tr>\n",
       "      <th>0b5948</th>\n",
       "      <td>Male</td>\n",
       "      <td>Inpatient</td>\n",
       "      <td>2020-04-17</td>\n",
       "      <td>10/4/2020</td>\n",
       "      <td>9999-99-99</td>\n",
       "      <td>No</td>\n",
       "      <td>Yes</td>\n",
       "      <td>30</td>\n",
       "      <td>No</td>\n",
       "      <td>No</td>\n",
       "      <td>No</td>\n",
       "      <td>No</td>\n",
       "      <td>No</td>\n",
       "      <td>No</td>\n",
       "      <td>Positive</td>\n",
       "      <td>No</td>\n",
       "      <td>20-30</td>\n",
       "    </tr>\n",
       "    <tr>\n",
       "      <th>0d01b5</th>\n",
       "      <td>Female</td>\n",
       "      <td>Inpatient</td>\n",
       "      <td>2020-04-13</td>\n",
       "      <td>13-04-2020</td>\n",
       "      <td>22-04-2020</td>\n",
       "      <td>No</td>\n",
       "      <td>No</td>\n",
       "      <td>60</td>\n",
       "      <td>Yes</td>\n",
       "      <td>Yes</td>\n",
       "      <td>No</td>\n",
       "      <td>Yes</td>\n",
       "      <td>No</td>\n",
       "      <td>No</td>\n",
       "      <td>Positive</td>\n",
       "      <td>No</td>\n",
       "      <td>50-60</td>\n",
       "    </tr>\n",
       "    <tr>\n",
       "      <th>...</th>\n",
       "      <td>...</td>\n",
       "      <td>...</td>\n",
       "      <td>...</td>\n",
       "      <td>...</td>\n",
       "      <td>...</td>\n",
       "      <td>...</td>\n",
       "      <td>...</td>\n",
       "      <td>...</td>\n",
       "      <td>...</td>\n",
       "      <td>...</td>\n",
       "      <td>...</td>\n",
       "      <td>...</td>\n",
       "      <td>...</td>\n",
       "      <td>...</td>\n",
       "      <td>...</td>\n",
       "      <td>...</td>\n",
       "      <td>...</td>\n",
       "    </tr>\n",
       "    <tr>\n",
       "      <th>27424</th>\n",
       "      <td>Female</td>\n",
       "      <td>Inpatient</td>\n",
       "      <td>2020-06-10</td>\n",
       "      <td>8/6/2020</td>\n",
       "      <td>10/6/2020</td>\n",
       "      <td>No</td>\n",
       "      <td>Yes</td>\n",
       "      <td>88</td>\n",
       "      <td>Yes</td>\n",
       "      <td>Yes</td>\n",
       "      <td>No</td>\n",
       "      <td>No</td>\n",
       "      <td>No</td>\n",
       "      <td>No</td>\n",
       "      <td>Positive</td>\n",
       "      <td>No</td>\n",
       "      <td>&gt; 80</td>\n",
       "    </tr>\n",
       "    <tr>\n",
       "      <th>12ed19</th>\n",
       "      <td>Female</td>\n",
       "      <td>Outpatient</td>\n",
       "      <td>2020-06-11</td>\n",
       "      <td>1/6/2020</td>\n",
       "      <td>9999-99-99</td>\n",
       "      <td>Data missing</td>\n",
       "      <td>No</td>\n",
       "      <td>30</td>\n",
       "      <td>No</td>\n",
       "      <td>No</td>\n",
       "      <td>No</td>\n",
       "      <td>No</td>\n",
       "      <td>No</td>\n",
       "      <td>No</td>\n",
       "      <td>Positive</td>\n",
       "      <td>Data missing</td>\n",
       "      <td>20-30</td>\n",
       "    </tr>\n",
       "    <tr>\n",
       "      <th>6.60E+43</th>\n",
       "      <td>Female</td>\n",
       "      <td>Outpatient</td>\n",
       "      <td>2020-06-11</td>\n",
       "      <td>10/6/2020</td>\n",
       "      <td>9999-99-99</td>\n",
       "      <td>Data missing</td>\n",
       "      <td>No</td>\n",
       "      <td>27</td>\n",
       "      <td>No</td>\n",
       "      <td>No</td>\n",
       "      <td>No</td>\n",
       "      <td>No</td>\n",
       "      <td>No</td>\n",
       "      <td>No</td>\n",
       "      <td>Positive</td>\n",
       "      <td>Data missing</td>\n",
       "      <td>20-30</td>\n",
       "    </tr>\n",
       "    <tr>\n",
       "      <th>09f931</th>\n",
       "      <td>Female</td>\n",
       "      <td>Outpatient</td>\n",
       "      <td>2020-06-19</td>\n",
       "      <td>16-06-2020</td>\n",
       "      <td>9999-99-99</td>\n",
       "      <td>Data missing</td>\n",
       "      <td>No</td>\n",
       "      <td>36</td>\n",
       "      <td>No</td>\n",
       "      <td>No</td>\n",
       "      <td>No</td>\n",
       "      <td>No</td>\n",
       "      <td>No</td>\n",
       "      <td>No</td>\n",
       "      <td>Positive</td>\n",
       "      <td>Data missing</td>\n",
       "      <td>30-40</td>\n",
       "    </tr>\n",
       "    <tr>\n",
       "      <th>1b7232</th>\n",
       "      <td>Male</td>\n",
       "      <td>Inpatient</td>\n",
       "      <td>2020-06-19</td>\n",
       "      <td>9/6/2020</td>\n",
       "      <td>9999-99-99</td>\n",
       "      <td>No</td>\n",
       "      <td>No</td>\n",
       "      <td>70</td>\n",
       "      <td>No</td>\n",
       "      <td>No</td>\n",
       "      <td>No</td>\n",
       "      <td>No</td>\n",
       "      <td>Yes</td>\n",
       "      <td>No</td>\n",
       "      <td>Positive</td>\n",
       "      <td>No</td>\n",
       "      <td>60-70</td>\n",
       "    </tr>\n",
       "  </tbody>\n",
       "</table>\n",
       "<p>220657 rows × 17 columns</p>\n",
       "</div>"
      ],
      "text/plain": [
       "             sex patient_type entry_date date_symptoms   date_died  \\\n",
       "id                                                                   \n",
       "16169f      Male   Outpatient 2020-05-04      2/5/2020  9999-99-99   \n",
       "1009bf      Male   Outpatient 2020-03-19    17-03-2020  9999-99-99   \n",
       "167386    Female    Inpatient 2020-04-06      1/4/2020  9999-99-99   \n",
       "0b5948      Male    Inpatient 2020-04-17     10/4/2020  9999-99-99   \n",
       "0d01b5    Female    Inpatient 2020-04-13    13-04-2020  22-04-2020   \n",
       "...          ...          ...        ...           ...         ...   \n",
       "27424     Female    Inpatient 2020-06-10      8/6/2020   10/6/2020   \n",
       "12ed19    Female   Outpatient 2020-06-11      1/6/2020  9999-99-99   \n",
       "6.60E+43  Female   Outpatient 2020-06-11     10/6/2020  9999-99-99   \n",
       "09f931    Female   Outpatient 2020-06-19    16-06-2020  9999-99-99   \n",
       "1b7232      Male    Inpatient 2020-06-19      9/6/2020  9999-99-99   \n",
       "\n",
       "                    intubed pneumonia  age diabetes hypertension  \\\n",
       "id                                                                 \n",
       "16169f    Data Data missing        No   27       No           No   \n",
       "1009bf         Data missing        No   24       No           No   \n",
       "167386                   No        No   54       No           No   \n",
       "0b5948                   No       Yes   30       No           No   \n",
       "0d01b5                   No        No   60      Yes          Yes   \n",
       "...                     ...       ...  ...      ...          ...   \n",
       "27424                    No       Yes   88      Yes          Yes   \n",
       "12ed19         Data missing        No   30       No           No   \n",
       "6.60E+43       Data missing        No   27       No           No   \n",
       "09f931         Data missing        No   36       No           No   \n",
       "1b7232                   No        No   70       No           No   \n",
       "\n",
       "         other_disease cardiovascular obesity tobacco covid_res           icu  \\\n",
       "id                                                                              \n",
       "16169f              No             No      No      No  Positive  Data missing   \n",
       "1009bf              No             No      No      No  Positive  Data missing   \n",
       "167386              No             No     Yes      No  Positive            No   \n",
       "0b5948              No             No      No      No  Positive            No   \n",
       "0d01b5              No            Yes      No      No  Positive            No   \n",
       "...                ...            ...     ...     ...       ...           ...   \n",
       "27424               No             No      No      No  Positive            No   \n",
       "12ed19              No             No      No      No  Positive  Data missing   \n",
       "6.60E+43            No             No      No      No  Positive  Data missing   \n",
       "09f931              No             No      No      No  Positive  Data missing   \n",
       "1b7232              No             No     Yes      No  Positive            No   \n",
       "\n",
       "         age_group  \n",
       "id                  \n",
       "16169f       20-30  \n",
       "1009bf       20-30  \n",
       "167386       50-60  \n",
       "0b5948       20-30  \n",
       "0d01b5       50-60  \n",
       "...            ...  \n",
       "27424         > 80  \n",
       "12ed19       20-30  \n",
       "6.60E+43     20-30  \n",
       "09f931       30-40  \n",
       "1b7232       60-70  \n",
       "\n",
       "[220657 rows x 17 columns]"
      ]
     },
     "execution_count": 11,
     "metadata": {},
     "output_type": "execute_result"
    }
   ],
   "source": [
    "covidp['entry_date'] = pd.to_datetime(covidp['entry_date'], dayfirst=True)\n",
    "covidp"
   ]
  },
  {
   "cell_type": "code",
   "execution_count": 12,
   "metadata": {},
   "outputs": [
    {
     "data": {
      "text/html": [
       "<div>\n",
       "<style scoped>\n",
       "    .dataframe tbody tr th:only-of-type {\n",
       "        vertical-align: middle;\n",
       "    }\n",
       "\n",
       "    .dataframe tbody tr th {\n",
       "        vertical-align: top;\n",
       "    }\n",
       "\n",
       "    .dataframe thead th {\n",
       "        text-align: right;\n",
       "    }\n",
       "</style>\n",
       "<table border=\"1\" class=\"dataframe\">\n",
       "  <thead>\n",
       "    <tr style=\"text-align: right;\">\n",
       "      <th></th>\n",
       "      <th>sex</th>\n",
       "      <th>patient_type</th>\n",
       "      <th>entry_date</th>\n",
       "      <th>date_symptoms</th>\n",
       "      <th>date_died</th>\n",
       "      <th>intubed</th>\n",
       "      <th>pneumonia</th>\n",
       "      <th>age</th>\n",
       "      <th>diabetes</th>\n",
       "      <th>hypertension</th>\n",
       "      <th>other_disease</th>\n",
       "      <th>cardiovascular</th>\n",
       "      <th>obesity</th>\n",
       "      <th>tobacco</th>\n",
       "      <th>covid_res</th>\n",
       "      <th>icu</th>\n",
       "      <th>age_group</th>\n",
       "    </tr>\n",
       "    <tr>\n",
       "      <th>id</th>\n",
       "      <th></th>\n",
       "      <th></th>\n",
       "      <th></th>\n",
       "      <th></th>\n",
       "      <th></th>\n",
       "      <th></th>\n",
       "      <th></th>\n",
       "      <th></th>\n",
       "      <th></th>\n",
       "      <th></th>\n",
       "      <th></th>\n",
       "      <th></th>\n",
       "      <th></th>\n",
       "      <th></th>\n",
       "      <th></th>\n",
       "      <th></th>\n",
       "      <th></th>\n",
       "    </tr>\n",
       "  </thead>\n",
       "  <tbody>\n",
       "    <tr>\n",
       "      <th>16169f</th>\n",
       "      <td>Male</td>\n",
       "      <td>Outpatient</td>\n",
       "      <td>2020-05-04</td>\n",
       "      <td>2020-05-02</td>\n",
       "      <td>9999-99-99</td>\n",
       "      <td>Data Data missing</td>\n",
       "      <td>No</td>\n",
       "      <td>27</td>\n",
       "      <td>No</td>\n",
       "      <td>No</td>\n",
       "      <td>No</td>\n",
       "      <td>No</td>\n",
       "      <td>No</td>\n",
       "      <td>No</td>\n",
       "      <td>Positive</td>\n",
       "      <td>Data missing</td>\n",
       "      <td>20-30</td>\n",
       "    </tr>\n",
       "    <tr>\n",
       "      <th>1009bf</th>\n",
       "      <td>Male</td>\n",
       "      <td>Outpatient</td>\n",
       "      <td>2020-03-19</td>\n",
       "      <td>2020-03-17</td>\n",
       "      <td>9999-99-99</td>\n",
       "      <td>Data missing</td>\n",
       "      <td>No</td>\n",
       "      <td>24</td>\n",
       "      <td>No</td>\n",
       "      <td>No</td>\n",
       "      <td>No</td>\n",
       "      <td>No</td>\n",
       "      <td>No</td>\n",
       "      <td>No</td>\n",
       "      <td>Positive</td>\n",
       "      <td>Data missing</td>\n",
       "      <td>20-30</td>\n",
       "    </tr>\n",
       "    <tr>\n",
       "      <th>167386</th>\n",
       "      <td>Female</td>\n",
       "      <td>Inpatient</td>\n",
       "      <td>2020-04-06</td>\n",
       "      <td>2020-04-01</td>\n",
       "      <td>9999-99-99</td>\n",
       "      <td>No</td>\n",
       "      <td>No</td>\n",
       "      <td>54</td>\n",
       "      <td>No</td>\n",
       "      <td>No</td>\n",
       "      <td>No</td>\n",
       "      <td>No</td>\n",
       "      <td>Yes</td>\n",
       "      <td>No</td>\n",
       "      <td>Positive</td>\n",
       "      <td>No</td>\n",
       "      <td>50-60</td>\n",
       "    </tr>\n",
       "    <tr>\n",
       "      <th>0b5948</th>\n",
       "      <td>Male</td>\n",
       "      <td>Inpatient</td>\n",
       "      <td>2020-04-17</td>\n",
       "      <td>2020-04-10</td>\n",
       "      <td>9999-99-99</td>\n",
       "      <td>No</td>\n",
       "      <td>Yes</td>\n",
       "      <td>30</td>\n",
       "      <td>No</td>\n",
       "      <td>No</td>\n",
       "      <td>No</td>\n",
       "      <td>No</td>\n",
       "      <td>No</td>\n",
       "      <td>No</td>\n",
       "      <td>Positive</td>\n",
       "      <td>No</td>\n",
       "      <td>20-30</td>\n",
       "    </tr>\n",
       "    <tr>\n",
       "      <th>0d01b5</th>\n",
       "      <td>Female</td>\n",
       "      <td>Inpatient</td>\n",
       "      <td>2020-04-13</td>\n",
       "      <td>2020-04-13</td>\n",
       "      <td>22-04-2020</td>\n",
       "      <td>No</td>\n",
       "      <td>No</td>\n",
       "      <td>60</td>\n",
       "      <td>Yes</td>\n",
       "      <td>Yes</td>\n",
       "      <td>No</td>\n",
       "      <td>Yes</td>\n",
       "      <td>No</td>\n",
       "      <td>No</td>\n",
       "      <td>Positive</td>\n",
       "      <td>No</td>\n",
       "      <td>50-60</td>\n",
       "    </tr>\n",
       "    <tr>\n",
       "      <th>...</th>\n",
       "      <td>...</td>\n",
       "      <td>...</td>\n",
       "      <td>...</td>\n",
       "      <td>...</td>\n",
       "      <td>...</td>\n",
       "      <td>...</td>\n",
       "      <td>...</td>\n",
       "      <td>...</td>\n",
       "      <td>...</td>\n",
       "      <td>...</td>\n",
       "      <td>...</td>\n",
       "      <td>...</td>\n",
       "      <td>...</td>\n",
       "      <td>...</td>\n",
       "      <td>...</td>\n",
       "      <td>...</td>\n",
       "      <td>...</td>\n",
       "    </tr>\n",
       "    <tr>\n",
       "      <th>27424</th>\n",
       "      <td>Female</td>\n",
       "      <td>Inpatient</td>\n",
       "      <td>2020-06-10</td>\n",
       "      <td>2020-06-08</td>\n",
       "      <td>10/6/2020</td>\n",
       "      <td>No</td>\n",
       "      <td>Yes</td>\n",
       "      <td>88</td>\n",
       "      <td>Yes</td>\n",
       "      <td>Yes</td>\n",
       "      <td>No</td>\n",
       "      <td>No</td>\n",
       "      <td>No</td>\n",
       "      <td>No</td>\n",
       "      <td>Positive</td>\n",
       "      <td>No</td>\n",
       "      <td>&gt; 80</td>\n",
       "    </tr>\n",
       "    <tr>\n",
       "      <th>12ed19</th>\n",
       "      <td>Female</td>\n",
       "      <td>Outpatient</td>\n",
       "      <td>2020-06-11</td>\n",
       "      <td>2020-06-01</td>\n",
       "      <td>9999-99-99</td>\n",
       "      <td>Data missing</td>\n",
       "      <td>No</td>\n",
       "      <td>30</td>\n",
       "      <td>No</td>\n",
       "      <td>No</td>\n",
       "      <td>No</td>\n",
       "      <td>No</td>\n",
       "      <td>No</td>\n",
       "      <td>No</td>\n",
       "      <td>Positive</td>\n",
       "      <td>Data missing</td>\n",
       "      <td>20-30</td>\n",
       "    </tr>\n",
       "    <tr>\n",
       "      <th>6.60E+43</th>\n",
       "      <td>Female</td>\n",
       "      <td>Outpatient</td>\n",
       "      <td>2020-06-11</td>\n",
       "      <td>2020-06-10</td>\n",
       "      <td>9999-99-99</td>\n",
       "      <td>Data missing</td>\n",
       "      <td>No</td>\n",
       "      <td>27</td>\n",
       "      <td>No</td>\n",
       "      <td>No</td>\n",
       "      <td>No</td>\n",
       "      <td>No</td>\n",
       "      <td>No</td>\n",
       "      <td>No</td>\n",
       "      <td>Positive</td>\n",
       "      <td>Data missing</td>\n",
       "      <td>20-30</td>\n",
       "    </tr>\n",
       "    <tr>\n",
       "      <th>09f931</th>\n",
       "      <td>Female</td>\n",
       "      <td>Outpatient</td>\n",
       "      <td>2020-06-19</td>\n",
       "      <td>2020-06-16</td>\n",
       "      <td>9999-99-99</td>\n",
       "      <td>Data missing</td>\n",
       "      <td>No</td>\n",
       "      <td>36</td>\n",
       "      <td>No</td>\n",
       "      <td>No</td>\n",
       "      <td>No</td>\n",
       "      <td>No</td>\n",
       "      <td>No</td>\n",
       "      <td>No</td>\n",
       "      <td>Positive</td>\n",
       "      <td>Data missing</td>\n",
       "      <td>30-40</td>\n",
       "    </tr>\n",
       "    <tr>\n",
       "      <th>1b7232</th>\n",
       "      <td>Male</td>\n",
       "      <td>Inpatient</td>\n",
       "      <td>2020-06-19</td>\n",
       "      <td>2020-06-09</td>\n",
       "      <td>9999-99-99</td>\n",
       "      <td>No</td>\n",
       "      <td>No</td>\n",
       "      <td>70</td>\n",
       "      <td>No</td>\n",
       "      <td>No</td>\n",
       "      <td>No</td>\n",
       "      <td>No</td>\n",
       "      <td>Yes</td>\n",
       "      <td>No</td>\n",
       "      <td>Positive</td>\n",
       "      <td>No</td>\n",
       "      <td>60-70</td>\n",
       "    </tr>\n",
       "  </tbody>\n",
       "</table>\n",
       "<p>220657 rows × 17 columns</p>\n",
       "</div>"
      ],
      "text/plain": [
       "             sex patient_type entry_date date_symptoms   date_died  \\\n",
       "id                                                                   \n",
       "16169f      Male   Outpatient 2020-05-04    2020-05-02  9999-99-99   \n",
       "1009bf      Male   Outpatient 2020-03-19    2020-03-17  9999-99-99   \n",
       "167386    Female    Inpatient 2020-04-06    2020-04-01  9999-99-99   \n",
       "0b5948      Male    Inpatient 2020-04-17    2020-04-10  9999-99-99   \n",
       "0d01b5    Female    Inpatient 2020-04-13    2020-04-13  22-04-2020   \n",
       "...          ...          ...        ...           ...         ...   \n",
       "27424     Female    Inpatient 2020-06-10    2020-06-08   10/6/2020   \n",
       "12ed19    Female   Outpatient 2020-06-11    2020-06-01  9999-99-99   \n",
       "6.60E+43  Female   Outpatient 2020-06-11    2020-06-10  9999-99-99   \n",
       "09f931    Female   Outpatient 2020-06-19    2020-06-16  9999-99-99   \n",
       "1b7232      Male    Inpatient 2020-06-19    2020-06-09  9999-99-99   \n",
       "\n",
       "                    intubed pneumonia  age diabetes hypertension  \\\n",
       "id                                                                 \n",
       "16169f    Data Data missing        No   27       No           No   \n",
       "1009bf         Data missing        No   24       No           No   \n",
       "167386                   No        No   54       No           No   \n",
       "0b5948                   No       Yes   30       No           No   \n",
       "0d01b5                   No        No   60      Yes          Yes   \n",
       "...                     ...       ...  ...      ...          ...   \n",
       "27424                    No       Yes   88      Yes          Yes   \n",
       "12ed19         Data missing        No   30       No           No   \n",
       "6.60E+43       Data missing        No   27       No           No   \n",
       "09f931         Data missing        No   36       No           No   \n",
       "1b7232                   No        No   70       No           No   \n",
       "\n",
       "         other_disease cardiovascular obesity tobacco covid_res           icu  \\\n",
       "id                                                                              \n",
       "16169f              No             No      No      No  Positive  Data missing   \n",
       "1009bf              No             No      No      No  Positive  Data missing   \n",
       "167386              No             No     Yes      No  Positive            No   \n",
       "0b5948              No             No      No      No  Positive            No   \n",
       "0d01b5              No            Yes      No      No  Positive            No   \n",
       "...                ...            ...     ...     ...       ...           ...   \n",
       "27424               No             No      No      No  Positive            No   \n",
       "12ed19              No             No      No      No  Positive  Data missing   \n",
       "6.60E+43            No             No      No      No  Positive  Data missing   \n",
       "09f931              No             No      No      No  Positive  Data missing   \n",
       "1b7232              No             No     Yes      No  Positive            No   \n",
       "\n",
       "         age_group  \n",
       "id                  \n",
       "16169f       20-30  \n",
       "1009bf       20-30  \n",
       "167386       50-60  \n",
       "0b5948       20-30  \n",
       "0d01b5       50-60  \n",
       "...            ...  \n",
       "27424         > 80  \n",
       "12ed19       20-30  \n",
       "6.60E+43     20-30  \n",
       "09f931       30-40  \n",
       "1b7232       60-70  \n",
       "\n",
       "[220657 rows x 17 columns]"
      ]
     },
     "execution_count": 12,
     "metadata": {},
     "output_type": "execute_result"
    }
   ],
   "source": [
    "covidp['date_symptoms'] = pd.to_datetime(covidp['date_symptoms'], dayfirst=True)\n",
    "covidp"
   ]
  },
  {
   "cell_type": "code",
   "execution_count": 13,
   "metadata": {},
   "outputs": [],
   "source": [
    "covidp=covidp[covidp['date_died']!='9999-99-99']\n",
    "covidp['date_died'] = pd.to_datetime(covidp['date_died'], dayfirst=True)\n"
   ]
  },
  {
   "cell_type": "code",
   "execution_count": 14,
   "metadata": {},
   "outputs": [
    {
     "data": {
      "text/html": [
       "<div>\n",
       "<style scoped>\n",
       "    .dataframe tbody tr th:only-of-type {\n",
       "        vertical-align: middle;\n",
       "    }\n",
       "\n",
       "    .dataframe tbody tr th {\n",
       "        vertical-align: top;\n",
       "    }\n",
       "\n",
       "    .dataframe thead th {\n",
       "        text-align: right;\n",
       "    }\n",
       "</style>\n",
       "<table border=\"1\" class=\"dataframe\">\n",
       "  <thead>\n",
       "    <tr style=\"text-align: right;\">\n",
       "      <th></th>\n",
       "      <th>sex</th>\n",
       "      <th>patient_type</th>\n",
       "      <th>entry_date</th>\n",
       "      <th>date_symptoms</th>\n",
       "      <th>date_died</th>\n",
       "      <th>intubed</th>\n",
       "      <th>pneumonia</th>\n",
       "      <th>age</th>\n",
       "      <th>diabetes</th>\n",
       "      <th>hypertension</th>\n",
       "      <th>other_disease</th>\n",
       "      <th>cardiovascular</th>\n",
       "      <th>obesity</th>\n",
       "      <th>tobacco</th>\n",
       "      <th>covid_res</th>\n",
       "      <th>icu</th>\n",
       "      <th>age_group</th>\n",
       "    </tr>\n",
       "    <tr>\n",
       "      <th>id</th>\n",
       "      <th></th>\n",
       "      <th></th>\n",
       "      <th></th>\n",
       "      <th></th>\n",
       "      <th></th>\n",
       "      <th></th>\n",
       "      <th></th>\n",
       "      <th></th>\n",
       "      <th></th>\n",
       "      <th></th>\n",
       "      <th></th>\n",
       "      <th></th>\n",
       "      <th></th>\n",
       "      <th></th>\n",
       "      <th></th>\n",
       "      <th></th>\n",
       "      <th></th>\n",
       "    </tr>\n",
       "  </thead>\n",
       "  <tbody>\n",
       "    <tr>\n",
       "      <th>0d01b5</th>\n",
       "      <td>Female</td>\n",
       "      <td>Inpatient</td>\n",
       "      <td>2020-04-13</td>\n",
       "      <td>2020-04-13</td>\n",
       "      <td>2020-04-22</td>\n",
       "      <td>No</td>\n",
       "      <td>No</td>\n",
       "      <td>60</td>\n",
       "      <td>Yes</td>\n",
       "      <td>Yes</td>\n",
       "      <td>No</td>\n",
       "      <td>Yes</td>\n",
       "      <td>No</td>\n",
       "      <td>No</td>\n",
       "      <td>Positive</td>\n",
       "      <td>No</td>\n",
       "      <td>50-60</td>\n",
       "    </tr>\n",
       "    <tr>\n",
       "      <th>1beec8</th>\n",
       "      <td>Male</td>\n",
       "      <td>Inpatient</td>\n",
       "      <td>2020-04-16</td>\n",
       "      <td>2020-04-16</td>\n",
       "      <td>2020-04-29</td>\n",
       "      <td>No</td>\n",
       "      <td>Yes</td>\n",
       "      <td>47</td>\n",
       "      <td>Yes</td>\n",
       "      <td>No</td>\n",
       "      <td>No</td>\n",
       "      <td>No</td>\n",
       "      <td>No</td>\n",
       "      <td>No</td>\n",
       "      <td>Positive</td>\n",
       "      <td>Yes</td>\n",
       "      <td>40-50</td>\n",
       "    </tr>\n",
       "    <tr>\n",
       "      <th>008b81</th>\n",
       "      <td>Female</td>\n",
       "      <td>Outpatient</td>\n",
       "      <td>2020-05-15</td>\n",
       "      <td>2020-05-06</td>\n",
       "      <td>2020-05-21</td>\n",
       "      <td>Data missing</td>\n",
       "      <td>No</td>\n",
       "      <td>61</td>\n",
       "      <td>No</td>\n",
       "      <td>Yes</td>\n",
       "      <td>No</td>\n",
       "      <td>No</td>\n",
       "      <td>No</td>\n",
       "      <td>No</td>\n",
       "      <td>Positive</td>\n",
       "      <td>Data missing</td>\n",
       "      <td>60-70</td>\n",
       "    </tr>\n",
       "    <tr>\n",
       "      <th>17394f</th>\n",
       "      <td>Male</td>\n",
       "      <td>Inpatient</td>\n",
       "      <td>2020-04-27</td>\n",
       "      <td>2020-04-27</td>\n",
       "      <td>2020-04-28</td>\n",
       "      <td>No</td>\n",
       "      <td>Yes</td>\n",
       "      <td>77</td>\n",
       "      <td>No</td>\n",
       "      <td>Yes</td>\n",
       "      <td>No</td>\n",
       "      <td>No</td>\n",
       "      <td>No</td>\n",
       "      <td>No</td>\n",
       "      <td>Positive</td>\n",
       "      <td>No</td>\n",
       "      <td>70-80</td>\n",
       "    </tr>\n",
       "    <tr>\n",
       "      <th>006ddc</th>\n",
       "      <td>Female</td>\n",
       "      <td>Inpatient</td>\n",
       "      <td>2020-04-26</td>\n",
       "      <td>2020-04-23</td>\n",
       "      <td>2020-04-26</td>\n",
       "      <td>No</td>\n",
       "      <td>Yes</td>\n",
       "      <td>53</td>\n",
       "      <td>Yes</td>\n",
       "      <td>No</td>\n",
       "      <td>No</td>\n",
       "      <td>No</td>\n",
       "      <td>Yes</td>\n",
       "      <td>No</td>\n",
       "      <td>Positive</td>\n",
       "      <td>No</td>\n",
       "      <td>50-60</td>\n",
       "    </tr>\n",
       "  </tbody>\n",
       "</table>\n",
       "</div>"
      ],
      "text/plain": [
       "           sex patient_type entry_date date_symptoms  date_died       intubed  \\\n",
       "id                                                                              \n",
       "0d01b5  Female    Inpatient 2020-04-13    2020-04-13 2020-04-22            No   \n",
       "1beec8    Male    Inpatient 2020-04-16    2020-04-16 2020-04-29            No   \n",
       "008b81  Female   Outpatient 2020-05-15    2020-05-06 2020-05-21  Data missing   \n",
       "17394f    Male    Inpatient 2020-04-27    2020-04-27 2020-04-28            No   \n",
       "006ddc  Female    Inpatient 2020-04-26    2020-04-23 2020-04-26            No   \n",
       "\n",
       "       pneumonia  age diabetes hypertension other_disease cardiovascular  \\\n",
       "id                                                                         \n",
       "0d01b5        No   60      Yes          Yes            No            Yes   \n",
       "1beec8       Yes   47      Yes           No            No             No   \n",
       "008b81        No   61       No          Yes            No             No   \n",
       "17394f       Yes   77       No          Yes            No             No   \n",
       "006ddc       Yes   53      Yes           No            No             No   \n",
       "\n",
       "       obesity tobacco covid_res           icu age_group  \n",
       "id                                                        \n",
       "0d01b5      No      No  Positive            No     50-60  \n",
       "1beec8      No      No  Positive           Yes     40-50  \n",
       "008b81      No      No  Positive  Data missing     60-70  \n",
       "17394f      No      No  Positive            No     70-80  \n",
       "006ddc     Yes      No  Positive            No     50-60  "
      ]
     },
     "execution_count": 14,
     "metadata": {},
     "output_type": "execute_result"
    }
   ],
   "source": [
    "covidp.head()"
   ]
  },
  {
   "cell_type": "code",
   "execution_count": 15,
   "metadata": {},
   "outputs": [
    {
     "data": {
      "text/plain": [
       "<matplotlib.legend.Legend at 0x241d4a44a08>"
      ]
     },
     "execution_count": 15,
     "metadata": {},
     "output_type": "execute_result"
    },
    {
     "data": {
      "image/png": "[encoded data removed]",
      "text/plain": [
       "<Figure size 432x288 with 1 Axes>"
      ]
     },
     "metadata": {
      "needs_background": "light"
     },
     "output_type": "display_data"
    }
   ],
   "source": [
    "c1=covidp.groupby('date_died')['date_died'].count().plot.line(legend='Death')\n",
    "\n",
    "c1=covidp.groupby('entry_date')['entry_date'].count().plot.line(legend='Positive')\n",
    "\n",
    "c1.set_title('Daily confirmed cases vs daily deaths')\n",
    "c1.legend(['Death','Confirmed'])\n"
   ]
  },
  {
   "cell_type": "code",
   "execution_count": 31,
   "metadata": {},
   "outputs": [
    {
     "data": {
      "text/plain": [
       "Text(0.5, 1.0, 'Daily Death')"
      ]
     },
     "execution_count": 31,
     "metadata": {},
     "output_type": "execute_result"
    },
    {
     "data": {
      "image/png": "[encoded data removed]",
      "text/plain": [
       "<Figure size 1440x720 with 1 Axes>"
      ]
     },
     "metadata": {
      "needs_background": "light"
     },
     "output_type": "display_data"
    }
   ],
   "source": [
    "#4\n",
    "q4=covidp.groupby('date_died')['date_died'].count().plot.bar( figsize=(20,10))\n",
    "q4.set_xlabel('Date')\n",
    "q4.set_title('Daily Death')\n",
    "# q4.legend(['1','2'])\n",
    "# plt.xlabel('Date')\n",
    "# plt.title('Daily Death') #seaborn way is plt.title/ plt.xlabel"
   ]
  },
  {
   "cell_type": "code",
   "execution_count": 34,
   "metadata": {},
   "outputs": [
    {
     "data": {
      "text/plain": [
       "<matplotlib.axes._subplots.AxesSubplot at 0x241e6a48a88>"
      ]
     },
     "execution_count": 34,
     "metadata": {},
     "output_type": "execute_result"
    },
    {
     "data": {
      "image/png": "[encoded data removed]",
      "text/plain": [
       "<Figure size 432x288 with 2 Axes>"
      ]
     },
     "metadata": {
      "needs_background": "light"
     },
     "output_type": "display_data"
    }
   ],
   "source": [
    "##5 doubt\n",
    "heat_confirm = covidp.pivot_table('entry_date',index='sex',columns='age_group',aggfunc='count')\n",
    "\n",
    "sns.heatmap(heat_confirm, cmap=\"YlGnBu\")\n",
    "# the largest confirmed case age group in males is 40-50 and 30-40 in females"
   ]
  },
  {
   "cell_type": "code",
   "execution_count": 35,
   "metadata": {},
   "outputs": [
    {
     "data": {
      "text/plain": [
       "<matplotlib.axes._subplots.AxesSubplot at 0x241e6a3e688>"
      ]
     },
     "execution_count": 35,
     "metadata": {},
     "output_type": "execute_result"
    },
    {
     "data": {
      "image/png": "[encoded data removed]",
      "text/plain": [
       "<Figure size 432x288 with 2 Axes>"
      ]
     },
     "metadata": {
      "needs_background": "light"
     },
     "output_type": "display_data"
    }
   ],
   "source": [
    "y = covidp.pivot_table(values='entry_date',columns='age_group',index='sex',aggfunc='count')\n",
    "\n",
    "sns.heatmap(heat_death, cmap=\"YlGnBu\")\n",
    "# the age group with the most deaths is 50-60 in males and 60-70 in females"
   ]
  },
  {
   "cell_type": "code",
   "execution_count": 19,
   "metadata": {},
   "outputs": [],
   "source": [
    "#6 doubt\n",
    "mask = covidp['age']>=60\n",
    "mask2 = covidp['age']<60\n",
    "age_more=covidp[mask]\n",
    "age_less=covidp[mask2]"
   ]
  },
  {
   "cell_type": "code",
   "execution_count": 20,
   "metadata": {},
   "outputs": [
    {
     "data": {
      "text/plain": [
       "Text(0.5, 0, 'Date')"
      ]
     },
     "execution_count": 20,
     "metadata": {},
     "output_type": "execute_result"
    },
    {
     "data": {
      "image/png": "[encoded data removed]",
      "text/plain": [
       "<Figure size 432x288 with 1 Axes>"
      ]
     },
     "metadata": {
      "needs_background": "light"
     },
     "output_type": "display_data"
    }
   ],
   "source": [
    "cx=age_more.groupby(age_more['entry_date'])['entry_date'].count()\n",
    "dx=age_less.groupby(age_less['entry_date'])['entry_date'].count()\n",
    "fx=cx.plot()\n",
    "fx=dx.plot()\n",
    "fx.set_title('Daily Confirmed Cases')\n",
    "fx.set_xlabel('Date')"
   ]
  },
  {
   "cell_type": "code",
   "execution_count": 21,
   "metadata": {},
   "outputs": [
    {
     "data": {
      "text/plain": [
       "<matplotlib.axes._subplots.AxesSubplot at 0x241e0be4b08>"
      ]
     },
     "execution_count": 21,
     "metadata": {},
     "output_type": "execute_result"
    },
    {
     "data": {
      "image/png": "[encoded data removed]",
      "text/plain": [
       "<Figure size 720x576 with 6 Axes>"
      ]
     },
     "metadata": {
      "needs_background": "light"
     },
     "output_type": "display_data"
    }
   ],
   "source": [
    "####7\n",
    "fig , ax = plt.subplots(3,2, figsize=(10,8))\n",
    "covidp.pivot_table(values='date_died', columns='diabetes', index='age_group', aggfunc='count').plot.barh(stacked=True, ax=ax[0,0])\n",
    "covidp.pivot_table(values='date_died', columns='hypertension', index='age_group', aggfunc='count').plot.barh(stacked=True, ax=ax[1,0])\n",
    "covidp.pivot_table(values='date_died', columns='cardiovascular', index='age_group', aggfunc='count').plot.barh(stacked=True, ax=ax[2,0])\n",
    "covidp.pivot_table(values='entry_date', columns='diabetes', index='age_group', aggfunc='count').plot.barh(stacked=True,ax=ax[0,1])\n",
    "covidp.pivot_table(values='entry_date', columns='hypertension', index='age_group', aggfunc='count').plot.barh(stacked=True,ax=ax[1,1])\n",
    "covidp.pivot_table(values='entry_date', columns='cardiovascular', index='age_group', aggfunc='count').plot.barh(stacked=True,ax=ax[2,1])"
   ]
  },
  {
   "cell_type": "code",
   "execution_count": 22,
   "metadata": {},
   "outputs": [],
   "source": [
    "#8\n",
    "covidp['diff'] = (covidp['date_died'] - covidp['date_symptoms']).dt.days\n"
   ]
  },
  {
   "cell_type": "code",
   "execution_count": 23,
   "metadata": {},
   "outputs": [
    {
     "data": {
      "text/plain": [
       "dtype('int64')"
      ]
     },
     "execution_count": 23,
     "metadata": {},
     "output_type": "execute_result"
    }
   ],
   "source": [
    "covidp['diff'].dtypes\n"
   ]
  },
  {
   "cell_type": "code",
   "execution_count": 24,
   "metadata": {},
   "outputs": [
    {
     "data": {
      "text/plain": [
       "age_group\n",
       "< 20      9.476190\n",
       "> 80     10.149840\n",
       "20-30    11.018957\n",
       "70-80    11.099517\n",
       "30-40    11.290301\n",
       "40-50    11.715628\n",
       "60-70    11.789041\n",
       "50-60    11.936251\n",
       "Name: diff, dtype: float64"
      ]
     },
     "execution_count": 24,
     "metadata": {},
     "output_type": "execute_result"
    }
   ],
   "source": [
    "covidp.groupby('age_group')['diff'].mean().sort_values(ascending=True)\n"
   ]
  },
  {
   "cell_type": "code",
   "execution_count": 25,
   "metadata": {},
   "outputs": [
    {
     "data": {
      "text/html": [
       "<div>\n",
       "<style scoped>\n",
       "    .dataframe tbody tr th:only-of-type {\n",
       "        vertical-align: middle;\n",
       "    }\n",
       "\n",
       "    .dataframe tbody tr th {\n",
       "        vertical-align: top;\n",
       "    }\n",
       "\n",
       "    .dataframe thead th {\n",
       "        text-align: right;\n",
       "    }\n",
       "</style>\n",
       "<table border=\"1\" class=\"dataframe\">\n",
       "  <thead>\n",
       "    <tr style=\"text-align: right;\">\n",
       "      <th></th>\n",
       "      <th>Avg. Area Income</th>\n",
       "      <th>Avg. Area House Age</th>\n",
       "      <th>Avg. Area Number of Rooms</th>\n",
       "      <th>Avg. Area Number of Bedrooms</th>\n",
       "      <th>Area Population</th>\n",
       "      <th>Price</th>\n",
       "      <th>Address</th>\n",
       "    </tr>\n",
       "  </thead>\n",
       "  <tbody>\n",
       "    <tr>\n",
       "      <th>0</th>\n",
       "      <td>79545.458574</td>\n",
       "      <td>5.682861</td>\n",
       "      <td>7.009188</td>\n",
       "      <td>4.09</td>\n",
       "      <td>23086.800503</td>\n",
       "      <td>1.059034e+06</td>\n",
       "      <td>208 Michael Ferry Apt. 674\\nLaurabury, NE 3701...</td>\n",
       "    </tr>\n",
       "    <tr>\n",
       "      <th>1</th>\n",
       "      <td>79248.642455</td>\n",
       "      <td>6.002900</td>\n",
       "      <td>6.730821</td>\n",
       "      <td>3.09</td>\n",
       "      <td>40173.072174</td>\n",
       "      <td>1.505891e+06</td>\n",
       "      <td>188 Johnson Views Suite 079\\nLake Kathleen, CA...</td>\n",
       "    </tr>\n",
       "    <tr>\n",
       "      <th>2</th>\n",
       "      <td>61287.067179</td>\n",
       "      <td>5.865890</td>\n",
       "      <td>8.512727</td>\n",
       "      <td>5.13</td>\n",
       "      <td>36882.159400</td>\n",
       "      <td>1.058988e+06</td>\n",
       "      <td>9127 Elizabeth Stravenue\\nDanieltown, WI 06482...</td>\n",
       "    </tr>\n",
       "    <tr>\n",
       "      <th>3</th>\n",
       "      <td>63345.240046</td>\n",
       "      <td>7.188236</td>\n",
       "      <td>5.586729</td>\n",
       "      <td>3.26</td>\n",
       "      <td>34310.242831</td>\n",
       "      <td>1.260617e+06</td>\n",
       "      <td>USS Barnett\\nFPO AP 44820</td>\n",
       "    </tr>\n",
       "    <tr>\n",
       "      <th>4</th>\n",
       "      <td>59982.197226</td>\n",
       "      <td>5.040555</td>\n",
       "      <td>7.839388</td>\n",
       "      <td>4.23</td>\n",
       "      <td>26354.109472</td>\n",
       "      <td>6.309435e+05</td>\n",
       "      <td>USNS Raymond\\nFPO AE 09386</td>\n",
       "    </tr>\n",
       "  </tbody>\n",
       "</table>\n",
       "</div>"
      ],
      "text/plain": [
       "   Avg. Area Income  Avg. Area House Age  Avg. Area Number of Rooms  \\\n",
       "0      79545.458574             5.682861                   7.009188   \n",
       "1      79248.642455             6.002900                   6.730821   \n",
       "2      61287.067179             5.865890                   8.512727   \n",
       "3      63345.240046             7.188236                   5.586729   \n",
       "4      59982.197226             5.040555                   7.839388   \n",
       "\n",
       "   Avg. Area Number of Bedrooms  Area Population         Price  \\\n",
       "0                          4.09     23086.800503  1.059034e+06   \n",
       "1                          3.09     40173.072174  1.505891e+06   \n",
       "2                          5.13     36882.159400  1.058988e+06   \n",
       "3                          3.26     34310.242831  1.260617e+06   \n",
       "4                          4.23     26354.109472  6.309435e+05   \n",
       "\n",
       "                                             Address  \n",
       "0  208 Michael Ferry Apt. 674\\nLaurabury, NE 3701...  \n",
       "1  188 Johnson Views Suite 079\\nLake Kathleen, CA...  \n",
       "2  9127 Elizabeth Stravenue\\nDanieltown, WI 06482...  \n",
       "3                          USS Barnett\\nFPO AP 44820  \n",
       "4                         USNS Raymond\\nFPO AE 09386  "
      ]
     },
     "execution_count": 25,
     "metadata": {},
     "output_type": "execute_result"
    }
   ],
   "source": [
    "#9\n",
    "housing = pd.read_csv('USA_Housing.csv')\n",
    "housing.head()\n"
   ]
  },
  {
   "cell_type": "code",
   "execution_count": 26,
   "metadata": {},
   "outputs": [
    {
     "data": {
      "text/plain": [
       "<matplotlib.axes._subplots.AxesSubplot at 0x241e5bf8788>"
      ]
     },
     "execution_count": 26,
     "metadata": {},
     "output_type": "execute_result"
    },
    {
     "data": {
      "image/png": "[encoded data removed]",
      "text/plain": [
       "<Figure size 432x288 with 1 Axes>"
      ]
     },
     "metadata": {
      "needs_background": "light"
     },
     "output_type": "display_data"
    }
   ],
   "source": [
    "data = housing[['Avg. Area Income','Price']]\n",
    "sns.scatterplot(x='Avg. Area Income', y='Price', data=data)"
   ]
  },
  {
   "cell_type": "code",
   "execution_count": 27,
   "metadata": {},
   "outputs": [],
   "source": [
    "from sklearn.cluster import KMeans\n",
    "kmeans = KMeans(n_clusters=3, random_state=0).fit(housing[['Avg. Area Income','Price']])\n"
   ]
  },
  {
   "cell_type": "code",
   "execution_count": 28,
   "metadata": {},
   "outputs": [
    {
     "data": {
      "text/plain": [
       "array([[  68519.18808535, 1229937.63135409],\n",
       "       [  76968.46279861, 1664754.87609389],\n",
       "       [  60145.49835734,  794643.73425279]])"
      ]
     },
     "execution_count": 28,
     "metadata": {},
     "output_type": "execute_result"
    }
   ],
   "source": [
    "kmeans.cluster_centers_"
   ]
  },
  {
   "cell_type": "code",
   "execution_count": 29,
   "metadata": {},
   "outputs": [
    {
     "data": {
      "text/plain": [
       "array([0, 1, 0, ..., 0, 0, 0])"
      ]
     },
     "execution_count": 29,
     "metadata": {},
     "output_type": "execute_result"
    }
   ],
   "source": [
    "kmeans.labels_\n"
   ]
  },
  {
   "cell_type": "code",
   "execution_count": 30,
   "metadata": {},
   "outputs": [
    {
     "ename": "NameError",
     "evalue": "name 'labels' is not defined",
     "output_type": "error",
     "traceback": [
      "\u001b[1;31m---------------------------------------------------------------------------\u001b[0m",
      "\u001b[1;31mNameError\u001b[0m                                 Traceback (most recent call last)",
      "\u001b[1;32m<ipython-input-30-73bffbdd4175>\u001b[0m in \u001b[0;36m<module>\u001b[1;34m\u001b[0m\n\u001b[0;32m      7\u001b[0m \u001b[1;31m#         labels[index] = 'Lower Middle Class Area'\u001b[0m\u001b[1;33m\u001b[0m\u001b[1;33m\u001b[0m\u001b[1;33m\u001b[0m\u001b[0m\n\u001b[0;32m      8\u001b[0m \u001b[1;33m\u001b[0m\u001b[0m\n\u001b[1;32m----> 9\u001b[1;33m \u001b[1;32mfor\u001b[0m \u001b[0mindex\u001b[0m \u001b[1;32min\u001b[0m \u001b[0mrange\u001b[0m\u001b[1;33m(\u001b[0m\u001b[0mlen\u001b[0m\u001b[1;33m(\u001b[0m\u001b[0mlabels\u001b[0m\u001b[1;33m)\u001b[0m\u001b[1;33m)\u001b[0m\u001b[1;33m:\u001b[0m\u001b[1;33m\u001b[0m\u001b[1;33m\u001b[0m\u001b[0m\n\u001b[0m\u001b[0;32m     10\u001b[0m     \u001b[1;32mif\u001b[0m \u001b[0mlabels\u001b[0m\u001b[1;33m[\u001b[0m\u001b[0mindex\u001b[0m\u001b[1;33m]\u001b[0m\u001b[1;33m==\u001b[0m\u001b[1;36m0\u001b[0m\u001b[1;33m:\u001b[0m\u001b[1;33m\u001b[0m\u001b[1;33m\u001b[0m\u001b[0m\n\u001b[0;32m     11\u001b[0m         \u001b[0mlabels\u001b[0m\u001b[1;33m[\u001b[0m\u001b[0mindex\u001b[0m\u001b[1;33m]\u001b[0m\u001b[1;33m=\u001b[0m\u001b[1;34m'Rich Area'\u001b[0m\u001b[1;33m\u001b[0m\u001b[1;33m\u001b[0m\u001b[0m\n",
      "\u001b[1;31mNameError\u001b[0m: name 'labels' is not defined"
     ]
    }
   ],
   "source": [
    "# for index in range(len(labels)):\n",
    "#     if labels[index]==0:\n",
    "#         labels[index]='Rich Area'\n",
    "#     elif labels[index]==1:\n",
    "#           labels[index]='Higher Middle Class Area'\n",
    "#     else:\n",
    "#         labels[index] = 'Lower Middle Class Area'\n",
    " \n",
    "for index in range(len(labels)):\n",
    "    if labels[index]==0:\n",
    "        labels[index]='Rich Area'\n",
    "    elif labels[index]==1:\n",
    "          labels[index]='Higher Middle Class Area'\n",
    "    else:\n",
    "        labels[index] = 'Lower Middle Class Area'\n",
    "        \n",
    "labels[:10]"
   ]
  },
  {
   "cell_type": "code",
   "execution_count": null,
   "metadata": {},
   "outputs": [],
   "source": [
    "housing['Area Class'] = labels\n"
   ]
  },
  {
   "cell_type": "code",
   "execution_count": null,
   "metadata": {},
   "outputs": [],
   "source": [
    "housing.head(5)"
   ]
  },
  {
   "cell_type": "code",
   "execution_count": null,
   "metadata": {},
   "outputs": [],
   "source": []
  }
 ],
 "metadata": {
  "kernelspec": {
   "display_name": "Python 3",
   "language": "python",
   "name": "python3"
  },
  "language_info": {
   "codemirror_mode": {
    "name": "ipython",
    "version": 3
   },
   "file_extension": ".py",
   "mimetype": "text/x-python",
   "name": "python",
   "nbconvert_exporter": "python",
   "pygments_lexer": "ipython3",
   "version": "3.7.6"
  }
 },
 "nbformat": 4,
 "nbformat_minor": 4
}
