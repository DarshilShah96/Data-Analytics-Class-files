{
 "cells": [
  {
   "cell_type": "code",
   "execution_count": 3,
   "metadata": {},
   "outputs": [],
   "source": [
    "import pandas as pd\n",
    "import matplotlib.pyplot as plt"
   ]
  },
  {
   "cell_type": "code",
   "execution_count": 4,
   "metadata": {},
   "outputs": [
    {
     "data": {
      "text/html": [
       "<div>\n",
       "<style scoped>\n",
       "    .dataframe tbody tr th:only-of-type {\n",
       "        vertical-align: middle;\n",
       "    }\n",
       "\n",
       "    .dataframe tbody tr th {\n",
       "        vertical-align: top;\n",
       "    }\n",
       "\n",
       "    .dataframe thead th {\n",
       "        text-align: right;\n",
       "    }\n",
       "</style>\n",
       "<table border=\"1\" class=\"dataframe\">\n",
       "  <thead>\n",
       "    <tr style=\"text-align: right;\">\n",
       "      <th></th>\n",
       "      <th>average_rate_per_night</th>\n",
       "      <th>bedrooms_count</th>\n",
       "      <th>city</th>\n",
       "      <th>date_of_listing</th>\n",
       "      <th>description</th>\n",
       "      <th>latitude</th>\n",
       "      <th>longitude</th>\n",
       "      <th>title</th>\n",
       "      <th>url</th>\n",
       "    </tr>\n",
       "  </thead>\n",
       "  <tbody>\n",
       "    <tr>\n",
       "      <th>1</th>\n",
       "      <td>$27</td>\n",
       "      <td>2</td>\n",
       "      <td>Humble</td>\n",
       "      <td>May 2016</td>\n",
       "      <td>Welcome to stay in private room with queen bed...</td>\n",
       "      <td>30.020138</td>\n",
       "      <td>-95.293996</td>\n",
       "      <td>2 Private rooms/bathroom 10min from IAH airport</td>\n",
       "      <td>https://www.airbnb.com/rooms/18520444?location...</td>\n",
       "    </tr>\n",
       "    <tr>\n",
       "      <th>2</th>\n",
       "      <td>$149</td>\n",
       "      <td>4</td>\n",
       "      <td>San Antonio</td>\n",
       "      <td>November 2010</td>\n",
       "      <td>Stylish, fully remodeled home in upscale NW – ...</td>\n",
       "      <td>29.503068</td>\n",
       "      <td>-98.447688</td>\n",
       "      <td>Unique Location! Alamo Heights - Designer Insp...</td>\n",
       "      <td>https://www.airbnb.com/rooms/17481455?location...</td>\n",
       "    </tr>\n",
       "    <tr>\n",
       "      <th>3</th>\n",
       "      <td>$59</td>\n",
       "      <td>1</td>\n",
       "      <td>Houston</td>\n",
       "      <td>January 2017</td>\n",
       "      <td>'River house on island close to the city' \\nA ...</td>\n",
       "      <td>29.829352</td>\n",
       "      <td>-95.081549</td>\n",
       "      <td>River house near the city</td>\n",
       "      <td>https://www.airbnb.com/rooms/16926307?location...</td>\n",
       "    </tr>\n",
       "    <tr>\n",
       "      <th>4</th>\n",
       "      <td>$60</td>\n",
       "      <td>1</td>\n",
       "      <td>Bryan</td>\n",
       "      <td>February 2016</td>\n",
       "      <td>Private bedroom in a cute little home situated...</td>\n",
       "      <td>30.637304</td>\n",
       "      <td>-96.337846</td>\n",
       "      <td>Private Room Close to Campus</td>\n",
       "      <td>https://www.airbnb.com/rooms/11839729?location...</td>\n",
       "    </tr>\n",
       "    <tr>\n",
       "      <th>5</th>\n",
       "      <td>$75</td>\n",
       "      <td>2</td>\n",
       "      <td>Fort Worth</td>\n",
       "      <td>February 2017</td>\n",
       "      <td>Welcome to our original 1920's home. We recent...</td>\n",
       "      <td>32.747097</td>\n",
       "      <td>-97.286434</td>\n",
       "      <td>The Porch</td>\n",
       "      <td>https://www.airbnb.com/rooms/17325114?location...</td>\n",
       "    </tr>\n",
       "  </tbody>\n",
       "</table>\n",
       "</div>"
      ],
      "text/plain": [
       "  average_rate_per_night bedrooms_count         city date_of_listing  \\\n",
       "1                    $27              2       Humble        May 2016   \n",
       "2                   $149              4  San Antonio   November 2010   \n",
       "3                    $59              1      Houston    January 2017   \n",
       "4                    $60              1        Bryan   February 2016   \n",
       "5                    $75              2   Fort Worth   February 2017   \n",
       "\n",
       "                                         description   latitude  longitude  \\\n",
       "1  Welcome to stay in private room with queen bed...  30.020138 -95.293996   \n",
       "2  Stylish, fully remodeled home in upscale NW – ...  29.503068 -98.447688   \n",
       "3  'River house on island close to the city' \\nA ...  29.829352 -95.081549   \n",
       "4  Private bedroom in a cute little home situated...  30.637304 -96.337846   \n",
       "5  Welcome to our original 1920's home. We recent...  32.747097 -97.286434   \n",
       "\n",
       "                                               title  \\\n",
       "1    2 Private rooms/bathroom 10min from IAH airport   \n",
       "2  Unique Location! Alamo Heights - Designer Insp...   \n",
       "3                          River house near the city   \n",
       "4                       Private Room Close to Campus   \n",
       "5                                          The Porch   \n",
       "\n",
       "                                                 url  \n",
       "1  https://www.airbnb.com/rooms/18520444?location...  \n",
       "2  https://www.airbnb.com/rooms/17481455?location...  \n",
       "3  https://www.airbnb.com/rooms/16926307?location...  \n",
       "4  https://www.airbnb.com/rooms/11839729?location...  \n",
       "5  https://www.airbnb.com/rooms/17325114?location...  "
      ]
     },
     "execution_count": 4,
     "metadata": {},
     "output_type": "execute_result"
    }
   ],
   "source": [
    "#q1\n",
    "airbnb=pd.read_csv('airbnb.csv', index_col=0 )\n",
    "airbnb.head()"
   ]
  },
  {
   "cell_type": "code",
   "execution_count": 5,
   "metadata": {},
   "outputs": [
    {
     "data": {
      "text/html": [
       "<div>\n",
       "<style scoped>\n",
       "    .dataframe tbody tr th:only-of-type {\n",
       "        vertical-align: middle;\n",
       "    }\n",
       "\n",
       "    .dataframe tbody tr th {\n",
       "        vertical-align: top;\n",
       "    }\n",
       "\n",
       "    .dataframe thead th {\n",
       "        text-align: right;\n",
       "    }\n",
       "</style>\n",
       "<table border=\"1\" class=\"dataframe\">\n",
       "  <thead>\n",
       "    <tr style=\"text-align: right;\">\n",
       "      <th></th>\n",
       "      <th>average_rate_per_night</th>\n",
       "      <th>bedrooms_count</th>\n",
       "      <th>city</th>\n",
       "      <th>date_of_listing</th>\n",
       "      <th>description</th>\n",
       "      <th>latitude</th>\n",
       "      <th>longitude</th>\n",
       "      <th>title</th>\n",
       "      <th>url</th>\n",
       "    </tr>\n",
       "  </thead>\n",
       "  <tbody>\n",
       "    <tr>\n",
       "      <th>1</th>\n",
       "      <td>$27</td>\n",
       "      <td>2</td>\n",
       "      <td>Humble</td>\n",
       "      <td>May 2016</td>\n",
       "      <td>Welcome to stay in private room with queen bed...</td>\n",
       "      <td>30.020138</td>\n",
       "      <td>-95.293996</td>\n",
       "      <td>2 Private rooms/bathroom 10min from IAH airport</td>\n",
       "      <td>https://www.airbnb.com/rooms/18520444?location...</td>\n",
       "    </tr>\n",
       "    <tr>\n",
       "      <th>2</th>\n",
       "      <td>$149</td>\n",
       "      <td>4</td>\n",
       "      <td>San Antonio</td>\n",
       "      <td>November 2010</td>\n",
       "      <td>Stylish, fully remodeled home in upscale NW – ...</td>\n",
       "      <td>29.503068</td>\n",
       "      <td>-98.447688</td>\n",
       "      <td>Unique Location! Alamo Heights - Designer Insp...</td>\n",
       "      <td>https://www.airbnb.com/rooms/17481455?location...</td>\n",
       "    </tr>\n",
       "    <tr>\n",
       "      <th>3</th>\n",
       "      <td>$59</td>\n",
       "      <td>1</td>\n",
       "      <td>Houston</td>\n",
       "      <td>January 2017</td>\n",
       "      <td>'River house on island close to the city' \\nA ...</td>\n",
       "      <td>29.829352</td>\n",
       "      <td>-95.081549</td>\n",
       "      <td>River house near the city</td>\n",
       "      <td>https://www.airbnb.com/rooms/16926307?location...</td>\n",
       "    </tr>\n",
       "    <tr>\n",
       "      <th>4</th>\n",
       "      <td>$60</td>\n",
       "      <td>1</td>\n",
       "      <td>Bryan</td>\n",
       "      <td>February 2016</td>\n",
       "      <td>Private bedroom in a cute little home situated...</td>\n",
       "      <td>30.637304</td>\n",
       "      <td>-96.337846</td>\n",
       "      <td>Private Room Close to Campus</td>\n",
       "      <td>https://www.airbnb.com/rooms/11839729?location...</td>\n",
       "    </tr>\n",
       "    <tr>\n",
       "      <th>5</th>\n",
       "      <td>$75</td>\n",
       "      <td>2</td>\n",
       "      <td>Fort Worth</td>\n",
       "      <td>February 2017</td>\n",
       "      <td>Welcome to our original 1920's home. We recent...</td>\n",
       "      <td>32.747097</td>\n",
       "      <td>-97.286434</td>\n",
       "      <td>The Porch</td>\n",
       "      <td>https://www.airbnb.com/rooms/17325114?location...</td>\n",
       "    </tr>\n",
       "    <tr>\n",
       "      <th>...</th>\n",
       "      <td>...</td>\n",
       "      <td>...</td>\n",
       "      <td>...</td>\n",
       "      <td>...</td>\n",
       "      <td>...</td>\n",
       "      <td>...</td>\n",
       "      <td>...</td>\n",
       "      <td>...</td>\n",
       "      <td>...</td>\n",
       "    </tr>\n",
       "    <tr>\n",
       "      <th>18255</th>\n",
       "      <td>$60</td>\n",
       "      <td>1</td>\n",
       "      <td>Dallas</td>\n",
       "      <td>March 2013</td>\n",
       "      <td>An entire 1 bedroom 700+sqft condo in the hear...</td>\n",
       "      <td>32.892303</td>\n",
       "      <td>-96.772049</td>\n",
       "      <td>Quiet comfort living in Dallas</td>\n",
       "      <td>https://www.airbnb.com/rooms/1011576?location=...</td>\n",
       "    </tr>\n",
       "    <tr>\n",
       "      <th>18256</th>\n",
       "      <td>$99</td>\n",
       "      <td>2</td>\n",
       "      <td>San Antonio</td>\n",
       "      <td>June 2015</td>\n",
       "      <td>An inviting 1920's cottage home in a popular u...</td>\n",
       "      <td>29.452893</td>\n",
       "      <td>-98.486756</td>\n",
       "      <td>Midtown Cottage Near Riverwalk</td>\n",
       "      <td>https://www.airbnb.com/rooms/18766940?location...</td>\n",
       "    </tr>\n",
       "    <tr>\n",
       "      <th>18257</th>\n",
       "      <td>$13</td>\n",
       "      <td>1</td>\n",
       "      <td>Dallas</td>\n",
       "      <td>December 2016</td>\n",
       "      <td>Amazing 3BHK Apartment in a picturesque Commun...</td>\n",
       "      <td>33.001955</td>\n",
       "      <td>-96.777615</td>\n",
       "      <td>Room in Dallas!</td>\n",
       "      <td>https://www.airbnb.com/rooms/18719059?location...</td>\n",
       "    </tr>\n",
       "    <tr>\n",
       "      <th>18258</th>\n",
       "      <td>$65</td>\n",
       "      <td>2</td>\n",
       "      <td>San Antonio</td>\n",
       "      <td>October 2016</td>\n",
       "      <td>My quaint and cozy home is conveniently locate...</td>\n",
       "      <td>29.450142</td>\n",
       "      <td>-98.505333</td>\n",
       "      <td>Vibrant Spacious Loft!</td>\n",
       "      <td>https://www.airbnb.com/rooms/18179329?location...</td>\n",
       "    </tr>\n",
       "    <tr>\n",
       "      <th>18259</th>\n",
       "      <td>$75</td>\n",
       "      <td>1</td>\n",
       "      <td>San Antonio</td>\n",
       "      <td>July 2015</td>\n",
       "      <td>Cute brand new, modern, guest house (we call i...</td>\n",
       "      <td>29.425508</td>\n",
       "      <td>-98.466833</td>\n",
       "      <td>Brand New Modern Pod in Historic Dignowity Hill</td>\n",
       "      <td>https://www.airbnb.com/rooms/16318144?location...</td>\n",
       "    </tr>\n",
       "  </tbody>\n",
       "</table>\n",
       "<p>18222 rows × 9 columns</p>\n",
       "</div>"
      ],
      "text/plain": [
       "      average_rate_per_night bedrooms_count         city date_of_listing  \\\n",
       "1                        $27              2       Humble        May 2016   \n",
       "2                       $149              4  San Antonio   November 2010   \n",
       "3                        $59              1      Houston    January 2017   \n",
       "4                        $60              1        Bryan   February 2016   \n",
       "5                        $75              2   Fort Worth   February 2017   \n",
       "...                      ...            ...          ...             ...   \n",
       "18255                    $60              1       Dallas      March 2013   \n",
       "18256                    $99              2  San Antonio       June 2015   \n",
       "18257                    $13              1       Dallas   December 2016   \n",
       "18258                    $65              2  San Antonio    October 2016   \n",
       "18259                    $75              1  San Antonio       July 2015   \n",
       "\n",
       "                                             description   latitude  \\\n",
       "1      Welcome to stay in private room with queen bed...  30.020138   \n",
       "2      Stylish, fully remodeled home in upscale NW – ...  29.503068   \n",
       "3      'River house on island close to the city' \\nA ...  29.829352   \n",
       "4      Private bedroom in a cute little home situated...  30.637304   \n",
       "5      Welcome to our original 1920's home. We recent...  32.747097   \n",
       "...                                                  ...        ...   \n",
       "18255  An entire 1 bedroom 700+sqft condo in the hear...  32.892303   \n",
       "18256  An inviting 1920's cottage home in a popular u...  29.452893   \n",
       "18257  Amazing 3BHK Apartment in a picturesque Commun...  33.001955   \n",
       "18258  My quaint and cozy home is conveniently locate...  29.450142   \n",
       "18259  Cute brand new, modern, guest house (we call i...  29.425508   \n",
       "\n",
       "       longitude                                              title  \\\n",
       "1     -95.293996    2 Private rooms/bathroom 10min from IAH airport   \n",
       "2     -98.447688  Unique Location! Alamo Heights - Designer Insp...   \n",
       "3     -95.081549                          River house near the city   \n",
       "4     -96.337846                       Private Room Close to Campus   \n",
       "5     -97.286434                                          The Porch   \n",
       "...          ...                                                ...   \n",
       "18255 -96.772049                     Quiet comfort living in Dallas   \n",
       "18256 -98.486756                     Midtown Cottage Near Riverwalk   \n",
       "18257 -96.777615                                    Room in Dallas!   \n",
       "18258 -98.505333                             Vibrant Spacious Loft!   \n",
       "18259 -98.466833    Brand New Modern Pod in Historic Dignowity Hill   \n",
       "\n",
       "                                                     url  \n",
       "1      https://www.airbnb.com/rooms/18520444?location...  \n",
       "2      https://www.airbnb.com/rooms/17481455?location...  \n",
       "3      https://www.airbnb.com/rooms/16926307?location...  \n",
       "4      https://www.airbnb.com/rooms/11839729?location...  \n",
       "5      https://www.airbnb.com/rooms/17325114?location...  \n",
       "...                                                  ...  \n",
       "18255  https://www.airbnb.com/rooms/1011576?location=...  \n",
       "18256  https://www.airbnb.com/rooms/18766940?location...  \n",
       "18257  https://www.airbnb.com/rooms/18719059?location...  \n",
       "18258  https://www.airbnb.com/rooms/18179329?location...  \n",
       "18259  https://www.airbnb.com/rooms/16318144?location...  \n",
       "\n",
       "[18222 rows x 9 columns]"
      ]
     },
     "execution_count": 5,
     "metadata": {},
     "output_type": "execute_result"
    }
   ],
   "source": [
    "#Q2 drop the records that have a missing value in any of the avg_rate_per_night,\n",
    "#,bedrooms_count,date_of_listing, lattitude and longitude\n",
    "\n",
    "airbnb=airbnb.dropna (subset=['average_rate_per_night','bedrooms_count','date_of_listing','latitude','longitude'])\n",
    "airbnb\n"
   ]
  },
  {
   "cell_type": "code",
   "execution_count": 6,
   "metadata": {},
   "outputs": [
    {
     "data": {
      "text/plain": [
       "dtype('O')"
      ]
     },
     "execution_count": 6,
     "metadata": {},
     "output_type": "execute_result"
    }
   ],
   "source": [
    "#q3 check whether or not there is any negative value in the column rate, if yes, remove the records\n",
    "\n",
    "airbnb['average_rate_per_night'].dtype"
   ]
  },
  {
   "cell_type": "code",
   "execution_count": 7,
   "metadata": {},
   "outputs": [],
   "source": [
    "#airbnb.apply(function)\n",
    "#airbnb['average_rate_per_night'].apply(lambda x : x.replace('$','')).astype(int).describe()"
   ]
  },
  {
   "cell_type": "code",
   "execution_count": 8,
   "metadata": {},
   "outputs": [
    {
     "data": {
      "text/plain": [
       "dtype('int32')"
      ]
     },
     "execution_count": 8,
     "metadata": {},
     "output_type": "execute_result"
    }
   ],
   "source": [
    "#remove the $ because a string with a $ cannot be converted into a number\n",
    "# in python, strA=strA.replace('$','')\n",
    "airbnb['average_rate_per_night']= airbnb['average_rate_per_night'].str.replace('$','')\n",
    "#want to change the column to an integer\n",
    "airbnb['average_rate_per_night']= airbnb['average_rate_per_night'].astype(int)\n",
    "airbnb['average_rate_per_night'].dtype\n"
   ]
  },
  {
   "cell_type": "code",
   "execution_count": 9,
   "metadata": {},
   "outputs": [
    {
     "data": {
      "text/html": [
       "<div>\n",
       "<style scoped>\n",
       "    .dataframe tbody tr th:only-of-type {\n",
       "        vertical-align: middle;\n",
       "    }\n",
       "\n",
       "    .dataframe tbody tr th {\n",
       "        vertical-align: top;\n",
       "    }\n",
       "\n",
       "    .dataframe thead th {\n",
       "        text-align: right;\n",
       "    }\n",
       "</style>\n",
       "<table border=\"1\" class=\"dataframe\">\n",
       "  <thead>\n",
       "    <tr style=\"text-align: right;\">\n",
       "      <th></th>\n",
       "      <th>average_rate_per_night</th>\n",
       "      <th>bedrooms_count</th>\n",
       "      <th>city</th>\n",
       "      <th>date_of_listing</th>\n",
       "      <th>description</th>\n",
       "      <th>latitude</th>\n",
       "      <th>longitude</th>\n",
       "      <th>title</th>\n",
       "      <th>url</th>\n",
       "    </tr>\n",
       "  </thead>\n",
       "  <tbody>\n",
       "  </tbody>\n",
       "</table>\n",
       "</div>"
      ],
      "text/plain": [
       "Empty DataFrame\n",
       "Columns: [average_rate_per_night, bedrooms_count, city, date_of_listing, description, latitude, longitude, title, url]\n",
       "Index: []"
      ]
     },
     "execution_count": 9,
     "metadata": {},
     "output_type": "execute_result"
    }
   ],
   "source": [
    "#next, we can compare integers with 0 and then to see whether or not there is any true\n",
    "airbnb[(airbnb['average_rate_per_night'] <0)]"
   ]
  },
  {
   "cell_type": "code",
   "execution_count": 10,
   "metadata": {},
   "outputs": [
    {
     "data": {
      "text/html": [
       "<div>\n",
       "<style scoped>\n",
       "    .dataframe tbody tr th:only-of-type {\n",
       "        vertical-align: middle;\n",
       "    }\n",
       "\n",
       "    .dataframe tbody tr th {\n",
       "        vertical-align: top;\n",
       "    }\n",
       "\n",
       "    .dataframe thead th {\n",
       "        text-align: right;\n",
       "    }\n",
       "</style>\n",
       "<table border=\"1\" class=\"dataframe\">\n",
       "  <thead>\n",
       "    <tr style=\"text-align: right;\">\n",
       "      <th></th>\n",
       "      <th>average_rate_per_night</th>\n",
       "      <th>bedrooms_count</th>\n",
       "      <th>city</th>\n",
       "      <th>date_of_listing</th>\n",
       "      <th>description</th>\n",
       "      <th>latitude</th>\n",
       "      <th>longitude</th>\n",
       "      <th>title</th>\n",
       "      <th>url</th>\n",
       "    </tr>\n",
       "  </thead>\n",
       "  <tbody>\n",
       "    <tr>\n",
       "      <th>1</th>\n",
       "      <td>27</td>\n",
       "      <td>2</td>\n",
       "      <td>Humble,TX</td>\n",
       "      <td>May 2016</td>\n",
       "      <td>Welcome to stay in private room with queen bed...</td>\n",
       "      <td>30.020138</td>\n",
       "      <td>-95.293996</td>\n",
       "      <td>2 Private rooms/bathroom 10min from IAH airport</td>\n",
       "      <td>https://www.airbnb.com/rooms/18520444?location...</td>\n",
       "    </tr>\n",
       "    <tr>\n",
       "      <th>2</th>\n",
       "      <td>149</td>\n",
       "      <td>4</td>\n",
       "      <td>San Antonio,TX</td>\n",
       "      <td>November 2010</td>\n",
       "      <td>Stylish, fully remodeled home in upscale NW – ...</td>\n",
       "      <td>29.503068</td>\n",
       "      <td>-98.447688</td>\n",
       "      <td>Unique Location! Alamo Heights - Designer Insp...</td>\n",
       "      <td>https://www.airbnb.com/rooms/17481455?location...</td>\n",
       "    </tr>\n",
       "    <tr>\n",
       "      <th>3</th>\n",
       "      <td>59</td>\n",
       "      <td>1</td>\n",
       "      <td>Houston,TX</td>\n",
       "      <td>January 2017</td>\n",
       "      <td>'River house on island close to the city' \\nA ...</td>\n",
       "      <td>29.829352</td>\n",
       "      <td>-95.081549</td>\n",
       "      <td>River house near the city</td>\n",
       "      <td>https://www.airbnb.com/rooms/16926307?location...</td>\n",
       "    </tr>\n",
       "    <tr>\n",
       "      <th>4</th>\n",
       "      <td>60</td>\n",
       "      <td>1</td>\n",
       "      <td>Bryan,TX</td>\n",
       "      <td>February 2016</td>\n",
       "      <td>Private bedroom in a cute little home situated...</td>\n",
       "      <td>30.637304</td>\n",
       "      <td>-96.337846</td>\n",
       "      <td>Private Room Close to Campus</td>\n",
       "      <td>https://www.airbnb.com/rooms/11839729?location...</td>\n",
       "    </tr>\n",
       "    <tr>\n",
       "      <th>5</th>\n",
       "      <td>75</td>\n",
       "      <td>2</td>\n",
       "      <td>Fort Worth,TX</td>\n",
       "      <td>February 2017</td>\n",
       "      <td>Welcome to our original 1920's home. We recent...</td>\n",
       "      <td>32.747097</td>\n",
       "      <td>-97.286434</td>\n",
       "      <td>The Porch</td>\n",
       "      <td>https://www.airbnb.com/rooms/17325114?location...</td>\n",
       "    </tr>\n",
       "  </tbody>\n",
       "</table>\n",
       "</div>"
      ],
      "text/plain": [
       "   average_rate_per_night bedrooms_count            city date_of_listing  \\\n",
       "1                      27              2       Humble,TX        May 2016   \n",
       "2                     149              4  San Antonio,TX   November 2010   \n",
       "3                      59              1      Houston,TX    January 2017   \n",
       "4                      60              1        Bryan,TX   February 2016   \n",
       "5                      75              2   Fort Worth,TX   February 2017   \n",
       "\n",
       "                                         description   latitude  longitude  \\\n",
       "1  Welcome to stay in private room with queen bed...  30.020138 -95.293996   \n",
       "2  Stylish, fully remodeled home in upscale NW – ...  29.503068 -98.447688   \n",
       "3  'River house on island close to the city' \\nA ...  29.829352 -95.081549   \n",
       "4  Private bedroom in a cute little home situated...  30.637304 -96.337846   \n",
       "5  Welcome to our original 1920's home. We recent...  32.747097 -97.286434   \n",
       "\n",
       "                                               title  \\\n",
       "1    2 Private rooms/bathroom 10min from IAH airport   \n",
       "2  Unique Location! Alamo Heights - Designer Insp...   \n",
       "3                          River house near the city   \n",
       "4                       Private Room Close to Campus   \n",
       "5                                          The Porch   \n",
       "\n",
       "                                                 url  \n",
       "1  https://www.airbnb.com/rooms/18520444?location...  \n",
       "2  https://www.airbnb.com/rooms/17481455?location...  \n",
       "3  https://www.airbnb.com/rooms/16926307?location...  \n",
       "4  https://www.airbnb.com/rooms/11839729?location...  \n",
       "5  https://www.airbnb.com/rooms/17325114?location...  "
      ]
     },
     "execution_count": 10,
     "metadata": {},
     "output_type": "execute_result"
    }
   ],
   "source": [
    "#q4 in the original dataframe, add TX to the end of all cities in the city column. For example, if the city is houston,\n",
    "#it should become Houston, TX\n",
    "#in pandas, suppose airbnb['rate']=airbnb['rate']+ 100, what does this mean?\n",
    "\n",
    "\n",
    "airbnb['city']=airbnb['city'] + ',TX'\n",
    "airbnb.head()"
   ]
  },
  {
   "cell_type": "code",
   "execution_count": 11,
   "metadata": {},
   "outputs": [
    {
     "data": {
      "text/plain": [
       "193.99878677585684"
      ]
     },
     "execution_count": 11,
     "metadata": {},
     "output_type": "execute_result"
    }
   ],
   "source": [
    "#q5. what is the average price of the 2-bedroom listing?\n",
    "#technique:boolean index\n",
    "\n",
    "airbnb[airbnb['bedrooms_count'] == '2'] ['average_rate_per_night']. mean()\n",
    "\n",
    "#def func(x):\n",
    " \n",
    "    #return x.replace('$','')\n",
    "#airbnb[airbnb['bedrooms_count'] == '2']['average_rate_per_night'].apply(func).astype(float).mean()\n",
    " "
   ]
  },
  {
   "cell_type": "code",
   "execution_count": 12,
   "metadata": {},
   "outputs": [
    {
     "data": {
      "text/plain": [
       "city\n",
       "Abilene,TX            137.000000\n",
       "Addison,TX             92.000000\n",
       "Alpine,TX              42.500000\n",
       "Alvarado,TX            58.000000\n",
       "Amarillo,TX            80.000000\n",
       "                         ...    \n",
       "Weatherford,TX         50.000000\n",
       "West Lake Hills,TX    126.000000\n",
       "Willis,TX             228.000000\n",
       "Wills Point,TX        100.000000\n",
       "Wimberley,TX          126.714286\n",
       "Name: average_rate_per_night, Length: 144, dtype: float64"
      ]
     },
     "execution_count": 12,
     "metadata": {},
     "output_type": "execute_result"
    }
   ],
   "source": [
    "#Q6 Display the studios , average price city by city , grouped by city\n",
    "\n",
    "airbnb[airbnb['bedrooms_count']=='Studio'].groupby('city')['average_rate_per_night'].mean()"
   ]
  },
  {
   "cell_type": "code",
   "execution_count": 13,
   "metadata": {},
   "outputs": [],
   "source": [
    "#cities = ['Houston,TX', 'Austin,TX', 'Dallas,TX']\n",
    "\n",
    "#airbnb[\n",
    " #   (airbnb['city'].isin(cities))\n",
    "  #  &\n",
    "   # (airbnb['bedrooms_count']=='3')\n",
    "\n",
    "#].groupby('city')['average_rate_per_night'].mean()"
   ]
  },
  {
   "cell_type": "code",
   "execution_count": 14,
   "metadata": {},
   "outputs": [
    {
     "data": {
      "text/plain": [
       "city\n",
       "Austin,TX     347.619048\n",
       "Dallas,TX     299.753846\n",
       "Houston,TX    600.573643\n",
       "Name: average_rate_per_night, dtype: float64"
      ]
     },
     "execution_count": 14,
     "metadata": {},
     "output_type": "execute_result"
    }
   ],
   "source": [
    "#Q7 display average price of 3 bed rooms for houston, TX, Austin, TX and Dallas,TX only\n",
    "mask=((airbnb['city']=='Houston,TX') | (airbnb['city']=='Dallas,TX') | (airbnb['city']=='Austin,TX')) & (airbnb['bedrooms_count']=='3') \n",
    "\n",
    "a1= airbnb[mask].groupby('city')['average_rate_per_night'].mean()\n",
    "a1"
   ]
  },
  {
   "cell_type": "code",
   "execution_count": 15,
   "metadata": {},
   "outputs": [],
   "source": [
    "#Q8 now we try to display a heatmap using google map.Answer question: what are five popular \n",
    "#areas for Airbnb listings in Texas?\n",
    "# import gmaps\n",
    "# gmaps.configure(api_key='')\n",
    "# tx_coordinates=(31.96,-99.90)\n",
    "# fig=gmaps.figure(center=tx_coordinates, zoom_level=5)\n",
    "# locations=airbnb[['latitude','longitude']]\n",
    "# prices = airbnb['average_rate_per_night']\n",
    "# fig.add_layer(gmaps.heatmap_layer(locations, weights=prices))\n",
    "# fig"
   ]
  },
  {
   "cell_type": "code",
   "execution_count": 16,
   "metadata": {},
   "outputs": [
    {
     "name": "stdout",
     "output_type": "stream",
     "text": [
      "Please enter the city: Houston,TX\n",
      "please enter the number of bedrooms: 2\n"
     ]
    },
    {
     "data": {
      "text/plain": [
       "307.0287081339713"
      ]
     },
     "execution_count": 16,
     "metadata": {},
     "output_type": "execute_result"
    }
   ],
   "source": [
    "#q9. Ask the user to enter a city and number of bedrooms your program will display an average nightly rate based on\n",
    "#the user's input\n",
    "city= input('Please enter the city: ')\n",
    "# city= 'Houston,TX' \n",
    "bed= input('please enter the number of bedrooms: ')\n",
    "mask= (airbnb['city']== city) & (airbnb['bedrooms_count'] == '2')\n",
    "airbnb[mask]['average_rate_per_night'].mean()"
   ]
  },
  {
   "cell_type": "markdown",
   "metadata": {},
   "source": []
  },
  {
   "cell_type": "code",
   "execution_count": 17,
   "metadata": {},
   "outputs": [
    {
     "data": {
      "text/plain": [
       "array(['2', '4', '1', '3', 'Studio', '7', '5', '8', '6', '9', '11', '13',\n",
       "       '10'], dtype=object)"
      ]
     },
     "execution_count": 17,
     "metadata": {},
     "output_type": "execute_result"
    }
   ],
   "source": [
    "#q10 display the types of all bedrooms count\n",
    "\n",
    "airbnb['bedrooms_count'].unique()\n"
   ]
  },
  {
   "cell_type": "code",
   "execution_count": 18,
   "metadata": {},
   "outputs": [],
   "source": [
    "#q11 on a google map, please mark the locations for the listings which have more or equal to 8 bedrooms.\n",
    "\n",
    "# mask=(airbnb['bedrooms_count']== '8') | (airbnb['bedrooms_count']== '9') | (airbnb['bedrooms_count']== '10') | (airbnb['bedrooms_count']== '11') | (airbnb['bedrooms_count']== '13')\n",
    "# bigRooms= airbnb[mask]\n",
    "# #add one colums to bigrooms\n",
    "# bigRooms['note']= bigRooms['bedrooms_count']+'Bedrooms, $'+ bigRooms['average_rate_per_night'].astype(str)\n",
    "# gmaps.configure(api_key='')\n",
    "# fig= gmaps.figure(center=tx_coordinates, zoom_level=5)\n",
    "# locations = bigRooms[['latitude','longitude']]\n",
    "# texts =bigRooms['note'].values\n",
    "# fig.add_layer(gmaps.marker_layer(locations))\n",
    "# fig"
   ]
  },
  {
   "cell_type": "code",
   "execution_count": 19,
   "metadata": {},
   "outputs": [
    {
     "data": {
      "text/plain": [
       "Text(0, 0.5, ' average price ')"
      ]
     },
     "execution_count": 19,
     "metadata": {},
     "output_type": "execute_result"
    },
    {
     "data": {
      "image/png": "[encoded data removed]",
      "text/plain": [
       "<Figure size 432x288 with 1 Axes>"
      ]
     },
     "metadata": {
      "needs_background": "light"
     },
     "output_type": "display_data"
    }
   ],
   "source": [
    "#Q12 draw a line chart for displaying the average price by years\n",
    "# we use to_datetime function to convert a string into a datatime obj\n",
    "airbnb['date_of_listing']= pd.to_datetime(airbnb['date_of_listing'])\n",
    "#airbnb['date_of_listing'].dtype()\n",
    "groupedByYear= airbnb.groupby(airbnb['date_of_listing'].dt.year)\n",
    "ax=groupedByYear['average_rate_per_night'].mean().plot(marker='o', color='r')\n",
    "ax.set_title('Texas Airbnb average price by year')\n",
    "ax.set_xlabel('Year')\n",
    "ax.set_ylabel(' average price ')\n"
   ]
  },
  {
   "cell_type": "code",
   "execution_count": 20,
   "metadata": {},
   "outputs": [],
   "source": [
    "#airbnb.assign(date_of_listing = lambda x : x['date_of_listing'].dt.year)[airbnb['bedrooms_count']=='1'].groupby('date_of_listing').agg({'average_rate_per_night':'sumsandhya art'}).plot.line(x='date_of_listing',y='average_rate_per_night')"
   ]
  },
  {
   "cell_type": "code",
   "execution_count": 21,
   "metadata": {},
   "outputs": [],
   "source": [
    "# airbnb[airbnb['bedrooms_count'].isin(['1','2','3'])]\\\n",
    "# .assign(date_of_listing = lambda x : x['date_of_listing'].dt.year)\\\n",
    "# .groupby(['bedrooms_count','date_of_listing'])['average_rate_per_night'].mean()\\\n",
    "# .plot.line()"
   ]
  },
  {
   "cell_type": "code",
   "execution_count": 22,
   "metadata": {},
   "outputs": [
    {
     "data": {
      "text/plain": [
       "date_of_listing\n",
       "2008    129.000000\n",
       "2009    137.619048\n",
       "2010    105.831579\n",
       "2011    140.953846\n",
       "2012    148.814493\n",
       "2013    144.709770\n",
       "2014    149.456036\n",
       "2015    152.813457\n",
       "2016    153.324032\n",
       "2017    182.488324\n",
       "Name: average_rate_per_night, dtype: float64"
      ]
     },
     "execution_count": 22,
     "metadata": {},
     "output_type": "execute_result"
    }
   ],
   "source": [
    "#13 draw a line chart for displaying the average nightly prices of 1,2,3 bedrooms by year respectively.\n",
    "# using boolean index to keep 1,2,3 bedrooms and then group by years, Take average price\n",
    "mask=(airbnb['bedrooms_count']== '1') |(airbnb['bedrooms_count']== '2') | (airbnb['bedrooms_count']== '3')\n",
    "grouped= airbnb[mask].groupby(airbnb['date_of_listing'].dt.year)\n",
    "grouped['average_rate_per_night'].mean()"
   ]
  },
  {
   "cell_type": "code",
   "execution_count": 23,
   "metadata": {
    "scrolled": true
   },
   "outputs": [
    {
     "data": {
      "image/png": "[encoded data removed]",
      "text/plain": [
       "<Figure size 432x288 with 1 Axes>"
      ]
     },
     "metadata": {
      "needs_background": "light"
     },
     "output_type": "display_data"
    }
   ],
   "source": [
    "pt = airbnb.pivot_table('average_rate_per_night', index=airbnb['date_of_listing'].dt.year,\n",
    "                        columns='bedrooms_count')\n",
    "ax=pt[['1','2','3']].plot(marker='s').set(title='1, 2, 3 bedroom Prices',xlabel='Year',ylabel='Average rate per night') #columns called in '1','2','3'\n",
    "# ax.set_title('1, 2, 3 bedroom Prices')\n",
    "# ax.set_xlabel('Year')\n",
    "# ax.set_ylabel('Average rate per night')\n",
    "\n",
    "#pt= pd.crosstab\n",
    "#pivot_table has ('values') has default param\n",
    "\n"
   ]
  },
  {
   "cell_type": "code",
   "execution_count": 24,
   "metadata": {},
   "outputs": [],
   "source": [
    "# pt.drop(2008)[['1','2','3']].plot(marker='s') WORKS 1 LINER"
   ]
  },
  {
   "cell_type": "code",
   "execution_count": 25,
   "metadata": {},
   "outputs": [
    {
     "data": {
      "text/html": [
       "<div>\n",
       "<style scoped>\n",
       "    .dataframe tbody tr th:only-of-type {\n",
       "        vertical-align: middle;\n",
       "    }\n",
       "\n",
       "    .dataframe tbody tr th {\n",
       "        vertical-align: top;\n",
       "    }\n",
       "\n",
       "    .dataframe thead th {\n",
       "        text-align: right;\n",
       "    }\n",
       "</style>\n",
       "<table border=\"1\" class=\"dataframe\">\n",
       "  <thead>\n",
       "    <tr style=\"text-align: right;\">\n",
       "      <th>bedrooms_count</th>\n",
       "      <th>1</th>\n",
       "      <th>10</th>\n",
       "      <th>11</th>\n",
       "      <th>13</th>\n",
       "      <th>2</th>\n",
       "      <th>3</th>\n",
       "      <th>4</th>\n",
       "      <th>5</th>\n",
       "      <th>6</th>\n",
       "      <th>7</th>\n",
       "      <th>8</th>\n",
       "      <th>9</th>\n",
       "      <th>Studio</th>\n",
       "    </tr>\n",
       "    <tr>\n",
       "      <th>date_of_listing</th>\n",
       "      <th></th>\n",
       "      <th></th>\n",
       "      <th></th>\n",
       "      <th></th>\n",
       "      <th></th>\n",
       "      <th></th>\n",
       "      <th></th>\n",
       "      <th></th>\n",
       "      <th></th>\n",
       "      <th></th>\n",
       "      <th></th>\n",
       "      <th></th>\n",
       "      <th></th>\n",
       "    </tr>\n",
       "  </thead>\n",
       "  <tbody>\n",
       "    <tr>\n",
       "      <th>2008</th>\n",
       "      <td>129.000000</td>\n",
       "      <td>NaN</td>\n",
       "      <td>NaN</td>\n",
       "      <td>NaN</td>\n",
       "      <td>NaN</td>\n",
       "      <td>NaN</td>\n",
       "      <td>NaN</td>\n",
       "      <td>NaN</td>\n",
       "      <td>NaN</td>\n",
       "      <td>NaN</td>\n",
       "      <td>NaN</td>\n",
       "      <td>NaN</td>\n",
       "      <td>NaN</td>\n",
       "    </tr>\n",
       "    <tr>\n",
       "      <th>2009</th>\n",
       "      <td>107.066667</td>\n",
       "      <td>NaN</td>\n",
       "      <td>NaN</td>\n",
       "      <td>NaN</td>\n",
       "      <td>114.000000</td>\n",
       "      <td>264.000000</td>\n",
       "      <td>195.000000</td>\n",
       "      <td>NaN</td>\n",
       "      <td>NaN</td>\n",
       "      <td>NaN</td>\n",
       "      <td>NaN</td>\n",
       "      <td>NaN</td>\n",
       "      <td>106.000000</td>\n",
       "    </tr>\n",
       "    <tr>\n",
       "      <th>2010</th>\n",
       "      <td>82.215385</td>\n",
       "      <td>NaN</td>\n",
       "      <td>NaN</td>\n",
       "      <td>NaN</td>\n",
       "      <td>121.714286</td>\n",
       "      <td>239.333333</td>\n",
       "      <td>271.076923</td>\n",
       "      <td>NaN</td>\n",
       "      <td>NaN</td>\n",
       "      <td>NaN</td>\n",
       "      <td>NaN</td>\n",
       "      <td>1000.0</td>\n",
       "      <td>124.666667</td>\n",
       "    </tr>\n",
       "    <tr>\n",
       "      <th>2011</th>\n",
       "      <td>100.227092</td>\n",
       "      <td>1757.50</td>\n",
       "      <td>NaN</td>\n",
       "      <td>NaN</td>\n",
       "      <td>140.840426</td>\n",
       "      <td>368.355556</td>\n",
       "      <td>418.111111</td>\n",
       "      <td>637.857143</td>\n",
       "      <td>325.000000</td>\n",
       "      <td>1232.500000</td>\n",
       "      <td>NaN</td>\n",
       "      <td>NaN</td>\n",
       "      <td>90.769231</td>\n",
       "    </tr>\n",
       "    <tr>\n",
       "      <th>2012</th>\n",
       "      <td>92.779279</td>\n",
       "      <td>NaN</td>\n",
       "      <td>NaN</td>\n",
       "      <td>NaN</td>\n",
       "      <td>180.331210</td>\n",
       "      <td>372.764045</td>\n",
       "      <td>780.000000</td>\n",
       "      <td>665.684211</td>\n",
       "      <td>1590.000000</td>\n",
       "      <td>1399.000000</td>\n",
       "      <td>1500.000000</td>\n",
       "      <td>NaN</td>\n",
       "      <td>93.603774</td>\n",
       "    </tr>\n",
       "    <tr>\n",
       "      <th>2013</th>\n",
       "      <td>84.837798</td>\n",
       "      <td>NaN</td>\n",
       "      <td>NaN</td>\n",
       "      <td>NaN</td>\n",
       "      <td>176.472906</td>\n",
       "      <td>344.627219</td>\n",
       "      <td>400.958333</td>\n",
       "      <td>790.629630</td>\n",
       "      <td>283.000000</td>\n",
       "      <td>NaN</td>\n",
       "      <td>1250.000000</td>\n",
       "      <td>1500.0</td>\n",
       "      <td>99.294643</td>\n",
       "    </tr>\n",
       "    <tr>\n",
       "      <th>2014</th>\n",
       "      <td>83.858513</td>\n",
       "      <td>3100.00</td>\n",
       "      <td>NaN</td>\n",
       "      <td>NaN</td>\n",
       "      <td>197.243792</td>\n",
       "      <td>340.341693</td>\n",
       "      <td>509.919118</td>\n",
       "      <td>805.534884</td>\n",
       "      <td>1002.263158</td>\n",
       "      <td>875.000000</td>\n",
       "      <td>1167.000000</td>\n",
       "      <td>NaN</td>\n",
       "      <td>83.763006</td>\n",
       "    </tr>\n",
       "    <tr>\n",
       "      <th>2015</th>\n",
       "      <td>93.935456</td>\n",
       "      <td>2224.75</td>\n",
       "      <td>NaN</td>\n",
       "      <td>NaN</td>\n",
       "      <td>199.733333</td>\n",
       "      <td>312.878981</td>\n",
       "      <td>513.516129</td>\n",
       "      <td>846.460674</td>\n",
       "      <td>1116.600000</td>\n",
       "      <td>496.666667</td>\n",
       "      <td>1201.500000</td>\n",
       "      <td>NaN</td>\n",
       "      <td>96.407216</td>\n",
       "    </tr>\n",
       "    <tr>\n",
       "      <th>2016</th>\n",
       "      <td>88.587404</td>\n",
       "      <td>2075.00</td>\n",
       "      <td>NaN</td>\n",
       "      <td>NaN</td>\n",
       "      <td>195.122807</td>\n",
       "      <td>320.069401</td>\n",
       "      <td>619.696104</td>\n",
       "      <td>878.294964</td>\n",
       "      <td>1215.392857</td>\n",
       "      <td>1090.933333</td>\n",
       "      <td>1639.333333</td>\n",
       "      <td>5500.0</td>\n",
       "      <td>105.133094</td>\n",
       "    </tr>\n",
       "    <tr>\n",
       "      <th>2017</th>\n",
       "      <td>95.590694</td>\n",
       "      <td>NaN</td>\n",
       "      <td>4803.0</td>\n",
       "      <td>3049.0</td>\n",
       "      <td>203.045455</td>\n",
       "      <td>372.221790</td>\n",
       "      <td>781.353952</td>\n",
       "      <td>1354.255814</td>\n",
       "      <td>1458.133333</td>\n",
       "      <td>1543.363636</td>\n",
       "      <td>NaN</td>\n",
       "      <td>NaN</td>\n",
       "      <td>156.527950</td>\n",
       "    </tr>\n",
       "  </tbody>\n",
       "</table>\n",
       "</div>"
      ],
      "text/plain": [
       "bedrooms_count            1       10      11      13           2           3  \\\n",
       "date_of_listing                                                                \n",
       "2008             129.000000      NaN     NaN     NaN         NaN         NaN   \n",
       "2009             107.066667      NaN     NaN     NaN  114.000000  264.000000   \n",
       "2010              82.215385      NaN     NaN     NaN  121.714286  239.333333   \n",
       "2011             100.227092  1757.50     NaN     NaN  140.840426  368.355556   \n",
       "2012              92.779279      NaN     NaN     NaN  180.331210  372.764045   \n",
       "2013              84.837798      NaN     NaN     NaN  176.472906  344.627219   \n",
       "2014              83.858513  3100.00     NaN     NaN  197.243792  340.341693   \n",
       "2015              93.935456  2224.75     NaN     NaN  199.733333  312.878981   \n",
       "2016              88.587404  2075.00     NaN     NaN  195.122807  320.069401   \n",
       "2017              95.590694      NaN  4803.0  3049.0  203.045455  372.221790   \n",
       "\n",
       "bedrooms_count            4            5            6            7  \\\n",
       "date_of_listing                                                      \n",
       "2008                    NaN          NaN          NaN          NaN   \n",
       "2009             195.000000          NaN          NaN          NaN   \n",
       "2010             271.076923          NaN          NaN          NaN   \n",
       "2011             418.111111   637.857143   325.000000  1232.500000   \n",
       "2012             780.000000   665.684211  1590.000000  1399.000000   \n",
       "2013             400.958333   790.629630   283.000000          NaN   \n",
       "2014             509.919118   805.534884  1002.263158   875.000000   \n",
       "2015             513.516129   846.460674  1116.600000   496.666667   \n",
       "2016             619.696104   878.294964  1215.392857  1090.933333   \n",
       "2017             781.353952  1354.255814  1458.133333  1543.363636   \n",
       "\n",
       "bedrooms_count             8       9      Studio  \n",
       "date_of_listing                                   \n",
       "2008                     NaN     NaN         NaN  \n",
       "2009                     NaN     NaN  106.000000  \n",
       "2010                     NaN  1000.0  124.666667  \n",
       "2011                     NaN     NaN   90.769231  \n",
       "2012             1500.000000     NaN   93.603774  \n",
       "2013             1250.000000  1500.0   99.294643  \n",
       "2014             1167.000000     NaN   83.763006  \n",
       "2015             1201.500000     NaN   96.407216  \n",
       "2016             1639.333333  5500.0  105.133094  \n",
       "2017                     NaN     NaN  156.527950  "
      ]
     },
     "execution_count": 25,
     "metadata": {},
     "output_type": "execute_result"
    }
   ],
   "source": [
    "pt"
   ]
  },
  {
   "cell_type": "code",
   "execution_count": 26,
   "metadata": {},
   "outputs": [
    {
     "data": {
      "text/html": [
       "<div>\n",
       "<style scoped>\n",
       "    .dataframe tbody tr th:only-of-type {\n",
       "        vertical-align: middle;\n",
       "    }\n",
       "\n",
       "    .dataframe tbody tr th {\n",
       "        vertical-align: top;\n",
       "    }\n",
       "\n",
       "    .dataframe thead th {\n",
       "        text-align: right;\n",
       "    }\n",
       "</style>\n",
       "<table border=\"1\" class=\"dataframe\">\n",
       "  <thead>\n",
       "    <tr style=\"text-align: right;\">\n",
       "      <th>bedrooms_count</th>\n",
       "      <th>1</th>\n",
       "      <th>2</th>\n",
       "      <th>3</th>\n",
       "      <th>4</th>\n",
       "      <th>5</th>\n",
       "      <th>6</th>\n",
       "      <th>7</th>\n",
       "      <th>9</th>\n",
       "      <th>Studio</th>\n",
       "    </tr>\n",
       "    <tr>\n",
       "      <th>date_of_listing</th>\n",
       "      <th></th>\n",
       "      <th></th>\n",
       "      <th></th>\n",
       "      <th></th>\n",
       "      <th></th>\n",
       "      <th></th>\n",
       "      <th></th>\n",
       "      <th></th>\n",
       "      <th></th>\n",
       "    </tr>\n",
       "  </thead>\n",
       "  <tbody>\n",
       "    <tr>\n",
       "      <th>2010</th>\n",
       "      <td>4</td>\n",
       "      <td>0</td>\n",
       "      <td>0</td>\n",
       "      <td>0</td>\n",
       "      <td>0</td>\n",
       "      <td>0</td>\n",
       "      <td>0</td>\n",
       "      <td>0</td>\n",
       "      <td>0</td>\n",
       "    </tr>\n",
       "    <tr>\n",
       "      <th>2011</th>\n",
       "      <td>10</td>\n",
       "      <td>3</td>\n",
       "      <td>0</td>\n",
       "      <td>1</td>\n",
       "      <td>0</td>\n",
       "      <td>0</td>\n",
       "      <td>0</td>\n",
       "      <td>0</td>\n",
       "      <td>5</td>\n",
       "    </tr>\n",
       "    <tr>\n",
       "      <th>2012</th>\n",
       "      <td>39</td>\n",
       "      <td>3</td>\n",
       "      <td>3</td>\n",
       "      <td>0</td>\n",
       "      <td>0</td>\n",
       "      <td>0</td>\n",
       "      <td>0</td>\n",
       "      <td>0</td>\n",
       "      <td>3</td>\n",
       "    </tr>\n",
       "    <tr>\n",
       "      <th>2013</th>\n",
       "      <td>64</td>\n",
       "      <td>5</td>\n",
       "      <td>8</td>\n",
       "      <td>3</td>\n",
       "      <td>0</td>\n",
       "      <td>0</td>\n",
       "      <td>0</td>\n",
       "      <td>0</td>\n",
       "      <td>5</td>\n",
       "    </tr>\n",
       "    <tr>\n",
       "      <th>2014</th>\n",
       "      <td>131</td>\n",
       "      <td>20</td>\n",
       "      <td>19</td>\n",
       "      <td>8</td>\n",
       "      <td>0</td>\n",
       "      <td>0</td>\n",
       "      <td>0</td>\n",
       "      <td>0</td>\n",
       "      <td>39</td>\n",
       "    </tr>\n",
       "    <tr>\n",
       "      <th>2015</th>\n",
       "      <td>240</td>\n",
       "      <td>32</td>\n",
       "      <td>19</td>\n",
       "      <td>9</td>\n",
       "      <td>2</td>\n",
       "      <td>1</td>\n",
       "      <td>0</td>\n",
       "      <td>0</td>\n",
       "      <td>19</td>\n",
       "    </tr>\n",
       "    <tr>\n",
       "      <th>2016</th>\n",
       "      <td>382</td>\n",
       "      <td>97</td>\n",
       "      <td>58</td>\n",
       "      <td>11</td>\n",
       "      <td>6</td>\n",
       "      <td>2</td>\n",
       "      <td>1</td>\n",
       "      <td>1</td>\n",
       "      <td>35</td>\n",
       "    </tr>\n",
       "    <tr>\n",
       "      <th>2017</th>\n",
       "      <td>116</td>\n",
       "      <td>49</td>\n",
       "      <td>22</td>\n",
       "      <td>13</td>\n",
       "      <td>5</td>\n",
       "      <td>1</td>\n",
       "      <td>0</td>\n",
       "      <td>0</td>\n",
       "      <td>9</td>\n",
       "    </tr>\n",
       "  </tbody>\n",
       "</table>\n",
       "</div>"
      ],
      "text/plain": [
       "bedrooms_count     1   2   3   4  5  6  7  9  Studio\n",
       "date_of_listing                                     \n",
       "2010               4   0   0   0  0  0  0  0       0\n",
       "2011              10   3   0   1  0  0  0  0       5\n",
       "2012              39   3   3   0  0  0  0  0       3\n",
       "2013              64   5   8   3  0  0  0  0       5\n",
       "2014             131  20  19   8  0  0  0  0      39\n",
       "2015             240  32  19   9  2  1  0  0      19\n",
       "2016             382  97  58  11  6  2  1  1      35\n",
       "2017             116  49  22  13  5  1  0  0       9"
      ]
     },
     "execution_count": 26,
     "metadata": {},
     "output_type": "execute_result"
    },
    {
     "data": {
      "image/png": "[encoded data removed]",
      "text/plain": [
       "<Figure size 432x288 with 1 Axes>"
      ]
     },
     "metadata": {
      "needs_background": "light"
     },
     "output_type": "display_data"
    }
   ],
   "source": [
    "#14 Do a subplot charts 2X2 with number of listings based on year and bedroom counts, using stacked column charts,\n",
    "# for 4 cities Dallas,Houston,Austin and San Antonio \n",
    "# How do we create Houston stacked column chart\n",
    "\n",
    "hou= airbnb[airbnb['city']=='Houston,TX']\n",
    "\n",
    "#what is crosstab?\n",
    "ct_hou=pd.crosstab(hou.date_of_listing.dt.year, hou.bedrooms_count)\n",
    "ct_hou.plot.barh(stacked=True)\n",
    "ct_hou"
   ]
  },
  {
   "cell_type": "raw",
   "metadata": {},
   "source": []
  },
  {
   "cell_type": "code",
   "execution_count": 27,
   "metadata": {},
   "outputs": [],
   "source": [
    "#cross tab= count it starts with pd\n",
    "#pivot table= aggregation functions by default it uses, mean it starts with df"
   ]
  },
  {
   "cell_type": "code",
   "execution_count": 28,
   "metadata": {},
   "outputs": [
    {
     "data": {
      "text/html": [
       "<div>\n",
       "<style scoped>\n",
       "    .dataframe tbody tr th:only-of-type {\n",
       "        vertical-align: middle;\n",
       "    }\n",
       "\n",
       "    .dataframe tbody tr th {\n",
       "        vertical-align: top;\n",
       "    }\n",
       "\n",
       "    .dataframe thead th {\n",
       "        text-align: right;\n",
       "    }\n",
       "</style>\n",
       "<table border=\"1\" class=\"dataframe\">\n",
       "  <thead>\n",
       "    <tr style=\"text-align: right;\">\n",
       "      <th>bedrooms_count</th>\n",
       "      <th>1</th>\n",
       "      <th>2</th>\n",
       "      <th>3</th>\n",
       "      <th>4</th>\n",
       "      <th>5</th>\n",
       "      <th>6</th>\n",
       "      <th>Studio</th>\n",
       "    </tr>\n",
       "    <tr>\n",
       "      <th>date_of_listing</th>\n",
       "      <th></th>\n",
       "      <th></th>\n",
       "      <th></th>\n",
       "      <th></th>\n",
       "      <th></th>\n",
       "      <th></th>\n",
       "      <th></th>\n",
       "    </tr>\n",
       "  </thead>\n",
       "  <tbody>\n",
       "    <tr>\n",
       "      <th>2009</th>\n",
       "      <td>2</td>\n",
       "      <td>1</td>\n",
       "      <td>1</td>\n",
       "      <td>0</td>\n",
       "      <td>0</td>\n",
       "      <td>0</td>\n",
       "      <td>2</td>\n",
       "    </tr>\n",
       "    <tr>\n",
       "      <th>2010</th>\n",
       "      <td>5</td>\n",
       "      <td>1</td>\n",
       "      <td>0</td>\n",
       "      <td>0</td>\n",
       "      <td>0</td>\n",
       "      <td>0</td>\n",
       "      <td>1</td>\n",
       "    </tr>\n",
       "    <tr>\n",
       "      <th>2011</th>\n",
       "      <td>18</td>\n",
       "      <td>10</td>\n",
       "      <td>1</td>\n",
       "      <td>0</td>\n",
       "      <td>0</td>\n",
       "      <td>0</td>\n",
       "      <td>6</td>\n",
       "    </tr>\n",
       "    <tr>\n",
       "      <th>2012</th>\n",
       "      <td>42</td>\n",
       "      <td>11</td>\n",
       "      <td>4</td>\n",
       "      <td>2</td>\n",
       "      <td>0</td>\n",
       "      <td>0</td>\n",
       "      <td>8</td>\n",
       "    </tr>\n",
       "    <tr>\n",
       "      <th>2013</th>\n",
       "      <td>103</td>\n",
       "      <td>16</td>\n",
       "      <td>6</td>\n",
       "      <td>4</td>\n",
       "      <td>0</td>\n",
       "      <td>0</td>\n",
       "      <td>13</td>\n",
       "    </tr>\n",
       "    <tr>\n",
       "      <th>2014</th>\n",
       "      <td>105</td>\n",
       "      <td>23</td>\n",
       "      <td>9</td>\n",
       "      <td>6</td>\n",
       "      <td>3</td>\n",
       "      <td>1</td>\n",
       "      <td>13</td>\n",
       "    </tr>\n",
       "    <tr>\n",
       "      <th>2015</th>\n",
       "      <td>177</td>\n",
       "      <td>46</td>\n",
       "      <td>18</td>\n",
       "      <td>10</td>\n",
       "      <td>1</td>\n",
       "      <td>0</td>\n",
       "      <td>33</td>\n",
       "    </tr>\n",
       "    <tr>\n",
       "      <th>2016</th>\n",
       "      <td>239</td>\n",
       "      <td>37</td>\n",
       "      <td>23</td>\n",
       "      <td>2</td>\n",
       "      <td>1</td>\n",
       "      <td>0</td>\n",
       "      <td>19</td>\n",
       "    </tr>\n",
       "    <tr>\n",
       "      <th>2017</th>\n",
       "      <td>78</td>\n",
       "      <td>29</td>\n",
       "      <td>3</td>\n",
       "      <td>7</td>\n",
       "      <td>0</td>\n",
       "      <td>0</td>\n",
       "      <td>5</td>\n",
       "    </tr>\n",
       "  </tbody>\n",
       "</table>\n",
       "</div>"
      ],
      "text/plain": [
       "bedrooms_count     1   2   3   4  5  6  Studio\n",
       "date_of_listing                               \n",
       "2009               2   1   1   0  0  0       2\n",
       "2010               5   1   0   0  0  0       1\n",
       "2011              18  10   1   0  0  0       6\n",
       "2012              42  11   4   2  0  0       8\n",
       "2013             103  16   6   4  0  0      13\n",
       "2014             105  23   9   6  3  1      13\n",
       "2015             177  46  18  10  1  0      33\n",
       "2016             239  37  23   2  1  0      19\n",
       "2017              78  29   3   7  0  0       5"
      ]
     },
     "execution_count": 28,
     "metadata": {},
     "output_type": "execute_result"
    },
    {
     "data": {
      "image/png": "[encoded data removed]",
      "text/plain": [
       "<Figure size 432x288 with 1 Axes>"
      ]
     },
     "metadata": {
      "needs_background": "light"
     },
     "output_type": "display_data"
    }
   ],
   "source": [
    "dal= airbnb[airbnb['city']=='Dallas,TX']\n",
    "\n",
    "\n",
    "ct_dal=pd.crosstab(dal['date_of_listing'].dt.year, dal['bedrooms_count'])\n",
    "ct_dal.plot.barh(stacked=True)\n",
    "ct_dal"
   ]
  },
  {
   "cell_type": "code",
   "execution_count": 29,
   "metadata": {},
   "outputs": [
    {
     "data": {
      "text/html": [
       "<div>\n",
       "<style scoped>\n",
       "    .dataframe tbody tr th:only-of-type {\n",
       "        vertical-align: middle;\n",
       "    }\n",
       "\n",
       "    .dataframe tbody tr th {\n",
       "        vertical-align: top;\n",
       "    }\n",
       "\n",
       "    .dataframe thead th {\n",
       "        text-align: right;\n",
       "    }\n",
       "</style>\n",
       "<table border=\"1\" class=\"dataframe\">\n",
       "  <thead>\n",
       "    <tr style=\"text-align: right;\">\n",
       "      <th>bedrooms_count</th>\n",
       "      <th>1</th>\n",
       "      <th>2</th>\n",
       "      <th>3</th>\n",
       "      <th>4</th>\n",
       "      <th>5</th>\n",
       "      <th>6</th>\n",
       "      <th>7</th>\n",
       "      <th>9</th>\n",
       "      <th>Studio</th>\n",
       "    </tr>\n",
       "    <tr>\n",
       "      <th>date_of_listing</th>\n",
       "      <th></th>\n",
       "      <th></th>\n",
       "      <th></th>\n",
       "      <th></th>\n",
       "      <th></th>\n",
       "      <th></th>\n",
       "      <th></th>\n",
       "      <th></th>\n",
       "      <th></th>\n",
       "    </tr>\n",
       "  </thead>\n",
       "  <tbody>\n",
       "    <tr>\n",
       "      <th>2009</th>\n",
       "      <td>10</td>\n",
       "      <td>0</td>\n",
       "      <td>1</td>\n",
       "      <td>0</td>\n",
       "      <td>0</td>\n",
       "      <td>0</td>\n",
       "      <td>0</td>\n",
       "      <td>0</td>\n",
       "      <td>3</td>\n",
       "    </tr>\n",
       "    <tr>\n",
       "      <th>2010</th>\n",
       "      <td>19</td>\n",
       "      <td>3</td>\n",
       "      <td>1</td>\n",
       "      <td>1</td>\n",
       "      <td>0</td>\n",
       "      <td>0</td>\n",
       "      <td>0</td>\n",
       "      <td>0</td>\n",
       "      <td>0</td>\n",
       "    </tr>\n",
       "    <tr>\n",
       "      <th>2011</th>\n",
       "      <td>68</td>\n",
       "      <td>12</td>\n",
       "      <td>9</td>\n",
       "      <td>2</td>\n",
       "      <td>1</td>\n",
       "      <td>0</td>\n",
       "      <td>1</td>\n",
       "      <td>0</td>\n",
       "      <td>9</td>\n",
       "    </tr>\n",
       "    <tr>\n",
       "      <th>2012</th>\n",
       "      <td>114</td>\n",
       "      <td>23</td>\n",
       "      <td>20</td>\n",
       "      <td>3</td>\n",
       "      <td>5</td>\n",
       "      <td>1</td>\n",
       "      <td>0</td>\n",
       "      <td>0</td>\n",
       "      <td>15</td>\n",
       "    </tr>\n",
       "    <tr>\n",
       "      <th>2013</th>\n",
       "      <td>119</td>\n",
       "      <td>27</td>\n",
       "      <td>21</td>\n",
       "      <td>5</td>\n",
       "      <td>3</td>\n",
       "      <td>0</td>\n",
       "      <td>0</td>\n",
       "      <td>1</td>\n",
       "      <td>30</td>\n",
       "    </tr>\n",
       "    <tr>\n",
       "      <th>2014</th>\n",
       "      <td>145</td>\n",
       "      <td>34</td>\n",
       "      <td>19</td>\n",
       "      <td>11</td>\n",
       "      <td>2</td>\n",
       "      <td>0</td>\n",
       "      <td>0</td>\n",
       "      <td>0</td>\n",
       "      <td>31</td>\n",
       "    </tr>\n",
       "    <tr>\n",
       "      <th>2015</th>\n",
       "      <td>173</td>\n",
       "      <td>26</td>\n",
       "      <td>26</td>\n",
       "      <td>13</td>\n",
       "      <td>1</td>\n",
       "      <td>1</td>\n",
       "      <td>0</td>\n",
       "      <td>0</td>\n",
       "      <td>16</td>\n",
       "    </tr>\n",
       "    <tr>\n",
       "      <th>2016</th>\n",
       "      <td>186</td>\n",
       "      <td>49</td>\n",
       "      <td>38</td>\n",
       "      <td>8</td>\n",
       "      <td>2</td>\n",
       "      <td>2</td>\n",
       "      <td>2</td>\n",
       "      <td>0</td>\n",
       "      <td>26</td>\n",
       "    </tr>\n",
       "    <tr>\n",
       "      <th>2017</th>\n",
       "      <td>77</td>\n",
       "      <td>24</td>\n",
       "      <td>12</td>\n",
       "      <td>4</td>\n",
       "      <td>2</td>\n",
       "      <td>0</td>\n",
       "      <td>0</td>\n",
       "      <td>0</td>\n",
       "      <td>20</td>\n",
       "    </tr>\n",
       "  </tbody>\n",
       "</table>\n",
       "</div>"
      ],
      "text/plain": [
       "bedrooms_count     1   2   3   4  5  6  7  9  Studio\n",
       "date_of_listing                                     \n",
       "2009              10   0   1   0  0  0  0  0       3\n",
       "2010              19   3   1   1  0  0  0  0       0\n",
       "2011              68  12   9   2  1  0  1  0       9\n",
       "2012             114  23  20   3  5  1  0  0      15\n",
       "2013             119  27  21   5  3  0  0  1      30\n",
       "2014             145  34  19  11  2  0  0  0      31\n",
       "2015             173  26  26  13  1  1  0  0      16\n",
       "2016             186  49  38   8  2  2  2  0      26\n",
       "2017              77  24  12   4  2  0  0  0      20"
      ]
     },
     "execution_count": 29,
     "metadata": {},
     "output_type": "execute_result"
    },
    {
     "data": {
      "image/png": "[encoded data removed]",
      "text/plain": [
       "<Figure size 432x288 with 1 Axes>"
      ]
     },
     "metadata": {
      "needs_background": "light"
     },
     "output_type": "display_data"
    }
   ],
   "source": [
    "aus= airbnb[airbnb['city']=='Austin,TX']\n",
    "\n",
    "\n",
    "ct_aus=pd.crosstab(aus['date_of_listing'].dt.year, aus['bedrooms_count'])\n",
    "ct_aus.plot.barh(stacked=True)\n",
    "ct_aus"
   ]
  },
  {
   "cell_type": "code",
   "execution_count": 30,
   "metadata": {},
   "outputs": [
    {
     "data": {
      "text/plain": [
       "Text(0, 0.5, 'year')"
      ]
     },
     "execution_count": 30,
     "metadata": {},
     "output_type": "execute_result"
    },
    {
     "data": {
      "image/png": "[encoded data removed]",
      "text/plain": [
       "<Figure size 1440x720 with 4 Axes>"
      ]
     },
     "metadata": {
      "needs_background": "light"
     },
     "output_type": "display_data"
    }
   ],
   "source": [
    "#create a subplot chart\n",
    "fig,axes=plt.subplots(2,2, figsize=(20,10))\n",
    "ct_hou.plot.barh(stacked=True,ax=axes[0,0])\n",
    "ct_aus.plot.barh(stacked=True,ax=axes[0,1])\n",
    "ct_hou.plot.barh(stacked=True,ax=axes[1,0])\n",
    "ct_dal.plot.barh(stacked=True,ax=axes[1,1])\n",
    "axes[0,0].set_title('Number of listings of houston')\n",
    "axes[0,1].set_title( 'Number of listings of austin')\n",
    "axes[0,0].set_ylabel('year')\n",
    "axes[0,1].set_ylabel('year')\n",
    "axes[1,0].set_ylabel('year')\n",
    "axes[1,1].set_ylabel('year')\n"
   ]
  },
  {
   "cell_type": "code",
   "execution_count": 31,
   "metadata": {},
   "outputs": [
    {
     "data": {
      "text/plain": [
       "<matplotlib.axes._subplots.AxesSubplot at 0x17ea1262208>"
      ]
     },
     "execution_count": 31,
     "metadata": {},
     "output_type": "execute_result"
    },
    {
     "data": {
      "image/png": "[encoded data removed]",
      "text/plain": [
       "<Figure size 432x288 with 1 Axes>"
      ]
     },
     "metadata": {
      "needs_background": "light"
     },
     "output_type": "display_data"
    }
   ],
   "source": [
    "#want to diplay a histogram chart for 1 bedroom listings where prices are between 0 and 500, using 50 bins\n",
    "_1bed=airbnb[airbnb['bedrooms_count']=='1']\n",
    "_1bed=_1bed[_1bed['average_rate_per_night']<=500]\n",
    "_1bed['average_rate_per_night'].plot.hist(bins=50)"
   ]
  },
  {
   "cell_type": "code",
   "execution_count": 32,
   "metadata": {},
   "outputs": [
    {
     "data": {
      "text/plain": [
       "<matplotlib.axes._subplots.AxesSubplot at 0x17ea0b9b5c8>"
      ]
     },
     "execution_count": 32,
     "metadata": {},
     "output_type": "execute_result"
    },
    {
     "data": {
      "image/png": "[encoded data removed]",
      "text/plain": [
       "<Figure size 432x288 with 1 Axes>"
      ]
     },
     "metadata": {
      "needs_background": "light"
     },
     "output_type": "display_data"
    }
   ],
   "source": [
    "#density chart\n",
    "_1bed['average_rate_per_night'].plot.density()"
   ]
  },
  {
   "cell_type": "code",
   "execution_count": 33,
   "metadata": {},
   "outputs": [
    {
     "data": {
      "text/plain": [
       "<matplotlib.axes._subplots.AxesSubplot at 0x17ea1cf2148>"
      ]
     },
     "execution_count": 33,
     "metadata": {},
     "output_type": "execute_result"
    },
    {
     "data": {
      "image/png": "[encoded data removed]",
      "text/plain": [
       "<Figure size 432x288 with 2 Axes>"
      ]
     },
     "metadata": {
      "needs_background": "light"
     },
     "output_type": "display_data"
    }
   ],
   "source": [
    "#In the following examples, We will see a new library\n",
    "#suppose we want to show a heatmap for houston's number of listings\n",
    "\n",
    "import seaborn as sns\n",
    "sns.heatmap(ct_hou, cmap=\"YlGnBu\")\n"
   ]
  },
  {
   "cell_type": "code",
   "execution_count": 34,
   "metadata": {},
   "outputs": [
    {
     "data": {
      "image/png": "[encoded data removed]",
      "text/plain": [
       "<Figure size 864x576 with 1 Axes>"
      ]
     },
     "metadata": {
      "needs_background": "light"
     },
     "output_type": "display_data"
    }
   ],
   "source": [
    "#how to use seaborn to create a scatter plot chart\n",
    "# sns.set(rc={'figure.figsize':(12,8)})\n",
    "# sns.scatterplot(x=airbnb['bedrooms_count'], y=airbnb['average_rate_per_night'])\n",
    "\n",
    "#or\n",
    "plt.figure(figsize=(12,8))\n",
    "s1=sns.scatterplot(data=airbnb, x='bedrooms_count', y='average_rate_per_night')\n",
    "# plt.figure(figsize=(12,8))\n",
    "\n",
    "# s1.figure(figsize=(12,8))\n",
    "# sns.scatterplot(figsize=(10,8))\n",
    "# sns.set(rc={'figure.figsize':(21, 14)}) #rc=Reconfiguration\n"
   ]
  },
  {
   "cell_type": "code",
   "execution_count": 35,
   "metadata": {},
   "outputs": [
    {
     "data": {
      "text/plain": [
       "<matplotlib.axes._subplots.AxesSubplot at 0x17ea31bbb88>"
      ]
     },
     "execution_count": 35,
     "metadata": {},
     "output_type": "execute_result"
    },
    {
     "data": {
      "image/png": "[encoded data removed]",
      "text/plain": [
       "<Figure size 432x288 with 1 Axes>"
      ]
     },
     "metadata": {
      "needs_background": "light"
     },
     "output_type": "display_data"
    }
   ],
   "source": [
    "#we will see how to combine histogram chart and density chart into one chart by using seaborn\n",
    "\n",
    "_2000listing=airbnb[airbnb['average_rate_per_night'] <=2000]\n",
    "sns.distplot(_2000listing['average_rate_per_night'], bins=20)"
   ]
  },
  {
   "cell_type": "code",
   "execution_count": null,
   "metadata": {},
   "outputs": [],
   "source": []
  }
 ],
 "metadata": {
  "kernelspec": {
   "display_name": "Python 3",
   "language": "python",
   "name": "python3"
  },
  "language_info": {
   "codemirror_mode": {
    "name": "ipython",
    "version": 3
   },
   "file_extension": ".py",
   "mimetype": "text/x-python",
   "name": "python",
   "nbconvert_exporter": "python",
   "pygments_lexer": "ipython3",
   "version": "3.7.6"
  }
 },
 "nbformat": 4,
 "nbformat_minor": 4
}
