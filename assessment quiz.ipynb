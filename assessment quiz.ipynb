{
 "cells": [
  {
   "cell_type": "code",
   "execution_count": 1,
   "metadata": {},
   "outputs": [],
   "source": [
    "import pandas as pd"
   ]
  },
  {
   "cell_type": "code",
   "execution_count": 2,
   "metadata": {},
   "outputs": [
    {
     "data": {
      "text/html": [
       "<div>\n",
       "<style scoped>\n",
       "    .dataframe tbody tr th:only-of-type {\n",
       "        vertical-align: middle;\n",
       "    }\n",
       "\n",
       "    .dataframe tbody tr th {\n",
       "        vertical-align: top;\n",
       "    }\n",
       "\n",
       "    .dataframe thead th {\n",
       "        text-align: right;\n",
       "    }\n",
       "</style>\n",
       "<table border=\"1\" class=\"dataframe\">\n",
       "  <thead>\n",
       "    <tr style=\"text-align: right;\">\n",
       "      <th></th>\n",
       "      <th>date</th>\n",
       "      <th>tx_from</th>\n",
       "      <th>tx_to</th>\n",
       "      <th>tx_amount</th>\n",
       "      <th>tx_fee</th>\n",
       "    </tr>\n",
       "  </thead>\n",
       "  <tbody>\n",
       "    <tr>\n",
       "      <th>0</th>\n",
       "      <td>11-15-2018</td>\n",
       "      <td>Central Bank</td>\n",
       "      <td>A1</td>\n",
       "      <td>98 VLC</td>\n",
       "      <td>0.0</td>\n",
       "    </tr>\n",
       "    <tr>\n",
       "      <th>1</th>\n",
       "      <td>11-16-2018</td>\n",
       "      <td>A1</td>\n",
       "      <td>B4</td>\n",
       "      <td>35 VLC</td>\n",
       "      <td>4.0</td>\n",
       "    </tr>\n",
       "    <tr>\n",
       "      <th>2</th>\n",
       "      <td>11-16-2018</td>\n",
       "      <td>Central Bank</td>\n",
       "      <td>C6</td>\n",
       "      <td>64 VLC</td>\n",
       "      <td>0.0</td>\n",
       "    </tr>\n",
       "    <tr>\n",
       "      <th>3</th>\n",
       "      <td>11-16-2018</td>\n",
       "      <td>B4</td>\n",
       "      <td>C6</td>\n",
       "      <td>23 VLC</td>\n",
       "      <td>3.0</td>\n",
       "    </tr>\n",
       "    <tr>\n",
       "      <th>4</th>\n",
       "      <td>11-16-2018</td>\n",
       "      <td>Central Bank</td>\n",
       "      <td>B2</td>\n",
       "      <td>167 VLC</td>\n",
       "      <td>0.0</td>\n",
       "    </tr>\n",
       "    <tr>\n",
       "      <th>...</th>\n",
       "      <td>...</td>\n",
       "      <td>...</td>\n",
       "      <td>...</td>\n",
       "      <td>...</td>\n",
       "      <td>...</td>\n",
       "    </tr>\n",
       "    <tr>\n",
       "      <th>567333</th>\n",
       "      <td>06-25-2019</td>\n",
       "      <td>Central Bank</td>\n",
       "      <td>H1</td>\n",
       "      <td>189 VLC</td>\n",
       "      <td>0.0</td>\n",
       "    </tr>\n",
       "    <tr>\n",
       "      <th>567334</th>\n",
       "      <td>06-25-2019</td>\n",
       "      <td>F2</td>\n",
       "      <td>G6</td>\n",
       "      <td>15 VLC</td>\n",
       "      <td>1.0</td>\n",
       "    </tr>\n",
       "    <tr>\n",
       "      <th>567335</th>\n",
       "      <td>06-25-2019</td>\n",
       "      <td>J6</td>\n",
       "      <td>G5</td>\n",
       "      <td>91 VLC</td>\n",
       "      <td>10.0</td>\n",
       "    </tr>\n",
       "    <tr>\n",
       "      <th>567336</th>\n",
       "      <td>06-25-2019</td>\n",
       "      <td>A1</td>\n",
       "      <td>G9</td>\n",
       "      <td>28 VLC</td>\n",
       "      <td>3.0</td>\n",
       "    </tr>\n",
       "    <tr>\n",
       "      <th>567337</th>\n",
       "      <td>06-25-2019</td>\n",
       "      <td>K5</td>\n",
       "      <td>H5</td>\n",
       "      <td>67 VLC</td>\n",
       "      <td>7.0</td>\n",
       "    </tr>\n",
       "  </tbody>\n",
       "</table>\n",
       "<p>567338 rows × 5 columns</p>\n",
       "</div>"
      ],
      "text/plain": [
       "              date       tx_from tx_to tx_amount  tx_fee\n",
       "0       11-15-2018  Central Bank    A1    98 VLC     0.0\n",
       "1       11-16-2018            A1    B4    35 VLC     4.0\n",
       "2       11-16-2018  Central Bank    C6    64 VLC     0.0\n",
       "3       11-16-2018            B4    C6    23 VLC     3.0\n",
       "4       11-16-2018  Central Bank    B2   167 VLC     0.0\n",
       "...            ...           ...   ...       ...     ...\n",
       "567333  06-25-2019  Central Bank    H1   189 VLC     0.0\n",
       "567334  06-25-2019            F2    G6    15 VLC     1.0\n",
       "567335  06-25-2019            J6    G5    91 VLC    10.0\n",
       "567336  06-25-2019            A1    G9    28 VLC     3.0\n",
       "567337  06-25-2019            K5    H5    67 VLC     7.0\n",
       "\n",
       "[567338 rows x 5 columns]"
      ]
     },
     "execution_count": 2,
     "metadata": {},
     "output_type": "execute_result"
    }
   ],
   "source": [
    "data1 = pd.read_csv('vulcancoin-part1.csv')\n",
    "data1"
   ]
  },
  {
   "cell_type": "code",
   "execution_count": 3,
   "metadata": {},
   "outputs": [
    {
     "data": {
      "text/html": [
       "<div>\n",
       "<style scoped>\n",
       "    .dataframe tbody tr th:only-of-type {\n",
       "        vertical-align: middle;\n",
       "    }\n",
       "\n",
       "    .dataframe tbody tr th {\n",
       "        vertical-align: top;\n",
       "    }\n",
       "\n",
       "    .dataframe thead th {\n",
       "        text-align: right;\n",
       "    }\n",
       "</style>\n",
       "<table border=\"1\" class=\"dataframe\">\n",
       "  <thead>\n",
       "    <tr style=\"text-align: right;\">\n",
       "      <th></th>\n",
       "      <th>date</th>\n",
       "      <th>tx_from</th>\n",
       "      <th>tx_to</th>\n",
       "      <th>tx_amount</th>\n",
       "      <th>tx_fee</th>\n",
       "    </tr>\n",
       "  </thead>\n",
       "  <tbody>\n",
       "    <tr>\n",
       "      <th>0</th>\n",
       "      <td>06-25-2019</td>\n",
       "      <td>F9</td>\n",
       "      <td>K5</td>\n",
       "      <td>7 VLC</td>\n",
       "      <td>1.0</td>\n",
       "    </tr>\n",
       "    <tr>\n",
       "      <th>1</th>\n",
       "      <td>06-25-2019</td>\n",
       "      <td>A3</td>\n",
       "      <td>G4</td>\n",
       "      <td>190 VLC</td>\n",
       "      <td>9.0</td>\n",
       "    </tr>\n",
       "    <tr>\n",
       "      <th>2</th>\n",
       "      <td>06-25-2019</td>\n",
       "      <td>H6</td>\n",
       "      <td>H9</td>\n",
       "      <td>46 VLC</td>\n",
       "      <td>3.0</td>\n",
       "    </tr>\n",
       "    <tr>\n",
       "      <th>3</th>\n",
       "      <td>06-25-2019</td>\n",
       "      <td>A9</td>\n",
       "      <td>D3</td>\n",
       "      <td>17 VLC</td>\n",
       "      <td>2.0</td>\n",
       "    </tr>\n",
       "    <tr>\n",
       "      <th>4</th>\n",
       "      <td>06-25-2019</td>\n",
       "      <td>J1</td>\n",
       "      <td>F8</td>\n",
       "      <td>132 VLC</td>\n",
       "      <td>13.0</td>\n",
       "    </tr>\n",
       "    <tr>\n",
       "      <th>...</th>\n",
       "      <td>...</td>\n",
       "      <td>...</td>\n",
       "      <td>...</td>\n",
       "      <td>...</td>\n",
       "      <td>...</td>\n",
       "    </tr>\n",
       "    <tr>\n",
       "      <th>567334</th>\n",
       "      <td>12-09-2019</td>\n",
       "      <td>F5</td>\n",
       "      <td>A6</td>\n",
       "      <td>77 VLC</td>\n",
       "      <td>6.0</td>\n",
       "    </tr>\n",
       "    <tr>\n",
       "      <th>567335</th>\n",
       "      <td>12-09-2019</td>\n",
       "      <td>C8</td>\n",
       "      <td>K3</td>\n",
       "      <td>75 VLC</td>\n",
       "      <td>6.0</td>\n",
       "    </tr>\n",
       "    <tr>\n",
       "      <th>567336</th>\n",
       "      <td>12-09-2019</td>\n",
       "      <td>K6</td>\n",
       "      <td>C3</td>\n",
       "      <td>148 VLC</td>\n",
       "      <td>17.0</td>\n",
       "    </tr>\n",
       "    <tr>\n",
       "      <th>567337</th>\n",
       "      <td>12-09-2019</td>\n",
       "      <td>G4</td>\n",
       "      <td>E3</td>\n",
       "      <td>30 VLC</td>\n",
       "      <td>2.0</td>\n",
       "    </tr>\n",
       "    <tr>\n",
       "      <th>567338</th>\n",
       "      <td>12-09-2019</td>\n",
       "      <td>C2</td>\n",
       "      <td>C3</td>\n",
       "      <td>48 VLC</td>\n",
       "      <td>5.0</td>\n",
       "    </tr>\n",
       "  </tbody>\n",
       "</table>\n",
       "<p>567339 rows × 5 columns</p>\n",
       "</div>"
      ],
      "text/plain": [
       "              date tx_from tx_to tx_amount  tx_fee\n",
       "0       06-25-2019      F9    K5     7 VLC     1.0\n",
       "1       06-25-2019      A3    G4   190 VLC     9.0\n",
       "2       06-25-2019      H6    H9    46 VLC     3.0\n",
       "3       06-25-2019      A9    D3    17 VLC     2.0\n",
       "4       06-25-2019      J1    F8   132 VLC    13.0\n",
       "...            ...     ...   ...       ...     ...\n",
       "567334  12-09-2019      F5    A6    77 VLC     6.0\n",
       "567335  12-09-2019      C8    K3    75 VLC     6.0\n",
       "567336  12-09-2019      K6    C3   148 VLC    17.0\n",
       "567337  12-09-2019      G4    E3    30 VLC     2.0\n",
       "567338  12-09-2019      C2    C3    48 VLC     5.0\n",
       "\n",
       "[567339 rows x 5 columns]"
      ]
     },
     "execution_count": 3,
     "metadata": {},
     "output_type": "execute_result"
    }
   ],
   "source": [
    "data2 = pd.read_csv('vulcancoin-part2.csv')\n",
    "data2"
   ]
  },
  {
   "cell_type": "code",
   "execution_count": 7,
   "metadata": {},
   "outputs": [
    {
     "data": {
      "text/html": [
       "<div>\n",
       "<style scoped>\n",
       "    .dataframe tbody tr th:only-of-type {\n",
       "        vertical-align: middle;\n",
       "    }\n",
       "\n",
       "    .dataframe tbody tr th {\n",
       "        vertical-align: top;\n",
       "    }\n",
       "\n",
       "    .dataframe thead th {\n",
       "        text-align: right;\n",
       "    }\n",
       "</style>\n",
       "<table border=\"1\" class=\"dataframe\">\n",
       "  <thead>\n",
       "    <tr style=\"text-align: right;\">\n",
       "      <th></th>\n",
       "      <th>date</th>\n",
       "      <th>tx_from</th>\n",
       "      <th>tx_to</th>\n",
       "      <th>tx_amount</th>\n",
       "      <th>tx_fee</th>\n",
       "    </tr>\n",
       "  </thead>\n",
       "  <tbody>\n",
       "    <tr>\n",
       "      <th>0</th>\n",
       "      <td>11-15-2018</td>\n",
       "      <td>Central Bank</td>\n",
       "      <td>A1</td>\n",
       "      <td>98 VLC</td>\n",
       "      <td>0.0</td>\n",
       "    </tr>\n",
       "    <tr>\n",
       "      <th>1</th>\n",
       "      <td>11-16-2018</td>\n",
       "      <td>A1</td>\n",
       "      <td>B4</td>\n",
       "      <td>35 VLC</td>\n",
       "      <td>4.0</td>\n",
       "    </tr>\n",
       "    <tr>\n",
       "      <th>2</th>\n",
       "      <td>11-16-2018</td>\n",
       "      <td>Central Bank</td>\n",
       "      <td>C6</td>\n",
       "      <td>64 VLC</td>\n",
       "      <td>0.0</td>\n",
       "    </tr>\n",
       "    <tr>\n",
       "      <th>3</th>\n",
       "      <td>11-16-2018</td>\n",
       "      <td>B4</td>\n",
       "      <td>C6</td>\n",
       "      <td>23 VLC</td>\n",
       "      <td>3.0</td>\n",
       "    </tr>\n",
       "    <tr>\n",
       "      <th>4</th>\n",
       "      <td>11-16-2018</td>\n",
       "      <td>Central Bank</td>\n",
       "      <td>B2</td>\n",
       "      <td>167 VLC</td>\n",
       "      <td>0.0</td>\n",
       "    </tr>\n",
       "    <tr>\n",
       "      <th>...</th>\n",
       "      <td>...</td>\n",
       "      <td>...</td>\n",
       "      <td>...</td>\n",
       "      <td>...</td>\n",
       "      <td>...</td>\n",
       "    </tr>\n",
       "    <tr>\n",
       "      <th>567334</th>\n",
       "      <td>12-09-2019</td>\n",
       "      <td>F5</td>\n",
       "      <td>A6</td>\n",
       "      <td>77 VLC</td>\n",
       "      <td>6.0</td>\n",
       "    </tr>\n",
       "    <tr>\n",
       "      <th>567335</th>\n",
       "      <td>12-09-2019</td>\n",
       "      <td>C8</td>\n",
       "      <td>K3</td>\n",
       "      <td>75 VLC</td>\n",
       "      <td>6.0</td>\n",
       "    </tr>\n",
       "    <tr>\n",
       "      <th>567336</th>\n",
       "      <td>12-09-2019</td>\n",
       "      <td>K6</td>\n",
       "      <td>C3</td>\n",
       "      <td>148 VLC</td>\n",
       "      <td>17.0</td>\n",
       "    </tr>\n",
       "    <tr>\n",
       "      <th>567337</th>\n",
       "      <td>12-09-2019</td>\n",
       "      <td>G4</td>\n",
       "      <td>E3</td>\n",
       "      <td>30 VLC</td>\n",
       "      <td>2.0</td>\n",
       "    </tr>\n",
       "    <tr>\n",
       "      <th>567338</th>\n",
       "      <td>12-09-2019</td>\n",
       "      <td>C2</td>\n",
       "      <td>C3</td>\n",
       "      <td>48 VLC</td>\n",
       "      <td>5.0</td>\n",
       "    </tr>\n",
       "  </tbody>\n",
       "</table>\n",
       "<p>1134677 rows × 5 columns</p>\n",
       "</div>"
      ],
      "text/plain": [
       "              date       tx_from tx_to tx_amount  tx_fee\n",
       "0       11-15-2018  Central Bank    A1    98 VLC     0.0\n",
       "1       11-16-2018            A1    B4    35 VLC     4.0\n",
       "2       11-16-2018  Central Bank    C6    64 VLC     0.0\n",
       "3       11-16-2018            B4    C6    23 VLC     3.0\n",
       "4       11-16-2018  Central Bank    B2   167 VLC     0.0\n",
       "...            ...           ...   ...       ...     ...\n",
       "567334  12-09-2019            F5    A6    77 VLC     6.0\n",
       "567335  12-09-2019            C8    K3    75 VLC     6.0\n",
       "567336  12-09-2019            K6    C3   148 VLC    17.0\n",
       "567337  12-09-2019            G4    E3    30 VLC     2.0\n",
       "567338  12-09-2019            C2    C3    48 VLC     5.0\n",
       "\n",
       "[1134677 rows x 5 columns]"
      ]
     },
     "execution_count": 7,
     "metadata": {},
     "output_type": "execute_result"
    }
   ],
   "source": [
    "data = pd.concat([data1,data2])\n",
    "data.reset_index(drop=True)\n",
    "data"
   ]
  },
  {
   "cell_type": "code",
   "execution_count": 10,
   "metadata": {},
   "outputs": [
    {
     "data": {
      "text/plain": [
       "date         12-05-2018\n",
       "tx_from              K8\n",
       "tx_to                C4\n",
       "tx_amount        23 VLC\n",
       "tx_fee                2\n",
       "Name: 59999, dtype: object"
      ]
     },
     "execution_count": 10,
     "metadata": {},
     "output_type": "execute_result"
    }
   ],
   "source": [
    "data1.xs(59999)"
   ]
  },
  {
   "cell_type": "code",
   "execution_count": 13,
   "metadata": {},
   "outputs": [
    {
     "data": {
      "text/plain": [
       "(567339, 5)"
      ]
     },
     "execution_count": 13,
     "metadata": {},
     "output_type": "execute_result"
    }
   ],
   "source": [
    "data2.shape"
   ]
  },
  {
   "cell_type": "code",
   "execution_count": 16,
   "metadata": {},
   "outputs": [],
   "source": [
    "data['tx_free']=data['tx_fee'].fillna('3')"
   ]
  },
  {
   "cell_type": "code",
   "execution_count": 19,
   "metadata": {},
   "outputs": [],
   "source": [
    "data['tx_amount']=data['tx_amount'].apply(lambda x : x.replace(' VLC','')).apply(int)"
   ]
  },
  {
   "cell_type": "code",
   "execution_count": 20,
   "metadata": {},
   "outputs": [
    {
     "data": {
      "text/html": [
       "<div>\n",
       "<style scoped>\n",
       "    .dataframe tbody tr th:only-of-type {\n",
       "        vertical-align: middle;\n",
       "    }\n",
       "\n",
       "    .dataframe tbody tr th {\n",
       "        vertical-align: top;\n",
       "    }\n",
       "\n",
       "    .dataframe thead th {\n",
       "        text-align: right;\n",
       "    }\n",
       "</style>\n",
       "<table border=\"1\" class=\"dataframe\">\n",
       "  <thead>\n",
       "    <tr style=\"text-align: right;\">\n",
       "      <th></th>\n",
       "      <th>tx_amount</th>\n",
       "      <th>tx_fee</th>\n",
       "    </tr>\n",
       "  </thead>\n",
       "  <tbody>\n",
       "    <tr>\n",
       "      <th>tx_amount</th>\n",
       "      <td>1.000000</td>\n",
       "      <td>0.869223</td>\n",
       "    </tr>\n",
       "    <tr>\n",
       "      <th>tx_fee</th>\n",
       "      <td>0.869223</td>\n",
       "      <td>1.000000</td>\n",
       "    </tr>\n",
       "  </tbody>\n",
       "</table>\n",
       "</div>"
      ],
      "text/plain": [
       "           tx_amount    tx_fee\n",
       "tx_amount   1.000000  0.869223\n",
       "tx_fee      0.869223  1.000000"
      ]
     },
     "execution_count": 20,
     "metadata": {},
     "output_type": "execute_result"
    }
   ],
   "source": [
    "data.corr()"
   ]
  },
  {
   "cell_type": "code",
   "execution_count": 21,
   "metadata": {},
   "outputs": [
    {
     "data": {
      "text/plain": [
       "0.43428936734904844"
      ]
     },
     "execution_count": 21,
     "metadata": {},
     "output_type": "execute_result"
    }
   ],
   "source": [
    "58653098.60/data['tx_amount'].sum(axis=1)"
   ]
  },
  {
   "cell_type": "code",
   "execution_count": 22,
   "metadata": {},
   "outputs": [],
   "source": [
    "data['temp'] = data['tx_amount'] - data['tx_fee']"
   ]
  },
  {
   "cell_type": "code",
   "execution_count": 23,
   "metadata": {},
   "outputs": [
    {
     "data": {
      "text/html": [
       "<div>\n",
       "<style scoped>\n",
       "    .dataframe tbody tr th:only-of-type {\n",
       "        vertical-align: middle;\n",
       "    }\n",
       "\n",
       "    .dataframe tbody tr th {\n",
       "        vertical-align: top;\n",
       "    }\n",
       "\n",
       "    .dataframe thead th {\n",
       "        text-align: right;\n",
       "    }\n",
       "</style>\n",
       "<table border=\"1\" class=\"dataframe\">\n",
       "  <thead>\n",
       "    <tr style=\"text-align: right;\">\n",
       "      <th></th>\n",
       "      <th>date</th>\n",
       "      <th>tx_from</th>\n",
       "      <th>tx_to</th>\n",
       "      <th>tx_amount</th>\n",
       "      <th>tx_fee</th>\n",
       "      <th>tx_free</th>\n",
       "      <th>temp</th>\n",
       "    </tr>\n",
       "  </thead>\n",
       "  <tbody>\n",
       "    <tr>\n",
       "      <th>330175</th>\n",
       "      <td>10-04-2019</td>\n",
       "      <td>K8</td>\n",
       "      <td>F5</td>\n",
       "      <td>1610</td>\n",
       "      <td>128.0</td>\n",
       "      <td>128</td>\n",
       "      <td>1482.0</td>\n",
       "    </tr>\n",
       "  </tbody>\n",
       "</table>\n",
       "</div>"
      ],
      "text/plain": [
       "              date tx_from tx_to  tx_amount  tx_fee tx_free    temp\n",
       "330175  10-04-2019      K8    F5       1610   128.0     128  1482.0"
      ]
     },
     "execution_count": 23,
     "metadata": {},
     "output_type": "execute_result"
    }
   ],
   "source": [
    "data[\n",
    "    data['temp'] == data['temp'].max()\n",
    "]"
   ]
  },
  {
   "cell_type": "code",
   "execution_count": null,
   "metadata": {},
   "outputs": [],
   "source": []
  },
  {
   "cell_type": "code",
   "execution_count": 38,
   "metadata": {},
   "outputs": [],
   "source": [
    "neg_data = data.groupby('tx_from').agg({'temp':'sum'}).reset_index().rename(columns={'temp':'gaya'})"
   ]
  },
  {
   "cell_type": "code",
   "execution_count": 39,
   "metadata": {},
   "outputs": [],
   "source": [
    "pos_data = data.groupby('tx_to').agg({'temp':'sum'}).reset_index().rename(columns={'temp':'madya'})"
   ]
  },
  {
   "cell_type": "code",
   "execution_count": 40,
   "metadata": {},
   "outputs": [
    {
     "data": {
      "text/plain": [
       "tx_from             K9\n",
       "gaya        1.1323e+07\n",
       "madya      1.50955e+06\n",
       "diff            140726\n",
       "dtype: object"
      ]
     },
     "execution_count": 40,
     "metadata": {},
     "output_type": "execute_result"
    }
   ],
   "source": [
    "neg_data.merge(\n",
    "    pos_data,\n",
    "    left_on='tx_from',\n",
    "    right_on = 'tx_to',\n",
    "    how='left'\n",
    ")\\\n",
    ".assign(diff = lambda x : x['madya']-x['gaya'])\\\n",
    ".max()"
   ]
  },
  {
   "cell_type": "code",
   "execution_count": 42,
   "metadata": {},
   "outputs": [],
   "source": [
    "data['month']=data['date'].apply(pd.to_datetime).dt.month"
   ]
  },
  {
   "cell_type": "code",
   "execution_count": 43,
   "metadata": {},
   "outputs": [
    {
     "data": {
      "text/plain": [
       "0         11\n",
       "1         11\n",
       "2         11\n",
       "3         11\n",
       "4         11\n",
       "          ..\n",
       "567334    12\n",
       "567335    12\n",
       "567336    12\n",
       "567337    12\n",
       "567338    12\n",
       "Name: month, Length: 1134677, dtype: int64"
      ]
     },
     "execution_count": 43,
     "metadata": {},
     "output_type": "execute_result"
    }
   ],
   "source": [
    "data['month']"
   ]
  },
  {
   "cell_type": "code",
   "execution_count": 47,
   "metadata": {},
   "outputs": [
    {
     "name": "stdout",
     "output_type": "stream",
     "text": [
      "8.879775108818699e-21\n"
     ]
    }
   ],
   "source": [
    "temp = 100\n",
    "prev = -1\n",
    "for index,row in data.iterrows():\n",
    "    if row['tx_amount']>200:\n",
    "        temp = temp-temp*0.01\n",
    "    if row['month'] != prev:\n",
    "        temp = temp + 20\n",
    "    prev = row['month']\n",
    "print(temp)"
   ]
  },
  {
   "cell_type": "code",
   "execution_count": 48,
   "metadata": {},
   "outputs": [
    {
     "name": "stdout",
     "output_type": "stream",
     "text": [
      "12\n"
     ]
    }
   ],
   "source": [
    "print(prev)"
   ]
  },
  {
   "cell_type": "code",
   "execution_count": 49,
   "metadata": {},
   "outputs": [
    {
     "data": {
      "text/plain": [
       "178764"
      ]
     },
     "execution_count": 49,
     "metadata": {},
     "output_type": "execute_result"
    }
   ],
   "source": [
    "(data['tx_amount'] > 200).sum()"
   ]
  },
  {
   "cell_type": "code",
   "execution_count": 50,
   "metadata": {},
   "outputs": [
    {
     "data": {
      "text/plain": [
       "178764"
      ]
     },
     "execution_count": 50,
     "metadata": {},
     "output_type": "execute_result"
    }
   ],
   "source": [
    "178764"
   ]
  },
  {
   "cell_type": "code",
   "execution_count": null,
   "metadata": {},
   "outputs": [],
   "source": [
    "temp"
   ]
  }
 ],
 "metadata": {
  "kernelspec": {
   "display_name": "Python 3",
   "language": "python",
   "name": "python3"
  },
  "language_info": {
   "codemirror_mode": {
    "name": "ipython",
    "version": 3
   },
   "file_extension": ".py",
   "mimetype": "text/x-python",
   "name": "python",
   "nbconvert_exporter": "python",
   "pygments_lexer": "ipython3",
   "version": "3.7.6"
  }
 },
 "nbformat": 4,
 "nbformat_minor": 4
}
