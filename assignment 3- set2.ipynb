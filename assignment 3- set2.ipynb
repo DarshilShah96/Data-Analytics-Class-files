{
 "cells": [
  {
   "cell_type": "code",
   "execution_count": 49,
   "metadata": {},
   "outputs": [],
   "source": [
    "import pandas as pd\n",
    "import numpy as np\n",
    "import matplotlib.pyplot as plt"
   ]
  },
  {
   "cell_type": "code",
   "execution_count": 50,
   "metadata": {},
   "outputs": [
    {
     "data": {
      "text/html": [
       "<div>\n",
       "<style scoped>\n",
       "    .dataframe tbody tr th:only-of-type {\n",
       "        vertical-align: middle;\n",
       "    }\n",
       "\n",
       "    .dataframe tbody tr th {\n",
       "        vertical-align: top;\n",
       "    }\n",
       "\n",
       "    .dataframe thead th {\n",
       "        text-align: right;\n",
       "    }\n",
       "</style>\n",
       "<table border=\"1\" class=\"dataframe\">\n",
       "  <thead>\n",
       "    <tr style=\"text-align: right;\">\n",
       "      <th></th>\n",
       "      <th>Team</th>\n",
       "      <th>Game</th>\n",
       "      <th>Date</th>\n",
       "      <th>Home</th>\n",
       "      <th>Opponent</th>\n",
       "      <th>WINorLOSS</th>\n",
       "      <th>TeamPoints</th>\n",
       "      <th>OpponentPoints</th>\n",
       "      <th>FieldGoals</th>\n",
       "      <th>FieldGoalsAttempted</th>\n",
       "      <th>...</th>\n",
       "      <th>Opp.FreeThrows</th>\n",
       "      <th>Opp.FreeThrowsAttempted</th>\n",
       "      <th>Opp.FreeThrows.</th>\n",
       "      <th>Opp.OffRebounds</th>\n",
       "      <th>Opp.TotalRebounds</th>\n",
       "      <th>Opp.Assists</th>\n",
       "      <th>Opp.Steals</th>\n",
       "      <th>Opp.Blocks</th>\n",
       "      <th>Opp.Turnovers</th>\n",
       "      <th>Opp.TotalFouls</th>\n",
       "    </tr>\n",
       "  </thead>\n",
       "  <tbody>\n",
       "    <tr>\n",
       "      <th>1</th>\n",
       "      <td>ATL</td>\n",
       "      <td>1</td>\n",
       "      <td>2014-10-29</td>\n",
       "      <td>Away</td>\n",
       "      <td>TOR</td>\n",
       "      <td>L</td>\n",
       "      <td>102</td>\n",
       "      <td>109</td>\n",
       "      <td>40</td>\n",
       "      <td>80</td>\n",
       "      <td>...</td>\n",
       "      <td>27</td>\n",
       "      <td>33</td>\n",
       "      <td>0.818</td>\n",
       "      <td>16</td>\n",
       "      <td>48</td>\n",
       "      <td>26</td>\n",
       "      <td>13</td>\n",
       "      <td>9</td>\n",
       "      <td>9</td>\n",
       "      <td>22</td>\n",
       "    </tr>\n",
       "    <tr>\n",
       "      <th>2</th>\n",
       "      <td>ATL</td>\n",
       "      <td>2</td>\n",
       "      <td>2014-11-01</td>\n",
       "      <td>Home</td>\n",
       "      <td>IND</td>\n",
       "      <td>W</td>\n",
       "      <td>102</td>\n",
       "      <td>92</td>\n",
       "      <td>35</td>\n",
       "      <td>69</td>\n",
       "      <td>...</td>\n",
       "      <td>18</td>\n",
       "      <td>21</td>\n",
       "      <td>0.857</td>\n",
       "      <td>11</td>\n",
       "      <td>44</td>\n",
       "      <td>25</td>\n",
       "      <td>5</td>\n",
       "      <td>5</td>\n",
       "      <td>18</td>\n",
       "      <td>26</td>\n",
       "    </tr>\n",
       "    <tr>\n",
       "      <th>3</th>\n",
       "      <td>ATL</td>\n",
       "      <td>3</td>\n",
       "      <td>2014-11-05</td>\n",
       "      <td>Away</td>\n",
       "      <td>SAS</td>\n",
       "      <td>L</td>\n",
       "      <td>92</td>\n",
       "      <td>94</td>\n",
       "      <td>38</td>\n",
       "      <td>92</td>\n",
       "      <td>...</td>\n",
       "      <td>27</td>\n",
       "      <td>38</td>\n",
       "      <td>0.711</td>\n",
       "      <td>11</td>\n",
       "      <td>50</td>\n",
       "      <td>25</td>\n",
       "      <td>7</td>\n",
       "      <td>9</td>\n",
       "      <td>19</td>\n",
       "      <td>15</td>\n",
       "    </tr>\n",
       "    <tr>\n",
       "      <th>4</th>\n",
       "      <td>ATL</td>\n",
       "      <td>4</td>\n",
       "      <td>2014-11-07</td>\n",
       "      <td>Away</td>\n",
       "      <td>CHO</td>\n",
       "      <td>L</td>\n",
       "      <td>119</td>\n",
       "      <td>122</td>\n",
       "      <td>43</td>\n",
       "      <td>93</td>\n",
       "      <td>...</td>\n",
       "      <td>20</td>\n",
       "      <td>27</td>\n",
       "      <td>0.741</td>\n",
       "      <td>11</td>\n",
       "      <td>51</td>\n",
       "      <td>31</td>\n",
       "      <td>6</td>\n",
       "      <td>7</td>\n",
       "      <td>19</td>\n",
       "      <td>30</td>\n",
       "    </tr>\n",
       "    <tr>\n",
       "      <th>5</th>\n",
       "      <td>ATL</td>\n",
       "      <td>5</td>\n",
       "      <td>2014-11-08</td>\n",
       "      <td>Home</td>\n",
       "      <td>NYK</td>\n",
       "      <td>W</td>\n",
       "      <td>103</td>\n",
       "      <td>96</td>\n",
       "      <td>33</td>\n",
       "      <td>81</td>\n",
       "      <td>...</td>\n",
       "      <td>8</td>\n",
       "      <td>11</td>\n",
       "      <td>0.727</td>\n",
       "      <td>13</td>\n",
       "      <td>44</td>\n",
       "      <td>26</td>\n",
       "      <td>2</td>\n",
       "      <td>6</td>\n",
       "      <td>15</td>\n",
       "      <td>29</td>\n",
       "    </tr>\n",
       "  </tbody>\n",
       "</table>\n",
       "<p>5 rows × 40 columns</p>\n",
       "</div>"
      ],
      "text/plain": [
       "  Team  Game        Date  Home Opponent WINorLOSS  TeamPoints  OpponentPoints  \\\n",
       "1  ATL     1  2014-10-29  Away      TOR         L         102             109   \n",
       "2  ATL     2  2014-11-01  Home      IND         W         102              92   \n",
       "3  ATL     3  2014-11-05  Away      SAS         L          92              94   \n",
       "4  ATL     4  2014-11-07  Away      CHO         L         119             122   \n",
       "5  ATL     5  2014-11-08  Home      NYK         W         103              96   \n",
       "\n",
       "   FieldGoals  FieldGoalsAttempted  ...  Opp.FreeThrows  \\\n",
       "1          40                   80  ...              27   \n",
       "2          35                   69  ...              18   \n",
       "3          38                   92  ...              27   \n",
       "4          43                   93  ...              20   \n",
       "5          33                   81  ...               8   \n",
       "\n",
       "   Opp.FreeThrowsAttempted  Opp.FreeThrows.  Opp.OffRebounds  \\\n",
       "1                       33            0.818               16   \n",
       "2                       21            0.857               11   \n",
       "3                       38            0.711               11   \n",
       "4                       27            0.741               11   \n",
       "5                       11            0.727               13   \n",
       "\n",
       "   Opp.TotalRebounds  Opp.Assists  Opp.Steals  Opp.Blocks  Opp.Turnovers  \\\n",
       "1                 48           26          13           9              9   \n",
       "2                 44           25           5           5             18   \n",
       "3                 50           25           7           9             19   \n",
       "4                 51           31           6           7             19   \n",
       "5                 44           26           2           6             15   \n",
       "\n",
       "   Opp.TotalFouls  \n",
       "1              22  \n",
       "2              26  \n",
       "3              15  \n",
       "4              30  \n",
       "5              29  \n",
       "\n",
       "[5 rows x 40 columns]"
      ]
     },
     "execution_count": 50,
     "metadata": {},
     "output_type": "execute_result"
    }
   ],
   "source": [
    "#Q1\n",
    "#Read the nba.csv file to create a Pandas DataFrame.\n",
    "#Test whether or not any data is missing. If yes, show the records that missing value(s).\n",
    "nba = pd.read_csv('nba.csv', index_col = 0)\n",
    "nba.head(5)"
   ]
  },
  {
   "cell_type": "code",
   "execution_count": 51,
   "metadata": {},
   "outputs": [
    {
     "data": {
      "text/html": [
       "<div>\n",
       "<style scoped>\n",
       "    .dataframe tbody tr th:only-of-type {\n",
       "        vertical-align: middle;\n",
       "    }\n",
       "\n",
       "    .dataframe tbody tr th {\n",
       "        vertical-align: top;\n",
       "    }\n",
       "\n",
       "    .dataframe thead th {\n",
       "        text-align: right;\n",
       "    }\n",
       "</style>\n",
       "<table border=\"1\" class=\"dataframe\">\n",
       "  <thead>\n",
       "    <tr style=\"text-align: right;\">\n",
       "      <th></th>\n",
       "      <th>Team</th>\n",
       "      <th>Game</th>\n",
       "      <th>Date</th>\n",
       "      <th>Home</th>\n",
       "      <th>Opponent</th>\n",
       "      <th>WINorLOSS</th>\n",
       "      <th>TeamPoints</th>\n",
       "      <th>OpponentPoints</th>\n",
       "      <th>FieldGoals</th>\n",
       "      <th>FieldGoalsAttempted</th>\n",
       "      <th>...</th>\n",
       "      <th>Opp.FreeThrows</th>\n",
       "      <th>Opp.FreeThrowsAttempted</th>\n",
       "      <th>Opp.FreeThrows.</th>\n",
       "      <th>Opp.OffRebounds</th>\n",
       "      <th>Opp.TotalRebounds</th>\n",
       "      <th>Opp.Assists</th>\n",
       "      <th>Opp.Steals</th>\n",
       "      <th>Opp.Blocks</th>\n",
       "      <th>Opp.Turnovers</th>\n",
       "      <th>Opp.TotalFouls</th>\n",
       "    </tr>\n",
       "  </thead>\n",
       "  <tbody>\n",
       "    <tr>\n",
       "      <th>1</th>\n",
       "      <td>NaN</td>\n",
       "      <td>NaN</td>\n",
       "      <td>NaN</td>\n",
       "      <td>NaN</td>\n",
       "      <td>NaN</td>\n",
       "      <td>NaN</td>\n",
       "      <td>NaN</td>\n",
       "      <td>NaN</td>\n",
       "      <td>NaN</td>\n",
       "      <td>NaN</td>\n",
       "      <td>...</td>\n",
       "      <td>NaN</td>\n",
       "      <td>NaN</td>\n",
       "      <td>NaN</td>\n",
       "      <td>NaN</td>\n",
       "      <td>NaN</td>\n",
       "      <td>NaN</td>\n",
       "      <td>NaN</td>\n",
       "      <td>NaN</td>\n",
       "      <td>NaN</td>\n",
       "      <td>NaN</td>\n",
       "    </tr>\n",
       "    <tr>\n",
       "      <th>2</th>\n",
       "      <td>NaN</td>\n",
       "      <td>NaN</td>\n",
       "      <td>NaN</td>\n",
       "      <td>NaN</td>\n",
       "      <td>NaN</td>\n",
       "      <td>NaN</td>\n",
       "      <td>NaN</td>\n",
       "      <td>NaN</td>\n",
       "      <td>NaN</td>\n",
       "      <td>NaN</td>\n",
       "      <td>...</td>\n",
       "      <td>NaN</td>\n",
       "      <td>NaN</td>\n",
       "      <td>NaN</td>\n",
       "      <td>NaN</td>\n",
       "      <td>NaN</td>\n",
       "      <td>NaN</td>\n",
       "      <td>NaN</td>\n",
       "      <td>NaN</td>\n",
       "      <td>NaN</td>\n",
       "      <td>NaN</td>\n",
       "    </tr>\n",
       "    <tr>\n",
       "      <th>3</th>\n",
       "      <td>NaN</td>\n",
       "      <td>NaN</td>\n",
       "      <td>NaN</td>\n",
       "      <td>NaN</td>\n",
       "      <td>NaN</td>\n",
       "      <td>NaN</td>\n",
       "      <td>NaN</td>\n",
       "      <td>NaN</td>\n",
       "      <td>NaN</td>\n",
       "      <td>NaN</td>\n",
       "      <td>...</td>\n",
       "      <td>NaN</td>\n",
       "      <td>NaN</td>\n",
       "      <td>NaN</td>\n",
       "      <td>NaN</td>\n",
       "      <td>NaN</td>\n",
       "      <td>NaN</td>\n",
       "      <td>NaN</td>\n",
       "      <td>NaN</td>\n",
       "      <td>NaN</td>\n",
       "      <td>NaN</td>\n",
       "    </tr>\n",
       "    <tr>\n",
       "      <th>4</th>\n",
       "      <td>NaN</td>\n",
       "      <td>NaN</td>\n",
       "      <td>NaN</td>\n",
       "      <td>NaN</td>\n",
       "      <td>NaN</td>\n",
       "      <td>NaN</td>\n",
       "      <td>NaN</td>\n",
       "      <td>NaN</td>\n",
       "      <td>NaN</td>\n",
       "      <td>NaN</td>\n",
       "      <td>...</td>\n",
       "      <td>NaN</td>\n",
       "      <td>NaN</td>\n",
       "      <td>NaN</td>\n",
       "      <td>NaN</td>\n",
       "      <td>NaN</td>\n",
       "      <td>NaN</td>\n",
       "      <td>NaN</td>\n",
       "      <td>NaN</td>\n",
       "      <td>NaN</td>\n",
       "      <td>NaN</td>\n",
       "    </tr>\n",
       "    <tr>\n",
       "      <th>5</th>\n",
       "      <td>NaN</td>\n",
       "      <td>NaN</td>\n",
       "      <td>NaN</td>\n",
       "      <td>NaN</td>\n",
       "      <td>NaN</td>\n",
       "      <td>NaN</td>\n",
       "      <td>NaN</td>\n",
       "      <td>NaN</td>\n",
       "      <td>NaN</td>\n",
       "      <td>NaN</td>\n",
       "      <td>...</td>\n",
       "      <td>NaN</td>\n",
       "      <td>NaN</td>\n",
       "      <td>NaN</td>\n",
       "      <td>NaN</td>\n",
       "      <td>NaN</td>\n",
       "      <td>NaN</td>\n",
       "      <td>NaN</td>\n",
       "      <td>NaN</td>\n",
       "      <td>NaN</td>\n",
       "      <td>NaN</td>\n",
       "    </tr>\n",
       "    <tr>\n",
       "      <th>...</th>\n",
       "      <td>...</td>\n",
       "      <td>...</td>\n",
       "      <td>...</td>\n",
       "      <td>...</td>\n",
       "      <td>...</td>\n",
       "      <td>...</td>\n",
       "      <td>...</td>\n",
       "      <td>...</td>\n",
       "      <td>...</td>\n",
       "      <td>...</td>\n",
       "      <td>...</td>\n",
       "      <td>...</td>\n",
       "      <td>...</td>\n",
       "      <td>...</td>\n",
       "      <td>...</td>\n",
       "      <td>...</td>\n",
       "      <td>...</td>\n",
       "      <td>...</td>\n",
       "      <td>...</td>\n",
       "      <td>...</td>\n",
       "      <td>...</td>\n",
       "    </tr>\n",
       "    <tr>\n",
       "      <th>78119</th>\n",
       "      <td>NaN</td>\n",
       "      <td>NaN</td>\n",
       "      <td>NaN</td>\n",
       "      <td>NaN</td>\n",
       "      <td>NaN</td>\n",
       "      <td>NaN</td>\n",
       "      <td>NaN</td>\n",
       "      <td>NaN</td>\n",
       "      <td>NaN</td>\n",
       "      <td>NaN</td>\n",
       "      <td>...</td>\n",
       "      <td>NaN</td>\n",
       "      <td>NaN</td>\n",
       "      <td>NaN</td>\n",
       "      <td>NaN</td>\n",
       "      <td>NaN</td>\n",
       "      <td>NaN</td>\n",
       "      <td>NaN</td>\n",
       "      <td>NaN</td>\n",
       "      <td>NaN</td>\n",
       "      <td>NaN</td>\n",
       "    </tr>\n",
       "    <tr>\n",
       "      <th>79119</th>\n",
       "      <td>NaN</td>\n",
       "      <td>NaN</td>\n",
       "      <td>NaN</td>\n",
       "      <td>NaN</td>\n",
       "      <td>NaN</td>\n",
       "      <td>NaN</td>\n",
       "      <td>NaN</td>\n",
       "      <td>NaN</td>\n",
       "      <td>NaN</td>\n",
       "      <td>NaN</td>\n",
       "      <td>...</td>\n",
       "      <td>NaN</td>\n",
       "      <td>NaN</td>\n",
       "      <td>NaN</td>\n",
       "      <td>NaN</td>\n",
       "      <td>NaN</td>\n",
       "      <td>NaN</td>\n",
       "      <td>NaN</td>\n",
       "      <td>NaN</td>\n",
       "      <td>NaN</td>\n",
       "      <td>NaN</td>\n",
       "    </tr>\n",
       "    <tr>\n",
       "      <th>80119</th>\n",
       "      <td>NaN</td>\n",
       "      <td>NaN</td>\n",
       "      <td>NaN</td>\n",
       "      <td>NaN</td>\n",
       "      <td>NaN</td>\n",
       "      <td>NaN</td>\n",
       "      <td>NaN</td>\n",
       "      <td>NaN</td>\n",
       "      <td>NaN</td>\n",
       "      <td>NaN</td>\n",
       "      <td>...</td>\n",
       "      <td>NaN</td>\n",
       "      <td>NaN</td>\n",
       "      <td>NaN</td>\n",
       "      <td>NaN</td>\n",
       "      <td>NaN</td>\n",
       "      <td>NaN</td>\n",
       "      <td>NaN</td>\n",
       "      <td>NaN</td>\n",
       "      <td>NaN</td>\n",
       "      <td>NaN</td>\n",
       "    </tr>\n",
       "    <tr>\n",
       "      <th>81124</th>\n",
       "      <td>NaN</td>\n",
       "      <td>NaN</td>\n",
       "      <td>NaN</td>\n",
       "      <td>NaN</td>\n",
       "      <td>NaN</td>\n",
       "      <td>NaN</td>\n",
       "      <td>NaN</td>\n",
       "      <td>NaN</td>\n",
       "      <td>NaN</td>\n",
       "      <td>NaN</td>\n",
       "      <td>...</td>\n",
       "      <td>NaN</td>\n",
       "      <td>NaN</td>\n",
       "      <td>NaN</td>\n",
       "      <td>NaN</td>\n",
       "      <td>NaN</td>\n",
       "      <td>NaN</td>\n",
       "      <td>NaN</td>\n",
       "      <td>NaN</td>\n",
       "      <td>NaN</td>\n",
       "      <td>NaN</td>\n",
       "    </tr>\n",
       "    <tr>\n",
       "      <th>82119</th>\n",
       "      <td>NaN</td>\n",
       "      <td>NaN</td>\n",
       "      <td>NaN</td>\n",
       "      <td>NaN</td>\n",
       "      <td>NaN</td>\n",
       "      <td>NaN</td>\n",
       "      <td>NaN</td>\n",
       "      <td>NaN</td>\n",
       "      <td>NaN</td>\n",
       "      <td>NaN</td>\n",
       "      <td>...</td>\n",
       "      <td>NaN</td>\n",
       "      <td>NaN</td>\n",
       "      <td>NaN</td>\n",
       "      <td>NaN</td>\n",
       "      <td>NaN</td>\n",
       "      <td>NaN</td>\n",
       "      <td>NaN</td>\n",
       "      <td>NaN</td>\n",
       "      <td>NaN</td>\n",
       "      <td>NaN</td>\n",
       "    </tr>\n",
       "  </tbody>\n",
       "</table>\n",
       "<p>9840 rows × 40 columns</p>\n",
       "</div>"
      ],
      "text/plain": [
       "      Team  Game Date Home Opponent WINorLOSS  TeamPoints  OpponentPoints  \\\n",
       "1      NaN   NaN  NaN  NaN      NaN       NaN         NaN             NaN   \n",
       "2      NaN   NaN  NaN  NaN      NaN       NaN         NaN             NaN   \n",
       "3      NaN   NaN  NaN  NaN      NaN       NaN         NaN             NaN   \n",
       "4      NaN   NaN  NaN  NaN      NaN       NaN         NaN             NaN   \n",
       "5      NaN   NaN  NaN  NaN      NaN       NaN         NaN             NaN   \n",
       "...    ...   ...  ...  ...      ...       ...         ...             ...   \n",
       "78119  NaN   NaN  NaN  NaN      NaN       NaN         NaN             NaN   \n",
       "79119  NaN   NaN  NaN  NaN      NaN       NaN         NaN             NaN   \n",
       "80119  NaN   NaN  NaN  NaN      NaN       NaN         NaN             NaN   \n",
       "81124  NaN   NaN  NaN  NaN      NaN       NaN         NaN             NaN   \n",
       "82119  NaN   NaN  NaN  NaN      NaN       NaN         NaN             NaN   \n",
       "\n",
       "       FieldGoals  FieldGoalsAttempted  ...  Opp.FreeThrows  \\\n",
       "1             NaN                  NaN  ...             NaN   \n",
       "2             NaN                  NaN  ...             NaN   \n",
       "3             NaN                  NaN  ...             NaN   \n",
       "4             NaN                  NaN  ...             NaN   \n",
       "5             NaN                  NaN  ...             NaN   \n",
       "...           ...                  ...  ...             ...   \n",
       "78119         NaN                  NaN  ...             NaN   \n",
       "79119         NaN                  NaN  ...             NaN   \n",
       "80119         NaN                  NaN  ...             NaN   \n",
       "81124         NaN                  NaN  ...             NaN   \n",
       "82119         NaN                  NaN  ...             NaN   \n",
       "\n",
       "       Opp.FreeThrowsAttempted  Opp.FreeThrows.  Opp.OffRebounds  \\\n",
       "1                          NaN              NaN              NaN   \n",
       "2                          NaN              NaN              NaN   \n",
       "3                          NaN              NaN              NaN   \n",
       "4                          NaN              NaN              NaN   \n",
       "5                          NaN              NaN              NaN   \n",
       "...                        ...              ...              ...   \n",
       "78119                      NaN              NaN              NaN   \n",
       "79119                      NaN              NaN              NaN   \n",
       "80119                      NaN              NaN              NaN   \n",
       "81124                      NaN              NaN              NaN   \n",
       "82119                      NaN              NaN              NaN   \n",
       "\n",
       "       Opp.TotalRebounds  Opp.Assists  Opp.Steals  Opp.Blocks  Opp.Turnovers  \\\n",
       "1                    NaN          NaN         NaN         NaN            NaN   \n",
       "2                    NaN          NaN         NaN         NaN            NaN   \n",
       "3                    NaN          NaN         NaN         NaN            NaN   \n",
       "4                    NaN          NaN         NaN         NaN            NaN   \n",
       "5                    NaN          NaN         NaN         NaN            NaN   \n",
       "...                  ...          ...         ...         ...            ...   \n",
       "78119                NaN          NaN         NaN         NaN            NaN   \n",
       "79119                NaN          NaN         NaN         NaN            NaN   \n",
       "80119                NaN          NaN         NaN         NaN            NaN   \n",
       "81124                NaN          NaN         NaN         NaN            NaN   \n",
       "82119                NaN          NaN         NaN         NaN            NaN   \n",
       "\n",
       "       Opp.TotalFouls  \n",
       "1                 NaN  \n",
       "2                 NaN  \n",
       "3                 NaN  \n",
       "4                 NaN  \n",
       "5                 NaN  \n",
       "...               ...  \n",
       "78119             NaN  \n",
       "79119             NaN  \n",
       "80119             NaN  \n",
       "81124             NaN  \n",
       "82119             NaN  \n",
       "\n",
       "[9840 rows x 40 columns]"
      ]
     },
     "execution_count": 51,
     "metadata": {},
     "output_type": "execute_result"
    }
   ],
   "source": [
    " nba[nba.isnull()]"
   ]
  },
  {
   "cell_type": "code",
   "execution_count": 52,
   "metadata": {},
   "outputs": [
    {
     "name": "stderr",
     "output_type": "stream",
     "text": [
      "C:\\Users\\darsh\\Anaconda3\\lib\\site-packages\\ipykernel_launcher.py:4: FutureWarning: Indexing with multiple keys (implicitly converted to a tuple of keys) will be deprecated, use a list instead.\n",
      "  after removing the cwd from sys.path.\n"
     ]
    },
    {
     "data": {
      "text/html": [
       "<div>\n",
       "<style scoped>\n",
       "    .dataframe tbody tr th:only-of-type {\n",
       "        vertical-align: middle;\n",
       "    }\n",
       "\n",
       "    .dataframe tbody tr th {\n",
       "        vertical-align: top;\n",
       "    }\n",
       "\n",
       "    .dataframe thead th {\n",
       "        text-align: right;\n",
       "    }\n",
       "</style>\n",
       "<table border=\"1\" class=\"dataframe\">\n",
       "  <thead>\n",
       "    <tr style=\"text-align: right;\">\n",
       "      <th></th>\n",
       "      <th></th>\n",
       "      <th>TeamPoints</th>\n",
       "      <th>OpponentPoints</th>\n",
       "    </tr>\n",
       "    <tr>\n",
       "      <th>Team</th>\n",
       "      <th>Date</th>\n",
       "      <th></th>\n",
       "      <th></th>\n",
       "    </tr>\n",
       "  </thead>\n",
       "  <tbody>\n",
       "    <tr>\n",
       "      <th rowspan=\"5\" valign=\"top\">ATL</th>\n",
       "      <th>2014</th>\n",
       "      <td>102.161290</td>\n",
       "      <td>97.419355</td>\n",
       "    </tr>\n",
       "    <tr>\n",
       "      <th>2015</th>\n",
       "      <td>102.470588</td>\n",
       "      <td>98.200000</td>\n",
       "    </tr>\n",
       "    <tr>\n",
       "      <th>2016</th>\n",
       "      <td>102.827160</td>\n",
       "      <td>100.691358</td>\n",
       "    </tr>\n",
       "    <tr>\n",
       "      <th>2017</th>\n",
       "      <td>103.941176</td>\n",
       "      <td>105.811765</td>\n",
       "    </tr>\n",
       "    <tr>\n",
       "      <th>2018</th>\n",
       "      <td>102.934783</td>\n",
       "      <td>109.456522</td>\n",
       "    </tr>\n",
       "    <tr>\n",
       "      <th>...</th>\n",
       "      <th>...</th>\n",
       "      <td>...</td>\n",
       "      <td>...</td>\n",
       "    </tr>\n",
       "    <tr>\n",
       "      <th rowspan=\"5\" valign=\"top\">WAS</th>\n",
       "      <th>2014</th>\n",
       "      <td>100.193548</td>\n",
       "      <td>97.387097</td>\n",
       "    </tr>\n",
       "    <tr>\n",
       "      <th>2015</th>\n",
       "      <td>98.987654</td>\n",
       "      <td>100.419753</td>\n",
       "    </tr>\n",
       "    <tr>\n",
       "      <th>2016</th>\n",
       "      <td>105.607143</td>\n",
       "      <td>105.226190</td>\n",
       "    </tr>\n",
       "    <tr>\n",
       "      <th>2017</th>\n",
       "      <td>109.241379</td>\n",
       "      <td>106.402299</td>\n",
       "    </tr>\n",
       "    <tr>\n",
       "      <th>2018</th>\n",
       "      <td>106.888889</td>\n",
       "      <td>107.688889</td>\n",
       "    </tr>\n",
       "  </tbody>\n",
       "</table>\n",
       "<p>150 rows × 2 columns</p>\n",
       "</div>"
      ],
      "text/plain": [
       "           TeamPoints  OpponentPoints\n",
       "Team Date                            \n",
       "ATL  2014  102.161290       97.419355\n",
       "     2015  102.470588       98.200000\n",
       "     2016  102.827160      100.691358\n",
       "     2017  103.941176      105.811765\n",
       "     2018  102.934783      109.456522\n",
       "...               ...             ...\n",
       "WAS  2014  100.193548       97.387097\n",
       "     2015   98.987654      100.419753\n",
       "     2016  105.607143      105.226190\n",
       "     2017  109.241379      106.402299\n",
       "     2018  106.888889      107.688889\n",
       "\n",
       "[150 rows x 2 columns]"
      ]
     },
     "execution_count": 52,
     "metadata": {},
     "output_type": "execute_result"
    }
   ],
   "source": [
    "###Q2\n",
    "#Group the data by Team and Year, display each team’s, each year’s TeamPoints and OpponentPoints.\n",
    "nba['Date'] = pd.to_datetime(nba['Date'])\n",
    "teamYear = nba.groupby(['Team',nba['Date'].dt.year])['TeamPoints','OpponentPoints'].mean()\n",
    "teamYear\n",
    "# teamYear['TeamPoints','OpponentPoints'].mean()\n"
   ]
  },
  {
   "cell_type": "code",
   "execution_count": 53,
   "metadata": {},
   "outputs": [
    {
     "data": {
      "text/plain": [
       "Date\n",
       "False    7304\n",
       "True     2536\n",
       "Name: Date, dtype: int64"
      ]
     },
     "execution_count": 53,
     "metadata": {},
     "output_type": "execute_result"
    }
   ],
   "source": [
    "#Q3\n",
    "#Create another DataFrame named nba_2017 where it contains records of year 2017. In this DataFrame, you shoul\n",
    "#d have 2,536 rows.\n",
    "nba_2017 = nba.groupby(nba['Date'].dt.year == 2017)['Date'].count()\n",
    "nba_2017"
   ]
  },
  {
   "cell_type": "code",
   "execution_count": 55,
   "metadata": {},
   "outputs": [
    {
     "data": {
      "text/plain": [
       "Text(0, 0.5, 'Average Points')"
      ]
     },
     "execution_count": 55,
     "metadata": {},
     "output_type": "execute_result"
    },
    {
     "data": {
      "image/png": "[encoded data removed]",
      "text/plain": [
       "<Figure size 720x360 with 1 Axes>"
      ]
     },
     "metadata": {
      "needs_background": "light"
     },
     "output_type": "display_data"
    }
   ],
   "source": [
    "#Q4\n",
    "#Draw a bar chart for all teams’ average TeamPoints per game in 2017.\n",
    "#Add an appropriate x_label, y_label and title to the chart (NO SUCH THINGS IN THE FOLLOWING EXAMPLE FIGURE).\n",
    "#Use an appropriate size for the chart.\n",
    "TeamPointAvg = nba[nba['Date'].dt.year == 2017].groupby('Team')['TeamPoints'].mean()\n",
    "tChart = TeamPointAvg.plot.bar(figsize = (10,5), title = 'Teams Average TeamPoints Per game in 2017')\n",
    "tChart.set_xlabel('Team Names')\n",
    "tChart.set_ylabel('Average Points')"
   ]
  },
  {
   "cell_type": "code",
   "execution_count": 56,
   "metadata": {},
   "outputs": [
    {
     "data": {
      "text/plain": [
       "Team\n",
       "SAS     98.232558\n",
       "UTA     99.682353\n",
       "MEM    101.951807\n",
       "DAL    102.058140\n",
       "MIA    102.285714\n",
       "Name: OpponentPoints, dtype: float64"
      ]
     },
     "execution_count": 56,
     "metadata": {},
     "output_type": "execute_result"
    }
   ],
   "source": [
    "#Q5\n",
    "#Display the top 5 teams in 2017 with the best defending in terms of least OpponentPoints.\n",
    "#The output should contain the Team’s name and the average OpponentPoints per game.\n",
    "Top5DefenceTeam = nba[nba['Date'].dt.year == 2017].groupby('Team')['OpponentPoints'].mean().sort_values(ascending = True)\n",
    "Top5DefenceTeam.head(5)"
   ]
  },
  {
   "cell_type": "code",
   "execution_count": 73,
   "metadata": {},
   "outputs": [
    {
     "data": {
      "image/png": "[encoded data removed]",
      "text/plain": [
       "<Figure size 720x576 with 1 Axes>"
      ]
     },
     "metadata": {
      "needs_background": "light"
     },
     "output_type": "display_data"
    }
   ],
   "source": [
    "#Q6\n",
    "#USe a crosstab\n",
    "#Draw a stacked column chart showing the numbers of W and L for each team.\n",
    "#Add an appropriate x_label, y_label and title to the chart (NO SUCH THINGS IN THE FOLLOWING EXAMPLE FIGURE).\n",
    "#Use an appropriate size for the chart.\n",
    "WL = pd.crosstab(nba['Team'],nba['WINorLOSS'])\n",
    "WLChart = WL.plot.barh(figsize = (10,8), stacked = True).set(title = 'Numbers of W and L for each team', xlabel='Count of Win and Loss',ylabel='Team Names')\n",
    "# WLChart.set_xlabel('Count of Win and Loss')\n",
    "# WLChart.set_ylabel('Team Names')"
   ]
  },
  {
   "cell_type": "code",
   "execution_count": 58,
   "metadata": {},
   "outputs": [
    {
     "data": {
      "text/plain": [
       "Team\n",
       "GSW    10.423529\n",
       "HOU     6.012195\n",
       "SAS     5.360465\n",
       "TOR     4.285714\n",
       "BOS     3.977273\n",
       "WAS     2.839080\n",
       "LAC     2.049383\n",
       "UTA     1.952941\n",
       "DEN     1.776471\n",
       "MIA     1.619048\n",
       "POR     1.536585\n",
       "CLE     1.488372\n",
       "OKC     1.329412\n",
       "MIN     0.511628\n",
       "IND     0.458824\n",
       "DET    -0.560976\n",
       "NOP    -0.795181\n",
       "MIL    -1.285714\n",
       "MEM    -1.421687\n",
       "CHO    -1.583333\n",
       "DAL    -1.651163\n",
       "ATL    -1.870588\n",
       "CHI    -1.940476\n",
       "NYK    -2.470588\n",
       "PHI    -2.860465\n",
       "BRK    -4.337209\n",
       "PHO    -5.581395\n",
       "LAL    -5.913580\n",
       "SAC    -6.458824\n",
       "ORL    -6.988235\n",
       "dtype: float64"
      ]
     },
     "execution_count": 58,
     "metadata": {},
     "output_type": "execute_result"
    }
   ],
   "source": [
    "#Q7\n",
    "#There is an important metric to evaluate a team’s performance which is the difference between it scores and\n",
    "#its opponent scores. Show all teams with this metric from the largest to the smallest.\n",
    "#diffScores = nba.groupby('Team')['TeamPoints','OpponentPoints'].diff(axis = 0)\n",
    "metric_calc = nba[nba['Date'].dt.year == 2017].groupby('Team').mean()\n",
    "metric = metric_calc['TeamPoints']-metric_calc['OpponentPoints']\n",
    "metric.sort_values(ascending = False)"
   ]
  },
  {
   "cell_type": "code",
   "execution_count": 88,
   "metadata": {},
   "outputs": [
    {
     "data": {
      "text/plain": [
       "Text(0, 0.5, 'HOU Opponent Points')"
      ]
     },
     "execution_count": 88,
     "metadata": {},
     "output_type": "execute_result"
    },
    {
     "data": {
      "image/png": "[encoded data removed]",
      "text/plain": [
       "<Figure size 720x360 with 1 Axes>"
      ]
     },
     "metadata": {
      "needs_background": "light"
     },
     "output_type": "display_data"
    }
   ],
   "source": [
    "###Q8\n",
    "# Draw a scatter plot chart using all Houston Rocket’s games’ TeamPoints and OpponentPoints.\n",
    "#Add an appropriate x_label, y_label and title to the chart (NO SUCH THINGS IN THE FOLLOWING EXAMPLE FIGURE).\n",
    "#Use an appropriate size for the chart.\n",
    "import seaborn as sns\n",
    "nba_2017 = nba[nba['Date'].dt.year == 2017]\n",
    "plt.figure(figsize=(10,5))\n",
    "chartHR = sns.scatterplot(data = nba_2017, x = nba_2017[nba_2017['Team'] == 'HOU']['TeamPoints'], y = nba_2017[nba_2017 ['Team'] == 'HOU']['OpponentPoints'])\n",
    "chartHR.set_title('Houston Rocket Games TeamPoints and OpponentPoints' )\n",
    "chartHR.set_xlabel('HOU Team Points' )\n",
    "chartHR.set_ylabel('HOU Opponent Points' )"
   ]
  },
  {
   "cell_type": "code",
   "execution_count": 86,
   "metadata": {},
   "outputs": [
    {
     "data": {
      "text/plain": [
       "0.631578947368421"
      ]
     },
     "execution_count": 86,
     "metadata": {},
     "output_type": "execute_result"
    }
   ],
   "source": [
    "###Q9 why before winning rates of away games ####IMPORTANT\n",
    "# Display the winning rates of Houston Rockets’ Home games and Away games in 2017.\n",
    "mask= (nba['Date'].dt.year == 2017) & (nba['Team'] == 'HOU')\n",
    "nba_2017 = nba[mask]\n",
    "pt = pd.crosstab(nba_2017.Home , nba_2017.WINorLOSS)\n",
    "##Winning rates of nba_2017 games\n",
    "pt.loc['Away','W']/(pt.loc['Away','W'] + pt.loc['Away','L'])"
   ]
  },
  {
   "cell_type": "code",
   "execution_count": 61,
   "metadata": {},
   "outputs": [
    {
     "data": {
      "text/plain": [
       "0.7045454545454546"
      ]
     },
     "execution_count": 61,
     "metadata": {},
     "output_type": "execute_result"
    }
   ],
   "source": [
    "#Winning rates of Home games\n",
    "pt.loc['Home','W']/(pt.loc['Home','W'] + pt.loc['Home','L'])"
   ]
  },
  {
   "cell_type": "code",
   "execution_count": 62,
   "metadata": {},
   "outputs": [
    {
     "data": {
      "text/plain": [
       "Text(0, 0.5, 'Success Rate')"
      ]
     },
     "execution_count": 62,
     "metadata": {},
     "output_type": "execute_result"
    },
    {
     "data": {
      "image/png": "[encoded data removed]",
      "text/plain": [
       "<Figure size 720x360 with 1 Axes>"
      ]
     },
     "metadata": {
      "needs_background": "light"
     },
     "output_type": "display_data"
    }
   ],
   "source": [
    "#Q10\n",
    "#Draw a line chart for Houston Rockets’ FieldGoals, 3PointShots and FreeThrows success rates.\n",
    "#Add an appropriate x_label, y_label, markers and title to the chart (NO SUCH THINGS IN THE FOLLOWING EXAMPLE\n",
    "#FIGURE). Use an appropriate size for the chart.\n",
    "HOU = nba[nba['Team'] == 'HOU']\n",
    "succ_rate = HOU.groupby(nba['Date'].dt.year)[['FieldGoals.','X3PointShots.','FreeThrows.']].mean()\n",
    "successChart = succ_rate.plot( figsize = (10,5))\n",
    "successChart.set_title('Houston Rockets FieldGoals, 3PointShots and FreeThrows success rates')\n",
    "successChart.set_xlabel('Years')\n",
    "successChart.set_ylabel('Success Rate')"
   ]
  },
  {
   "cell_type": "code",
   "execution_count": 63,
   "metadata": {},
   "outputs": [
    {
     "data": {
      "text/plain": [
       "Team  Date\n",
       "ATL   2014    23\n",
       "      2015    58\n",
       "      2016    44\n",
       "      2017    36\n",
       "      2018    14\n",
       "              ..\n",
       "WAS   2014    22\n",
       "      2015    38\n",
       "      2016    43\n",
       "      2017    54\n",
       "      2018    22\n",
       "Name: WINorLOSS, Length: 150, dtype: int64"
      ]
     },
     "execution_count": 63,
     "metadata": {},
     "output_type": "execute_result"
    }
   ],
   "source": [
    "#Q11\n",
    "#Show the number of winning games for each team, each year\n",
    "CountWin = nba[nba['WINorLOSS'] == 'W'].groupby(['Team', nba['Date'].dt.year])['WINorLOSS'].count()\n",
    "CountWin"
   ]
  },
  {
   "cell_type": "code",
   "execution_count": 64,
   "metadata": {},
   "outputs": [
    {
     "data": {
      "text/plain": [
       "<function matplotlib.pyplot.show(*args, **kw)>"
      ]
     },
     "execution_count": 64,
     "metadata": {},
     "output_type": "execute_result"
    },
    {
     "data": {
      "image/png": "[encoded data removed]",
      "text/plain": [
       "<Figure size 432x288 with 1 Axes>"
      ]
     },
     "metadata": {
      "needs_background": "light"
     },
     "output_type": "display_data"
    }
   ],
   "source": [
    "nba['TeamPoints'].plot.density()\n",
    "plt.grid()\n",
    "plt.show"
   ]
  },
  {
   "cell_type": "code",
   "execution_count": 77,
   "metadata": {},
   "outputs": [
    {
     "data": {
      "text/plain": [
       "Text(0, 0.5, 'Win Count')"
      ]
     },
     "execution_count": 77,
     "metadata": {},
     "output_type": "execute_result"
    },
    {
     "data": {
      "image/png": "[encoded data removed]",
      "text/plain": [
       "<Figure size 720x360 with 2 Axes>"
      ]
     },
     "metadata": {
      "needs_background": "light"
     },
     "output_type": "display_data"
    }
   ],
   "source": [
    "###Q12\n",
    "#Create a figure of subplots where it compares the numbers of winning games of HOU and GSW.\n",
    "fig, axes = plt.subplots(1,2, figsize = (10,5))\n",
    "#HouWins = pd.crosstab(nba[nba['Team'] == 'HOU'],nba['WINorLOSS'] == 'W')\n",
    "HouWins = nba[(nba['WINorLOSS'] == 'W') & (nba['Team'] == 'HOU')].groupby(nba['Date'].dt.year)['WINorLOSS'].count()\n",
    "HouWinChart = HouWins.plot.bar(ax = axes[0], color = 'red', title = 'Number of Wins of Houston Rockets')\n",
    "HouWinChart.set_xlabel('Year')\n",
    "HouWinChart.set_ylabel('Win Count')\n",
    "GSWWins = nba[(nba['WINorLOSS'] == 'W') & (nba['Team'] == 'GSW')].groupby(nba['Date'].dt.year)['WINorLOSS'].count()\n",
    "GSWWinChart = HouWins.plot.bar(ax = axes[1], color = 'yellow', title = 'Number of Wins of Golden State Warriors')\n",
    "GSWWinChart.set_xlabel('Year')\n",
    "GSWWinChart.set_ylabel('Win Count')"
   ]
  },
  {
   "cell_type": "code",
   "execution_count": 79,
   "metadata": {},
   "outputs": [],
   "source": [
    "# HouWins = pd.crosstab(nba[nba['Team'] == 'HOU'],nba['WINorLOSS'] == 'W')\n"
   ]
  },
  {
   "cell_type": "code",
   "execution_count": 67,
   "metadata": {},
   "outputs": [
    {
     "data": {
      "image/png": "[encoded data removed]",
      "text/plain": [
       "<Figure size 432x288 with 1 Axes>"
      ]
     },
     "metadata": {
      "needs_background": "light"
     },
     "output_type": "display_data"
    }
   ],
   "source": [
    "#Q13. Create the following charts based on TeamPoints in nba dataframe (not 2017 only). Use bins=20. \n",
    "nba['TeamPoints'].plot.hist(bins = 20)\n",
    "plt.grid()\n",
    "plt.show()"
   ]
  },
  {
   "cell_type": "code",
   "execution_count": 68,
   "metadata": {},
   "outputs": [
    {
     "data": {
      "text/plain": [
       "<function matplotlib.pyplot.show(*args, **kw)>"
      ]
     },
     "execution_count": 68,
     "metadata": {},
     "output_type": "execute_result"
    },
    {
     "data": {
      "image/png": "[encoded data removed]",
      "text/plain": [
       "<Figure size 432x288 with 1 Axes>"
      ]
     },
     "metadata": {
      "needs_background": "light"
     },
     "output_type": "display_data"
    }
   ],
   "source": [
    "nba['TeamPoints'].plot.density()\n",
    "plt.grid()\n",
    "plt.show"
   ]
  },
  {
   "cell_type": "code",
   "execution_count": 69,
   "metadata": {},
   "outputs": [
    {
     "data": {
      "text/plain": [
       "<matplotlib.axes._subplots.AxesSubplot at 0x1c73bd5f508>"
      ]
     },
     "execution_count": 69,
     "metadata": {},
     "output_type": "execute_result"
    },
    {
     "data": {
      "image/png": "[encoded data removed]",
      "text/plain": [
       "<Figure size 432x288 with 1 Axes>"
      ]
     },
     "metadata": {
      "needs_background": "light"
     },
     "output_type": "display_data"
    }
   ],
   "source": [
    "import seaborn as sns\n",
    "sns.distplot(nba['TeamPoints'], bins = 20)"
   ]
  },
  {
   "cell_type": "code",
   "execution_count": null,
   "metadata": {},
   "outputs": [],
   "source": []
  },
  {
   "cell_type": "code",
   "execution_count": null,
   "metadata": {},
   "outputs": [],
   "source": []
  },
  {
   "cell_type": "code",
   "execution_count": 74,
   "metadata": {},
   "outputs": [
    {
     "data": {
      "text/plain": [
       "Text(0.5, 15.0, 'Year')"
      ]
     },
     "execution_count": 74,
     "metadata": {},
     "output_type": "execute_result"
    },
    {
     "data": {
      "image/png": "[encoded data removed]",
      "text/plain": [
       "<Figure size 432x288 with 2 Axes>"
      ]
     },
     "metadata": {
      "needs_background": "light"
     },
     "output_type": "display_data"
    }
   ],
   "source": [
    "#Q14\n",
    "#Draw a heat map based on average TeamPoints for each team, and each year.\n",
    "heatmap1 = nba.pivot_table(index = 'Team',columns = nba['Date'].dt.year, values = 'TeamPoints')\n",
    "heatmap1 = sns.heatmap(heatmap1, cmap = 'YlGnBu')\n",
    "heatmap1.set_title('Team Score Heat Map')\n",
    "heatmap1.set_xlabel('Year')"
   ]
  },
  {
   "cell_type": "code",
   "execution_count": 71,
   "metadata": {},
   "outputs": [
    {
     "name": "stderr",
     "output_type": "stream",
     "text": [
      "C:\\Users\\darsh\\Anaconda3\\lib\\site-packages\\ipykernel_launcher.py:5: FutureWarning: Indexing with multiple keys (implicitly converted to a tuple of keys) will be deprecated, use a list instead.\n",
      "  \"\"\"\n"
     ]
    },
    {
     "data": {
      "text/html": [
       "<div>\n",
       "<style scoped>\n",
       "    .dataframe tbody tr th:only-of-type {\n",
       "        vertical-align: middle;\n",
       "    }\n",
       "\n",
       "    .dataframe tbody tr th {\n",
       "        vertical-align: top;\n",
       "    }\n",
       "\n",
       "    .dataframe thead th {\n",
       "        text-align: right;\n",
       "    }\n",
       "</style>\n",
       "<table border=\"1\" class=\"dataframe\">\n",
       "  <thead>\n",
       "    <tr style=\"text-align: right;\">\n",
       "      <th></th>\n",
       "      <th>FieldGoals.</th>\n",
       "      <th>Opp.FieldGoals.</th>\n",
       "    </tr>\n",
       "    <tr>\n",
       "      <th>Team</th>\n",
       "      <th></th>\n",
       "      <th></th>\n",
       "    </tr>\n",
       "  </thead>\n",
       "  <tbody>\n",
       "    <tr>\n",
       "      <th>BOS</th>\n",
       "      <td>0.456284</td>\n",
       "      <td>0.445352</td>\n",
       "    </tr>\n",
       "    <tr>\n",
       "      <th>GSW</th>\n",
       "      <td>0.500071</td>\n",
       "      <td>0.436082</td>\n",
       "    </tr>\n",
       "    <tr>\n",
       "      <th>SAS</th>\n",
       "      <td>0.464326</td>\n",
       "      <td>0.445919</td>\n",
       "    </tr>\n",
       "    <tr>\n",
       "      <th>TOR</th>\n",
       "      <td>0.465595</td>\n",
       "      <td>0.448488</td>\n",
       "    </tr>\n",
       "  </tbody>\n",
       "</table>\n",
       "</div>"
      ],
      "text/plain": [
       "      FieldGoals.  Opp.FieldGoals.\n",
       "Team                              \n",
       "BOS      0.456284         0.445352\n",
       "GSW      0.500071         0.436082\n",
       "SAS      0.464326         0.445919\n",
       "TOR      0.465595         0.448488"
      ]
     },
     "execution_count": 71,
     "metadata": {},
     "output_type": "execute_result"
    }
   ],
   "source": [
    "#Q15\n",
    "#Display the teams where their FieldGoals. is >= 0.45 and their Opp.FieldGoals. is < 0.45 in 2017\n",
    "\n",
    "\n",
    "pt = nba[nba['Date'].dt.year == 2017].groupby(['Team'])['FieldGoals.','Opp.FieldGoals.'].mean()\n",
    "\n",
    "output = pt[(pt['FieldGoals.'] >= 0.45) & (pt['Opp.FieldGoals.'] < 0.45)]\n",
    "\n",
    "output\n"
   ]
  },
  {
   "cell_type": "code",
   "execution_count": null,
   "metadata": {},
   "outputs": [],
   "source": []
  },
  {
   "cell_type": "raw",
   "metadata": {},
   "source": []
  },
  {
   "cell_type": "code",
   "execution_count": null,
   "metadata": {},
   "outputs": [],
   "source": []
  }
 ],
 "metadata": {
  "kernelspec": {
   "display_name": "Python 3",
   "language": "python",
   "name": "python3"
  },
  "language_info": {
   "codemirror_mode": {
    "name": "ipython",
    "version": 3
   },
   "file_extension": ".py",
   "mimetype": "text/x-python",
   "name": "python",
   "nbconvert_exporter": "python",
   "pygments_lexer": "ipython3",
   "version": "3.7.6"
  }
 },
 "nbformat": 4,
 "nbformat_minor": 4
}
